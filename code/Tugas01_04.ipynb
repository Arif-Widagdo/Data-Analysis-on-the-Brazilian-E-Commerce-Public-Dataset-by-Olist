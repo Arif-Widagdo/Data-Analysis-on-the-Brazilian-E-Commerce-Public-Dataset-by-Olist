{
 "cells": [
  {
   "cell_type": "markdown",
   "id": "facf45d2",
   "metadata": {},
   "source": [
    "# Data Analysis on the Brazilian E-Commerce Public Dataset by Olist\n",
    "Author : Kelompok 18-D [Arif Widagdo, Jonatan Jeremi, Muhammad Idz, Wandi Wardiman]\n",
    "\n",
    "Description : This notebook is our first assignment at SIB E-Commerce to take the first step in implementing data cleaning, data integration and data visualization\n",
    "\n",
    "Outline :\n",
    "1. Data Cleaning\n",
    "2. Data Integration\n",
    "3. Visualisasi Data"
   ]
  },
  {
   "cell_type": "markdown",
   "id": "1820bfee",
   "metadata": {},
   "source": [
    "## Import Library"
   ]
  },
  {
   "cell_type": "code",
   "execution_count": 55,
   "id": "2b888790",
   "metadata": {},
   "outputs": [],
   "source": [
    "import pandas as pd\n",
    "import seaborn as sns\n",
    "import numpy as np\n",
    "from scipy import stats \n",
    "import os\n",
    "import matplotlib.pyplot as plt\n",
    "import folium\n",
    "from folium.plugins import HeatMapWithTime\n",
    "from folium.plugins import HeatMap"
   ]
  },
  {
   "cell_type": "markdown",
   "id": "c10f30a9",
   "metadata": {},
   "source": [
    "## Data Extraction"
   ]
  },
  {
   "cell_type": "code",
   "execution_count": 2,
   "id": "38cfff57",
   "metadata": {},
   "outputs": [
    {
     "data": {
      "text/plain": [
       "['olist_customers_dataset.csv',\n",
       " 'olist_geolocation_dataset.csv',\n",
       " 'olist_orders_dataset.csv',\n",
       " 'olist_order_items_dataset.csv',\n",
       " 'olist_order_payments_dataset.csv',\n",
       " 'olist_order_reviews_dataset.csv',\n",
       " 'olist_products_dataset.csv',\n",
       " 'olist_sellers_dataset.csv',\n",
       " 'product_category_name_translation.csv']"
      ]
     },
     "execution_count": 2,
     "metadata": {},
     "output_type": "execute_result"
    }
   ],
   "source": [
    "## read list dataset in directory data\n",
    "os.listdir(\"../data\")"
   ]
  },
  {
   "cell_type": "code",
   "execution_count": 3,
   "id": "81094010",
   "metadata": {},
   "outputs": [],
   "source": [
    "## check empty value\n",
    "missing_values = [\"?\",\"N/a\",\"na\",np.nan]\n",
    "## read dataset\n",
    "olist_customers = pd.read_csv(\"../data/olist_customers_dataset.csv\" , na_values = missing_values)\n",
    "olist_geolocation = pd.read_csv(\"../data/olist_geolocation_dataset.csv\" , na_values = missing_values)\n",
    "olist_order_items = pd.read_csv(\"../data/olist_order_items_dataset.csv\" , na_values = missing_values)\n",
    "olist_order_payments = pd.read_csv(\"../data/olist_order_payments_dataset.csv\" , na_values = missing_values)\n",
    "olist_order_reviews = pd.read_csv(\"../data/olist_order_reviews_dataset.csv\" , na_values = missing_values)\n",
    "olist_orders = pd.read_csv(\"../data/olist_orders_dataset.csv\" , na_values = missing_values)\n",
    "olist_products = pd.read_csv(\"../data/olist_products_dataset.csv\" , na_values = missing_values)\n",
    "olist_sellers = pd.read_csv(\"../data/olist_sellers_dataset.csv\" , na_values = missing_values)\n",
    "product_category_name_translation= pd.read_csv(\"../data/product_category_name_translation.csv\" , na_values = missing_values)"
   ]
  },
  {
   "cell_type": "markdown",
   "id": "a99412d4",
   "metadata": {},
   "source": [
    "## 1. Data Cleaning"
   ]
  },
  {
   "cell_type": "markdown",
   "id": "49d1e3a8",
   "metadata": {},
   "source": [
    "### - olist_customers_dataset"
   ]
  },
  {
   "cell_type": "code",
   "execution_count": 4,
   "id": "36f963cb",
   "metadata": {},
   "outputs": [
    {
     "data": {
      "text/html": [
       "<div>\n",
       "<style scoped>\n",
       "    .dataframe tbody tr th:only-of-type {\n",
       "        vertical-align: middle;\n",
       "    }\n",
       "\n",
       "    .dataframe tbody tr th {\n",
       "        vertical-align: top;\n",
       "    }\n",
       "\n",
       "    .dataframe thead th {\n",
       "        text-align: right;\n",
       "    }\n",
       "</style>\n",
       "<table border=\"1\" class=\"dataframe\">\n",
       "  <thead>\n",
       "    <tr style=\"text-align: right;\">\n",
       "      <th></th>\n",
       "      <th>customer_id</th>\n",
       "      <th>customer_unique_id</th>\n",
       "      <th>customer_zip_code_prefix</th>\n",
       "      <th>customer_city</th>\n",
       "      <th>customer_state</th>\n",
       "    </tr>\n",
       "  </thead>\n",
       "  <tbody>\n",
       "    <tr>\n",
       "      <th>0</th>\n",
       "      <td>06b8999e2fba1a1fbc88172c00ba8bc7</td>\n",
       "      <td>861eff4711a542e4b93843c6dd7febb0</td>\n",
       "      <td>14409</td>\n",
       "      <td>franca</td>\n",
       "      <td>SP</td>\n",
       "    </tr>\n",
       "    <tr>\n",
       "      <th>1</th>\n",
       "      <td>18955e83d337fd6b2def6b18a428ac77</td>\n",
       "      <td>290c77bc529b7ac935b93aa66c333dc3</td>\n",
       "      <td>9790</td>\n",
       "      <td>sao bernardo do campo</td>\n",
       "      <td>SP</td>\n",
       "    </tr>\n",
       "  </tbody>\n",
       "</table>\n",
       "</div>"
      ],
      "text/plain": [
       "                        customer_id                customer_unique_id  \\\n",
       "0  06b8999e2fba1a1fbc88172c00ba8bc7  861eff4711a542e4b93843c6dd7febb0   \n",
       "1  18955e83d337fd6b2def6b18a428ac77  290c77bc529b7ac935b93aa66c333dc3   \n",
       "\n",
       "   customer_zip_code_prefix          customer_city customer_state  \n",
       "0                     14409                 franca             SP  \n",
       "1                      9790  sao bernardo do campo             SP  "
      ]
     },
     "execution_count": 4,
     "metadata": {},
     "output_type": "execute_result"
    }
   ],
   "source": [
    "olist_customers.head(2)"
   ]
  },
  {
   "cell_type": "markdown",
   "id": "a6281d1b",
   "metadata": {},
   "source": [
    "### - olist_geolocation_dataset"
   ]
  },
  {
   "cell_type": "code",
   "execution_count": 5,
   "id": "5ac58ffe",
   "metadata": {},
   "outputs": [
    {
     "data": {
      "text/html": [
       "<div>\n",
       "<style scoped>\n",
       "    .dataframe tbody tr th:only-of-type {\n",
       "        vertical-align: middle;\n",
       "    }\n",
       "\n",
       "    .dataframe tbody tr th {\n",
       "        vertical-align: top;\n",
       "    }\n",
       "\n",
       "    .dataframe thead th {\n",
       "        text-align: right;\n",
       "    }\n",
       "</style>\n",
       "<table border=\"1\" class=\"dataframe\">\n",
       "  <thead>\n",
       "    <tr style=\"text-align: right;\">\n",
       "      <th></th>\n",
       "      <th>geolocation_zip_code_prefix</th>\n",
       "      <th>geolocation_lat</th>\n",
       "      <th>geolocation_lng</th>\n",
       "      <th>geolocation_city</th>\n",
       "      <th>geolocation_state</th>\n",
       "    </tr>\n",
       "  </thead>\n",
       "  <tbody>\n",
       "    <tr>\n",
       "      <th>0</th>\n",
       "      <td>1037</td>\n",
       "      <td>-23.545621</td>\n",
       "      <td>-46.639292</td>\n",
       "      <td>sao paulo</td>\n",
       "      <td>SP</td>\n",
       "    </tr>\n",
       "    <tr>\n",
       "      <th>1</th>\n",
       "      <td>1046</td>\n",
       "      <td>-23.546081</td>\n",
       "      <td>-46.644820</td>\n",
       "      <td>sao paulo</td>\n",
       "      <td>SP</td>\n",
       "    </tr>\n",
       "  </tbody>\n",
       "</table>\n",
       "</div>"
      ],
      "text/plain": [
       "   geolocation_zip_code_prefix  geolocation_lat  geolocation_lng  \\\n",
       "0                         1037       -23.545621       -46.639292   \n",
       "1                         1046       -23.546081       -46.644820   \n",
       "\n",
       "  geolocation_city geolocation_state  \n",
       "0        sao paulo                SP  \n",
       "1        sao paulo                SP  "
      ]
     },
     "execution_count": 5,
     "metadata": {},
     "output_type": "execute_result"
    }
   ],
   "source": [
    "olist_geolocation.head(2)"
   ]
  },
  {
   "cell_type": "markdown",
   "id": "4b952cb5",
   "metadata": {},
   "source": [
    "### - olist_order_items_dataset"
   ]
  },
  {
   "cell_type": "code",
   "execution_count": 6,
   "id": "2abb63a3",
   "metadata": {},
   "outputs": [
    {
     "data": {
      "text/html": [
       "<div>\n",
       "<style scoped>\n",
       "    .dataframe tbody tr th:only-of-type {\n",
       "        vertical-align: middle;\n",
       "    }\n",
       "\n",
       "    .dataframe tbody tr th {\n",
       "        vertical-align: top;\n",
       "    }\n",
       "\n",
       "    .dataframe thead th {\n",
       "        text-align: right;\n",
       "    }\n",
       "</style>\n",
       "<table border=\"1\" class=\"dataframe\">\n",
       "  <thead>\n",
       "    <tr style=\"text-align: right;\">\n",
       "      <th></th>\n",
       "      <th>order_id</th>\n",
       "      <th>order_item_id</th>\n",
       "      <th>product_id</th>\n",
       "      <th>seller_id</th>\n",
       "      <th>shipping_limit_date</th>\n",
       "      <th>price</th>\n",
       "      <th>freight_value</th>\n",
       "    </tr>\n",
       "  </thead>\n",
       "  <tbody>\n",
       "    <tr>\n",
       "      <th>0</th>\n",
       "      <td>00010242fe8c5a6d1ba2dd792cb16214</td>\n",
       "      <td>1</td>\n",
       "      <td>4244733e06e7ecb4970a6e2683c13e61</td>\n",
       "      <td>48436dade18ac8b2bce089ec2a041202</td>\n",
       "      <td>2017-09-19 09:45:35</td>\n",
       "      <td>58.9</td>\n",
       "      <td>13.29</td>\n",
       "    </tr>\n",
       "    <tr>\n",
       "      <th>1</th>\n",
       "      <td>00018f77f2f0320c557190d7a144bdd3</td>\n",
       "      <td>1</td>\n",
       "      <td>e5f2d52b802189ee658865ca93d83a8f</td>\n",
       "      <td>dd7ddc04e1b6c2c614352b383efe2d36</td>\n",
       "      <td>2017-05-03 11:05:13</td>\n",
       "      <td>239.9</td>\n",
       "      <td>19.93</td>\n",
       "    </tr>\n",
       "  </tbody>\n",
       "</table>\n",
       "</div>"
      ],
      "text/plain": [
       "                           order_id  order_item_id  \\\n",
       "0  00010242fe8c5a6d1ba2dd792cb16214              1   \n",
       "1  00018f77f2f0320c557190d7a144bdd3              1   \n",
       "\n",
       "                         product_id                         seller_id  \\\n",
       "0  4244733e06e7ecb4970a6e2683c13e61  48436dade18ac8b2bce089ec2a041202   \n",
       "1  e5f2d52b802189ee658865ca93d83a8f  dd7ddc04e1b6c2c614352b383efe2d36   \n",
       "\n",
       "   shipping_limit_date  price  freight_value  \n",
       "0  2017-09-19 09:45:35   58.9          13.29  \n",
       "1  2017-05-03 11:05:13  239.9          19.93  "
      ]
     },
     "execution_count": 6,
     "metadata": {},
     "output_type": "execute_result"
    }
   ],
   "source": [
    "olist_order_items.head(2)"
   ]
  },
  {
   "cell_type": "markdown",
   "id": "8c7d9b19",
   "metadata": {},
   "source": [
    "### - olist_order_payments_dataset"
   ]
  },
  {
   "cell_type": "code",
   "execution_count": 7,
   "id": "e3901ce8",
   "metadata": {},
   "outputs": [
    {
     "data": {
      "text/html": [
       "<div>\n",
       "<style scoped>\n",
       "    .dataframe tbody tr th:only-of-type {\n",
       "        vertical-align: middle;\n",
       "    }\n",
       "\n",
       "    .dataframe tbody tr th {\n",
       "        vertical-align: top;\n",
       "    }\n",
       "\n",
       "    .dataframe thead th {\n",
       "        text-align: right;\n",
       "    }\n",
       "</style>\n",
       "<table border=\"1\" class=\"dataframe\">\n",
       "  <thead>\n",
       "    <tr style=\"text-align: right;\">\n",
       "      <th></th>\n",
       "      <th>order_id</th>\n",
       "      <th>payment_sequential</th>\n",
       "      <th>payment_type</th>\n",
       "      <th>payment_installments</th>\n",
       "      <th>payment_value</th>\n",
       "    </tr>\n",
       "  </thead>\n",
       "  <tbody>\n",
       "    <tr>\n",
       "      <th>0</th>\n",
       "      <td>b81ef226f3fe1789b1e8b2acac839d17</td>\n",
       "      <td>1</td>\n",
       "      <td>credit_card</td>\n",
       "      <td>8</td>\n",
       "      <td>99.33</td>\n",
       "    </tr>\n",
       "    <tr>\n",
       "      <th>1</th>\n",
       "      <td>a9810da82917af2d9aefd1278f1dcfa0</td>\n",
       "      <td>1</td>\n",
       "      <td>credit_card</td>\n",
       "      <td>1</td>\n",
       "      <td>24.39</td>\n",
       "    </tr>\n",
       "  </tbody>\n",
       "</table>\n",
       "</div>"
      ],
      "text/plain": [
       "                           order_id  payment_sequential payment_type  \\\n",
       "0  b81ef226f3fe1789b1e8b2acac839d17                   1  credit_card   \n",
       "1  a9810da82917af2d9aefd1278f1dcfa0                   1  credit_card   \n",
       "\n",
       "   payment_installments  payment_value  \n",
       "0                     8          99.33  \n",
       "1                     1          24.39  "
      ]
     },
     "execution_count": 7,
     "metadata": {},
     "output_type": "execute_result"
    }
   ],
   "source": [
    "olist_order_payments.head(2)"
   ]
  },
  {
   "cell_type": "markdown",
   "id": "eb30e20a",
   "metadata": {},
   "source": [
    "### - olist_order_reviews_dataset"
   ]
  },
  {
   "cell_type": "code",
   "execution_count": 8,
   "id": "10bd9418",
   "metadata": {},
   "outputs": [
    {
     "data": {
      "text/html": [
       "<div>\n",
       "<style scoped>\n",
       "    .dataframe tbody tr th:only-of-type {\n",
       "        vertical-align: middle;\n",
       "    }\n",
       "\n",
       "    .dataframe tbody tr th {\n",
       "        vertical-align: top;\n",
       "    }\n",
       "\n",
       "    .dataframe thead th {\n",
       "        text-align: right;\n",
       "    }\n",
       "</style>\n",
       "<table border=\"1\" class=\"dataframe\">\n",
       "  <thead>\n",
       "    <tr style=\"text-align: right;\">\n",
       "      <th></th>\n",
       "      <th>review_id</th>\n",
       "      <th>order_id</th>\n",
       "      <th>review_score</th>\n",
       "      <th>review_comment_title</th>\n",
       "      <th>review_comment_message</th>\n",
       "      <th>review_creation_date</th>\n",
       "      <th>review_answer_timestamp</th>\n",
       "    </tr>\n",
       "  </thead>\n",
       "  <tbody>\n",
       "    <tr>\n",
       "      <th>0</th>\n",
       "      <td>7bc2406110b926393aa56f80a40eba40</td>\n",
       "      <td>73fc7af87114b39712e6da79b0a377eb</td>\n",
       "      <td>4</td>\n",
       "      <td>NaN</td>\n",
       "      <td>NaN</td>\n",
       "      <td>2018-01-18 00:00:00</td>\n",
       "      <td>2018-01-18 21:46:59</td>\n",
       "    </tr>\n",
       "    <tr>\n",
       "      <th>1</th>\n",
       "      <td>80e641a11e56f04c1ad469d5645fdfde</td>\n",
       "      <td>a548910a1c6147796b98fdf73dbeba33</td>\n",
       "      <td>5</td>\n",
       "      <td>NaN</td>\n",
       "      <td>NaN</td>\n",
       "      <td>2018-03-10 00:00:00</td>\n",
       "      <td>2018-03-11 03:05:13</td>\n",
       "    </tr>\n",
       "  </tbody>\n",
       "</table>\n",
       "</div>"
      ],
      "text/plain": [
       "                          review_id                          order_id  \\\n",
       "0  7bc2406110b926393aa56f80a40eba40  73fc7af87114b39712e6da79b0a377eb   \n",
       "1  80e641a11e56f04c1ad469d5645fdfde  a548910a1c6147796b98fdf73dbeba33   \n",
       "\n",
       "   review_score review_comment_title review_comment_message  \\\n",
       "0             4                  NaN                    NaN   \n",
       "1             5                  NaN                    NaN   \n",
       "\n",
       "  review_creation_date review_answer_timestamp  \n",
       "0  2018-01-18 00:00:00     2018-01-18 21:46:59  \n",
       "1  2018-03-10 00:00:00     2018-03-11 03:05:13  "
      ]
     },
     "execution_count": 8,
     "metadata": {},
     "output_type": "execute_result"
    }
   ],
   "source": [
    "olist_order_reviews.head(2)"
   ]
  },
  {
   "cell_type": "markdown",
   "id": "cbab62ad",
   "metadata": {},
   "source": [
    "#### check empty value in olist_order_reviews_dataset"
   ]
  },
  {
   "cell_type": "code",
   "execution_count": 9,
   "id": "fc7ca5cb",
   "metadata": {},
   "outputs": [
    {
     "data": {
      "text/plain": [
       "(99224, 7)"
      ]
     },
     "execution_count": 9,
     "metadata": {},
     "output_type": "execute_result"
    }
   ],
   "source": [
    "olist_order_reviews.shape"
   ]
  },
  {
   "cell_type": "code",
   "execution_count": 10,
   "id": "fe659081",
   "metadata": {},
   "outputs": [
    {
     "data": {
      "text/plain": [
       "review_id                      0\n",
       "order_id                       0\n",
       "review_score                   0\n",
       "review_comment_title       87657\n",
       "review_comment_message     58251\n",
       "review_creation_date           0\n",
       "review_answer_timestamp        0\n",
       "dtype: int64"
      ]
     },
     "execution_count": 10,
     "metadata": {},
     "output_type": "execute_result"
    }
   ],
   "source": [
    "olist_order_reviews.isnull().sum()"
   ]
  },
  {
   "cell_type": "code",
   "execution_count": 11,
   "id": "d610030d",
   "metadata": {},
   "outputs": [
    {
     "data": {
      "text/plain": [
       "review_id                  False\n",
       "order_id                   False\n",
       "review_score               False\n",
       "review_comment_title        True\n",
       "review_comment_message      True\n",
       "review_creation_date       False\n",
       "review_answer_timestamp    False\n",
       "dtype: bool"
      ]
     },
     "execution_count": 11,
     "metadata": {},
     "output_type": "execute_result"
    }
   ],
   "source": [
    "olist_order_reviews.isnull().any()"
   ]
  },
  {
   "cell_type": "code",
   "execution_count": 12,
   "id": "0d659654",
   "metadata": {},
   "outputs": [
    {
     "data": {
      "text/plain": [
       "<AxesSubplot:>"
      ]
     },
     "execution_count": 12,
     "metadata": {},
     "output_type": "execute_result"
    },
    {
     "data": {
      "image/png": "[encoded data removed]",
      "text/plain": [
       "<Figure size 432x288 with 2 Axes>"
      ]
     },
     "metadata": {
      "needs_background": "light"
     },
     "output_type": "display_data"
    }
   ],
   "source": [
    "sns.heatmap(olist_order_reviews.isnull(), yticklabels=False)"
   ]
  },
  {
   "cell_type": "markdown",
   "id": "b922a370",
   "metadata": {},
   "source": [
    "#### solution"
   ]
  },
  {
   "cell_type": "code",
   "execution_count": 13,
   "id": "fd619363",
   "metadata": {},
   "outputs": [
    {
     "data": {
      "text/html": [
       "<div>\n",
       "<style scoped>\n",
       "    .dataframe tbody tr th:only-of-type {\n",
       "        vertical-align: middle;\n",
       "    }\n",
       "\n",
       "    .dataframe tbody tr th {\n",
       "        vertical-align: top;\n",
       "    }\n",
       "\n",
       "    .dataframe thead th {\n",
       "        text-align: right;\n",
       "    }\n",
       "</style>\n",
       "<table border=\"1\" class=\"dataframe\">\n",
       "  <thead>\n",
       "    <tr style=\"text-align: right;\">\n",
       "      <th></th>\n",
       "      <th>review_id</th>\n",
       "      <th>order_id</th>\n",
       "      <th>review_score</th>\n",
       "      <th>review_creation_date</th>\n",
       "      <th>review_answer_timestamp</th>\n",
       "    </tr>\n",
       "  </thead>\n",
       "  <tbody>\n",
       "    <tr>\n",
       "      <th>0</th>\n",
       "      <td>7bc2406110b926393aa56f80a40eba40</td>\n",
       "      <td>73fc7af87114b39712e6da79b0a377eb</td>\n",
       "      <td>4</td>\n",
       "      <td>2018-01-18 00:00:00</td>\n",
       "      <td>2018-01-18 21:46:59</td>\n",
       "    </tr>\n",
       "    <tr>\n",
       "      <th>1</th>\n",
       "      <td>80e641a11e56f04c1ad469d5645fdfde</td>\n",
       "      <td>a548910a1c6147796b98fdf73dbeba33</td>\n",
       "      <td>5</td>\n",
       "      <td>2018-03-10 00:00:00</td>\n",
       "      <td>2018-03-11 03:05:13</td>\n",
       "    </tr>\n",
       "  </tbody>\n",
       "</table>\n",
       "</div>"
      ],
      "text/plain": [
       "                          review_id                          order_id  \\\n",
       "0  7bc2406110b926393aa56f80a40eba40  73fc7af87114b39712e6da79b0a377eb   \n",
       "1  80e641a11e56f04c1ad469d5645fdfde  a548910a1c6147796b98fdf73dbeba33   \n",
       "\n",
       "   review_score review_creation_date review_answer_timestamp  \n",
       "0             4  2018-01-18 00:00:00     2018-01-18 21:46:59  \n",
       "1             5  2018-03-10 00:00:00     2018-03-11 03:05:13  "
      ]
     },
     "execution_count": 13,
     "metadata": {},
     "output_type": "execute_result"
    }
   ],
   "source": [
    "## remove review_comment_title column & review_comment_message column \n",
    "olist_order_reviews = olist_order_reviews.drop(['review_comment_title'], axis=1)\n",
    "olist_order_reviews = olist_order_reviews.drop(['review_comment_message'], axis=1)\n",
    "olist_order_reviews.head(2)"
   ]
  },
  {
   "cell_type": "code",
   "execution_count": 14,
   "id": "efc8efc1",
   "metadata": {},
   "outputs": [
    {
     "data": {
      "text/plain": [
       "review_id                  0\n",
       "order_id                   0\n",
       "review_score               0\n",
       "review_creation_date       0\n",
       "review_answer_timestamp    0\n",
       "dtype: int64"
      ]
     },
     "execution_count": 14,
     "metadata": {},
     "output_type": "execute_result"
    }
   ],
   "source": [
    "olist_order_reviews.isnull().sum()"
   ]
  },
  {
   "cell_type": "markdown",
   "id": "440e4364",
   "metadata": {},
   "source": [
    "### - olist_orders_dataset"
   ]
  },
  {
   "cell_type": "code",
   "execution_count": 15,
   "id": "d9104186",
   "metadata": {},
   "outputs": [
    {
     "data": {
      "text/html": [
       "<div>\n",
       "<style scoped>\n",
       "    .dataframe tbody tr th:only-of-type {\n",
       "        vertical-align: middle;\n",
       "    }\n",
       "\n",
       "    .dataframe tbody tr th {\n",
       "        vertical-align: top;\n",
       "    }\n",
       "\n",
       "    .dataframe thead th {\n",
       "        text-align: right;\n",
       "    }\n",
       "</style>\n",
       "<table border=\"1\" class=\"dataframe\">\n",
       "  <thead>\n",
       "    <tr style=\"text-align: right;\">\n",
       "      <th></th>\n",
       "      <th>order_id</th>\n",
       "      <th>customer_id</th>\n",
       "      <th>order_status</th>\n",
       "      <th>order_purchase_timestamp</th>\n",
       "      <th>order_approved_at</th>\n",
       "      <th>order_delivered_carrier_date</th>\n",
       "      <th>order_delivered_customer_date</th>\n",
       "      <th>order_estimated_delivery_date</th>\n",
       "    </tr>\n",
       "  </thead>\n",
       "  <tbody>\n",
       "    <tr>\n",
       "      <th>0</th>\n",
       "      <td>e481f51cbdc54678b7cc49136f2d6af7</td>\n",
       "      <td>9ef432eb6251297304e76186b10a928d</td>\n",
       "      <td>delivered</td>\n",
       "      <td>2017-10-02 10:56:33</td>\n",
       "      <td>2017-10-02 11:07:15</td>\n",
       "      <td>2017-10-04 19:55:00</td>\n",
       "      <td>2017-10-10 21:25:13</td>\n",
       "      <td>2017-10-18 00:00:00</td>\n",
       "    </tr>\n",
       "    <tr>\n",
       "      <th>1</th>\n",
       "      <td>53cdb2fc8bc7dce0b6741e2150273451</td>\n",
       "      <td>b0830fb4747a6c6d20dea0b8c802d7ef</td>\n",
       "      <td>delivered</td>\n",
       "      <td>2018-07-24 20:41:37</td>\n",
       "      <td>2018-07-26 03:24:27</td>\n",
       "      <td>2018-07-26 14:31:00</td>\n",
       "      <td>2018-08-07 15:27:45</td>\n",
       "      <td>2018-08-13 00:00:00</td>\n",
       "    </tr>\n",
       "  </tbody>\n",
       "</table>\n",
       "</div>"
      ],
      "text/plain": [
       "                           order_id                       customer_id  \\\n",
       "0  e481f51cbdc54678b7cc49136f2d6af7  9ef432eb6251297304e76186b10a928d   \n",
       "1  53cdb2fc8bc7dce0b6741e2150273451  b0830fb4747a6c6d20dea0b8c802d7ef   \n",
       "\n",
       "  order_status order_purchase_timestamp    order_approved_at  \\\n",
       "0    delivered      2017-10-02 10:56:33  2017-10-02 11:07:15   \n",
       "1    delivered      2018-07-24 20:41:37  2018-07-26 03:24:27   \n",
       "\n",
       "  order_delivered_carrier_date order_delivered_customer_date  \\\n",
       "0          2017-10-04 19:55:00           2017-10-10 21:25:13   \n",
       "1          2018-07-26 14:31:00           2018-08-07 15:27:45   \n",
       "\n",
       "  order_estimated_delivery_date  \n",
       "0           2017-10-18 00:00:00  \n",
       "1           2018-08-13 00:00:00  "
      ]
     },
     "execution_count": 15,
     "metadata": {},
     "output_type": "execute_result"
    }
   ],
   "source": [
    "olist_orders.head(2)"
   ]
  },
  {
   "cell_type": "markdown",
   "id": "9d2a49cf",
   "metadata": {},
   "source": [
    "#### check empty value in olist_orders_dataset"
   ]
  },
  {
   "cell_type": "code",
   "execution_count": 16,
   "id": "a9de300b",
   "metadata": {},
   "outputs": [
    {
     "data": {
      "text/plain": [
       "(99441, 8)"
      ]
     },
     "execution_count": 16,
     "metadata": {},
     "output_type": "execute_result"
    }
   ],
   "source": [
    "olist_orders.shape"
   ]
  },
  {
   "cell_type": "code",
   "execution_count": 17,
   "id": "37e7f980",
   "metadata": {},
   "outputs": [
    {
     "data": {
      "text/plain": [
       "order_id                            0\n",
       "customer_id                         0\n",
       "order_status                        0\n",
       "order_purchase_timestamp            0\n",
       "order_approved_at                 160\n",
       "order_delivered_carrier_date     1783\n",
       "order_delivered_customer_date    2965\n",
       "order_estimated_delivery_date       0\n",
       "dtype: int64"
      ]
     },
     "execution_count": 17,
     "metadata": {},
     "output_type": "execute_result"
    }
   ],
   "source": [
    "olist_orders.isnull().sum()"
   ]
  },
  {
   "cell_type": "code",
   "execution_count": 18,
   "id": "df6945b2",
   "metadata": {},
   "outputs": [
    {
     "data": {
      "text/plain": [
       "order_id                         False\n",
       "customer_id                      False\n",
       "order_status                     False\n",
       "order_purchase_timestamp         False\n",
       "order_approved_at                 True\n",
       "order_delivered_carrier_date      True\n",
       "order_delivered_customer_date     True\n",
       "order_estimated_delivery_date    False\n",
       "dtype: bool"
      ]
     },
     "execution_count": 18,
     "metadata": {},
     "output_type": "execute_result"
    }
   ],
   "source": [
    "olist_orders.isnull().any()"
   ]
  },
  {
   "cell_type": "markdown",
   "id": "95504cd1",
   "metadata": {},
   "source": [
    "#### solution"
   ]
  },
  {
   "cell_type": "code",
   "execution_count": 19,
   "id": "7258e1fb",
   "metadata": {},
   "outputs": [
    {
     "data": {
      "text/plain": [
       "(96461, 8)"
      ]
     },
     "execution_count": 19,
     "metadata": {},
     "output_type": "execute_result"
    }
   ],
   "source": [
    "## if all the columns do not contain values then use the following source code :\n",
    "## olist_orders2 = olist_orders.dropna(how='all')\n",
    "\n",
    "## else if only some values are missing in the column and you don't want to delete those rows, \n",
    "## you can use the following source code: \n",
    "## olist_orders2 = olist_orders.fillna(0)\n",
    "\n",
    "## else if only some values are missing in the column and you want to fill those data with the values in the previous row (duplicates), \n",
    "## you can use the following source code :\n",
    "## olist_orders2 = olist_orders.fillna(method='ffill')\n",
    "\n",
    "## else if only some values are missing in the column and you want to fill those data with the values in the next row (duplicates), \n",
    "## you can use the following source code :\n",
    "## olist_products2 = olist_products.fillna(method='bfill')\n",
    "\n",
    "## you can use the following source code :\n",
    "## olist_products2 = olist_products.interpolate()\n",
    "\n",
    "\n",
    "olist_orders2 = olist_orders.dropna()\n",
    "olist_orders2.shape"
   ]
  },
  {
   "cell_type": "code",
   "execution_count": 20,
   "id": "cc7f2a90",
   "metadata": {},
   "outputs": [
    {
     "data": {
      "text/plain": [
       "order_id                         0\n",
       "customer_id                      0\n",
       "order_status                     0\n",
       "order_purchase_timestamp         0\n",
       "order_approved_at                0\n",
       "order_delivered_carrier_date     0\n",
       "order_delivered_customer_date    0\n",
       "order_estimated_delivery_date    0\n",
       "dtype: int64"
      ]
     },
     "execution_count": 20,
     "metadata": {},
     "output_type": "execute_result"
    }
   ],
   "source": [
    "olist_orders2.isnull().sum()"
   ]
  },
  {
   "cell_type": "markdown",
   "id": "6281a6ff",
   "metadata": {},
   "source": [
    "### - olist_products_dataset"
   ]
  },
  {
   "cell_type": "code",
   "execution_count": 21,
   "id": "41eb79e6",
   "metadata": {},
   "outputs": [
    {
     "data": {
      "text/html": [
       "<div>\n",
       "<style scoped>\n",
       "    .dataframe tbody tr th:only-of-type {\n",
       "        vertical-align: middle;\n",
       "    }\n",
       "\n",
       "    .dataframe tbody tr th {\n",
       "        vertical-align: top;\n",
       "    }\n",
       "\n",
       "    .dataframe thead th {\n",
       "        text-align: right;\n",
       "    }\n",
       "</style>\n",
       "<table border=\"1\" class=\"dataframe\">\n",
       "  <thead>\n",
       "    <tr style=\"text-align: right;\">\n",
       "      <th></th>\n",
       "      <th>product_id</th>\n",
       "      <th>product_category_name</th>\n",
       "      <th>product_name_lenght</th>\n",
       "      <th>product_description_lenght</th>\n",
       "      <th>product_photos_qty</th>\n",
       "      <th>product_weight_g</th>\n",
       "      <th>product_length_cm</th>\n",
       "      <th>product_height_cm</th>\n",
       "      <th>product_width_cm</th>\n",
       "    </tr>\n",
       "  </thead>\n",
       "  <tbody>\n",
       "    <tr>\n",
       "      <th>0</th>\n",
       "      <td>1e9e8ef04dbcff4541ed26657ea517e5</td>\n",
       "      <td>perfumaria</td>\n",
       "      <td>40.0</td>\n",
       "      <td>287.0</td>\n",
       "      <td>1.0</td>\n",
       "      <td>225.0</td>\n",
       "      <td>16.0</td>\n",
       "      <td>10.0</td>\n",
       "      <td>14.0</td>\n",
       "    </tr>\n",
       "    <tr>\n",
       "      <th>1</th>\n",
       "      <td>3aa071139cb16b67ca9e5dea641aaa2f</td>\n",
       "      <td>artes</td>\n",
       "      <td>44.0</td>\n",
       "      <td>276.0</td>\n",
       "      <td>1.0</td>\n",
       "      <td>1000.0</td>\n",
       "      <td>30.0</td>\n",
       "      <td>18.0</td>\n",
       "      <td>20.0</td>\n",
       "    </tr>\n",
       "    <tr>\n",
       "      <th>2</th>\n",
       "      <td>96bd76ec8810374ed1b65e291975717f</td>\n",
       "      <td>esporte_lazer</td>\n",
       "      <td>46.0</td>\n",
       "      <td>250.0</td>\n",
       "      <td>1.0</td>\n",
       "      <td>154.0</td>\n",
       "      <td>18.0</td>\n",
       "      <td>9.0</td>\n",
       "      <td>15.0</td>\n",
       "    </tr>\n",
       "    <tr>\n",
       "      <th>3</th>\n",
       "      <td>cef67bcfe19066a932b7673e239eb23d</td>\n",
       "      <td>bebes</td>\n",
       "      <td>27.0</td>\n",
       "      <td>261.0</td>\n",
       "      <td>1.0</td>\n",
       "      <td>371.0</td>\n",
       "      <td>26.0</td>\n",
       "      <td>4.0</td>\n",
       "      <td>26.0</td>\n",
       "    </tr>\n",
       "    <tr>\n",
       "      <th>4</th>\n",
       "      <td>9dc1a7de274444849c219cff195d0b71</td>\n",
       "      <td>utilidades_domesticas</td>\n",
       "      <td>37.0</td>\n",
       "      <td>402.0</td>\n",
       "      <td>4.0</td>\n",
       "      <td>625.0</td>\n",
       "      <td>20.0</td>\n",
       "      <td>17.0</td>\n",
       "      <td>13.0</td>\n",
       "    </tr>\n",
       "    <tr>\n",
       "      <th>...</th>\n",
       "      <td>...</td>\n",
       "      <td>...</td>\n",
       "      <td>...</td>\n",
       "      <td>...</td>\n",
       "      <td>...</td>\n",
       "      <td>...</td>\n",
       "      <td>...</td>\n",
       "      <td>...</td>\n",
       "      <td>...</td>\n",
       "    </tr>\n",
       "    <tr>\n",
       "      <th>32946</th>\n",
       "      <td>a0b7d5a992ccda646f2d34e418fff5a0</td>\n",
       "      <td>moveis_decoracao</td>\n",
       "      <td>45.0</td>\n",
       "      <td>67.0</td>\n",
       "      <td>2.0</td>\n",
       "      <td>12300.0</td>\n",
       "      <td>40.0</td>\n",
       "      <td>40.0</td>\n",
       "      <td>40.0</td>\n",
       "    </tr>\n",
       "    <tr>\n",
       "      <th>32947</th>\n",
       "      <td>bf4538d88321d0fd4412a93c974510e6</td>\n",
       "      <td>construcao_ferramentas_iluminacao</td>\n",
       "      <td>41.0</td>\n",
       "      <td>971.0</td>\n",
       "      <td>1.0</td>\n",
       "      <td>1700.0</td>\n",
       "      <td>16.0</td>\n",
       "      <td>19.0</td>\n",
       "      <td>16.0</td>\n",
       "    </tr>\n",
       "    <tr>\n",
       "      <th>32948</th>\n",
       "      <td>9a7c6041fa9592d9d9ef6cfe62a71f8c</td>\n",
       "      <td>cama_mesa_banho</td>\n",
       "      <td>50.0</td>\n",
       "      <td>799.0</td>\n",
       "      <td>1.0</td>\n",
       "      <td>1400.0</td>\n",
       "      <td>27.0</td>\n",
       "      <td>7.0</td>\n",
       "      <td>27.0</td>\n",
       "    </tr>\n",
       "    <tr>\n",
       "      <th>32949</th>\n",
       "      <td>83808703fc0706a22e264b9d75f04a2e</td>\n",
       "      <td>informatica_acessorios</td>\n",
       "      <td>60.0</td>\n",
       "      <td>156.0</td>\n",
       "      <td>2.0</td>\n",
       "      <td>700.0</td>\n",
       "      <td>31.0</td>\n",
       "      <td>13.0</td>\n",
       "      <td>20.0</td>\n",
       "    </tr>\n",
       "    <tr>\n",
       "      <th>32950</th>\n",
       "      <td>106392145fca363410d287a815be6de4</td>\n",
       "      <td>cama_mesa_banho</td>\n",
       "      <td>58.0</td>\n",
       "      <td>309.0</td>\n",
       "      <td>1.0</td>\n",
       "      <td>2083.0</td>\n",
       "      <td>12.0</td>\n",
       "      <td>2.0</td>\n",
       "      <td>7.0</td>\n",
       "    </tr>\n",
       "  </tbody>\n",
       "</table>\n",
       "<p>32951 rows × 9 columns</p>\n",
       "</div>"
      ],
      "text/plain": [
       "                             product_id              product_category_name  \\\n",
       "0      1e9e8ef04dbcff4541ed26657ea517e5                         perfumaria   \n",
       "1      3aa071139cb16b67ca9e5dea641aaa2f                              artes   \n",
       "2      96bd76ec8810374ed1b65e291975717f                      esporte_lazer   \n",
       "3      cef67bcfe19066a932b7673e239eb23d                              bebes   \n",
       "4      9dc1a7de274444849c219cff195d0b71              utilidades_domesticas   \n",
       "...                                 ...                                ...   \n",
       "32946  a0b7d5a992ccda646f2d34e418fff5a0                   moveis_decoracao   \n",
       "32947  bf4538d88321d0fd4412a93c974510e6  construcao_ferramentas_iluminacao   \n",
       "32948  9a7c6041fa9592d9d9ef6cfe62a71f8c                    cama_mesa_banho   \n",
       "32949  83808703fc0706a22e264b9d75f04a2e             informatica_acessorios   \n",
       "32950  106392145fca363410d287a815be6de4                    cama_mesa_banho   \n",
       "\n",
       "       product_name_lenght  product_description_lenght  product_photos_qty  \\\n",
       "0                     40.0                       287.0                 1.0   \n",
       "1                     44.0                       276.0                 1.0   \n",
       "2                     46.0                       250.0                 1.0   \n",
       "3                     27.0                       261.0                 1.0   \n",
       "4                     37.0                       402.0                 4.0   \n",
       "...                    ...                         ...                 ...   \n",
       "32946                 45.0                        67.0                 2.0   \n",
       "32947                 41.0                       971.0                 1.0   \n",
       "32948                 50.0                       799.0                 1.0   \n",
       "32949                 60.0                       156.0                 2.0   \n",
       "32950                 58.0                       309.0                 1.0   \n",
       "\n",
       "       product_weight_g  product_length_cm  product_height_cm  \\\n",
       "0                 225.0               16.0               10.0   \n",
       "1                1000.0               30.0               18.0   \n",
       "2                 154.0               18.0                9.0   \n",
       "3                 371.0               26.0                4.0   \n",
       "4                 625.0               20.0               17.0   \n",
       "...                 ...                ...                ...   \n",
       "32946           12300.0               40.0               40.0   \n",
       "32947            1700.0               16.0               19.0   \n",
       "32948            1400.0               27.0                7.0   \n",
       "32949             700.0               31.0               13.0   \n",
       "32950            2083.0               12.0                2.0   \n",
       "\n",
       "       product_width_cm  \n",
       "0                  14.0  \n",
       "1                  20.0  \n",
       "2                  15.0  \n",
       "3                  26.0  \n",
       "4                  13.0  \n",
       "...                 ...  \n",
       "32946              40.0  \n",
       "32947              16.0  \n",
       "32948              27.0  \n",
       "32949              20.0  \n",
       "32950               7.0  \n",
       "\n",
       "[32951 rows x 9 columns]"
      ]
     },
     "execution_count": 21,
     "metadata": {},
     "output_type": "execute_result"
    }
   ],
   "source": [
    "olist_products"
   ]
  },
  {
   "cell_type": "markdown",
   "id": "e1cf7b95",
   "metadata": {},
   "source": [
    "#### check empty value in olist_orders_dataset"
   ]
  },
  {
   "cell_type": "code",
   "execution_count": 22,
   "id": "bc6a8529",
   "metadata": {},
   "outputs": [
    {
     "data": {
      "text/plain": [
       "(32951, 9)"
      ]
     },
     "execution_count": 22,
     "metadata": {},
     "output_type": "execute_result"
    }
   ],
   "source": [
    "olist_products.shape"
   ]
  },
  {
   "cell_type": "code",
   "execution_count": 23,
   "id": "fb50e6b0",
   "metadata": {},
   "outputs": [
    {
     "data": {
      "text/plain": [
       "product_id                      0\n",
       "product_category_name         610\n",
       "product_name_lenght           610\n",
       "product_description_lenght    610\n",
       "product_photos_qty            610\n",
       "product_weight_g                2\n",
       "product_length_cm               2\n",
       "product_height_cm               2\n",
       "product_width_cm                2\n",
       "dtype: int64"
      ]
     },
     "execution_count": 23,
     "metadata": {},
     "output_type": "execute_result"
    }
   ],
   "source": [
    "olist_products.isnull().sum()"
   ]
  },
  {
   "cell_type": "code",
   "execution_count": 24,
   "id": "ff21a7a8",
   "metadata": {},
   "outputs": [
    {
     "data": {
      "text/plain": [
       "product_id                    False\n",
       "product_category_name          True\n",
       "product_name_lenght            True\n",
       "product_description_lenght     True\n",
       "product_photos_qty             True\n",
       "product_weight_g               True\n",
       "product_length_cm              True\n",
       "product_height_cm              True\n",
       "product_width_cm               True\n",
       "dtype: bool"
      ]
     },
     "execution_count": 24,
     "metadata": {},
     "output_type": "execute_result"
    }
   ],
   "source": [
    "olist_products.isnull().any()"
   ]
  },
  {
   "cell_type": "code",
   "execution_count": 25,
   "id": "40078b23",
   "metadata": {},
   "outputs": [
    {
     "data": {
      "text/plain": [
       "<AxesSubplot:>"
      ]
     },
     "execution_count": 25,
     "metadata": {},
     "output_type": "execute_result"
    },
    {
     "data": {
      "image/png": "[encoded data removed]",
      "text/plain": [
       "<Figure size 432x288 with 2 Axes>"
      ]
     },
     "metadata": {
      "needs_background": "light"
     },
     "output_type": "display_data"
    }
   ],
   "source": [
    "sns.heatmap(olist_products.isnull(), yticklabels=False)"
   ]
  },
  {
   "cell_type": "markdown",
   "id": "8e446689",
   "metadata": {},
   "source": [
    "#### Solution"
   ]
  },
  {
   "cell_type": "code",
   "execution_count": 26,
   "id": "798c6050",
   "metadata": {},
   "outputs": [
    {
     "data": {
      "text/plain": [
       "(32951, 9)"
      ]
     },
     "execution_count": 26,
     "metadata": {},
     "output_type": "execute_result"
    }
   ],
   "source": [
    "## if all the columns don't contain values and want to omit them, then use the following source code\n",
    "## olist_products2 = olist_products.dropna(how='all')\n",
    "\n",
    "## else if only some values are missing in the column and you don't want to delete those rows, \n",
    "## you can use the following source code: \n",
    "## olist_products2 = olist_products.fillna(0)\n",
    "## olist_products2.shape\n",
    "\n",
    "## else if only some values are missing in the column and you want to fill those data with the values in the previous row (duplicates), \n",
    "## you can use the following source code :\n",
    "olist_products2 = olist_products.fillna(method='ffill')\n",
    "olist_products2.shape\n",
    "\n",
    "## else if only some values are missing in the column and you want to fill those data with the values in the next row (duplicates), \n",
    "## you can use the following source code :\n",
    "## olist_products2 = olist_products.fillna(method='bfill')\n",
    "\n",
    "## you can use the following source code :\n",
    "## olist_products2 = olist_products.interpolate()\n",
    "\n",
    "## else if there is a missing value in the column and you want to remove that row, \n",
    "## then use the following source code:\n",
    "## olist_products2 = olist_products.dropna()"
   ]
  },
  {
   "cell_type": "code",
   "execution_count": 27,
   "id": "e020f050",
   "metadata": {},
   "outputs": [
    {
     "data": {
      "text/plain": [
       "product_id                    0\n",
       "product_category_name         0\n",
       "product_name_lenght           0\n",
       "product_description_lenght    0\n",
       "product_photos_qty            0\n",
       "product_weight_g              0\n",
       "product_length_cm             0\n",
       "product_height_cm             0\n",
       "product_width_cm              0\n",
       "dtype: int64"
      ]
     },
     "execution_count": 27,
     "metadata": {},
     "output_type": "execute_result"
    }
   ],
   "source": [
    "olist_products2.isnull().sum()"
   ]
  },
  {
   "cell_type": "markdown",
   "id": "547edcd9",
   "metadata": {},
   "source": [
    "### - olist_sellers_dataset"
   ]
  },
  {
   "cell_type": "code",
   "execution_count": 28,
   "id": "f1dd6996",
   "metadata": {},
   "outputs": [
    {
     "data": {
      "text/html": [
       "<div>\n",
       "<style scoped>\n",
       "    .dataframe tbody tr th:only-of-type {\n",
       "        vertical-align: middle;\n",
       "    }\n",
       "\n",
       "    .dataframe tbody tr th {\n",
       "        vertical-align: top;\n",
       "    }\n",
       "\n",
       "    .dataframe thead th {\n",
       "        text-align: right;\n",
       "    }\n",
       "</style>\n",
       "<table border=\"1\" class=\"dataframe\">\n",
       "  <thead>\n",
       "    <tr style=\"text-align: right;\">\n",
       "      <th></th>\n",
       "      <th>seller_id</th>\n",
       "      <th>seller_zip_code_prefix</th>\n",
       "      <th>seller_city</th>\n",
       "      <th>seller_state</th>\n",
       "    </tr>\n",
       "  </thead>\n",
       "  <tbody>\n",
       "    <tr>\n",
       "      <th>0</th>\n",
       "      <td>3442f8959a84dea7ee197c632cb2df15</td>\n",
       "      <td>13023</td>\n",
       "      <td>campinas</td>\n",
       "      <td>SP</td>\n",
       "    </tr>\n",
       "    <tr>\n",
       "      <th>1</th>\n",
       "      <td>d1b65fc7debc3361ea86b5f14c68d2e2</td>\n",
       "      <td>13844</td>\n",
       "      <td>mogi guacu</td>\n",
       "      <td>SP</td>\n",
       "    </tr>\n",
       "  </tbody>\n",
       "</table>\n",
       "</div>"
      ],
      "text/plain": [
       "                          seller_id  seller_zip_code_prefix seller_city  \\\n",
       "0  3442f8959a84dea7ee197c632cb2df15                   13023    campinas   \n",
       "1  d1b65fc7debc3361ea86b5f14c68d2e2                   13844  mogi guacu   \n",
       "\n",
       "  seller_state  \n",
       "0           SP  \n",
       "1           SP  "
      ]
     },
     "execution_count": 28,
     "metadata": {},
     "output_type": "execute_result"
    }
   ],
   "source": [
    "olist_sellers.head(2)"
   ]
  },
  {
   "cell_type": "markdown",
   "id": "77c4484b",
   "metadata": {},
   "source": [
    "### - product_category_name_translation"
   ]
  },
  {
   "cell_type": "code",
   "execution_count": 29,
   "id": "934bf988",
   "metadata": {},
   "outputs": [
    {
     "data": {
      "text/html": [
       "<div>\n",
       "<style scoped>\n",
       "    .dataframe tbody tr th:only-of-type {\n",
       "        vertical-align: middle;\n",
       "    }\n",
       "\n",
       "    .dataframe tbody tr th {\n",
       "        vertical-align: top;\n",
       "    }\n",
       "\n",
       "    .dataframe thead th {\n",
       "        text-align: right;\n",
       "    }\n",
       "</style>\n",
       "<table border=\"1\" class=\"dataframe\">\n",
       "  <thead>\n",
       "    <tr style=\"text-align: right;\">\n",
       "      <th></th>\n",
       "      <th>product_category_name</th>\n",
       "      <th>product_category_name_english</th>\n",
       "    </tr>\n",
       "  </thead>\n",
       "  <tbody>\n",
       "    <tr>\n",
       "      <th>0</th>\n",
       "      <td>beleza_saude</td>\n",
       "      <td>health_beauty</td>\n",
       "    </tr>\n",
       "    <tr>\n",
       "      <th>1</th>\n",
       "      <td>informatica_acessorios</td>\n",
       "      <td>computers_accessories</td>\n",
       "    </tr>\n",
       "  </tbody>\n",
       "</table>\n",
       "</div>"
      ],
      "text/plain": [
       "    product_category_name product_category_name_english\n",
       "0            beleza_saude                 health_beauty\n",
       "1  informatica_acessorios         computers_accessories"
      ]
     },
     "execution_count": 29,
     "metadata": {},
     "output_type": "execute_result"
    }
   ],
   "source": [
    "product_category_name_translation.head(2)"
   ]
  },
  {
   "cell_type": "markdown",
   "id": "c8fe022f",
   "metadata": {},
   "source": [
    "## 2. Data Integration"
   ]
  },
  {
   "cell_type": "code",
   "execution_count": 30,
   "id": "144141c8",
   "metadata": {},
   "outputs": [],
   "source": [
    "## pd.concat\n",
    "## pd.merge\n",
    "## pd.append"
   ]
  },
  {
   "cell_type": "code",
   "execution_count": 31,
   "id": "9cd32d5a",
   "metadata": {},
   "outputs": [
    {
     "data": {
      "text/plain": [
       "(95795, 38)"
      ]
     },
     "execution_count": 31,
     "metadata": {},
     "output_type": "execute_result"
    }
   ],
   "source": [
    "## Merge dataframe olist_orders2 with all Dataframe\n",
    "\n",
    "result_olist_marged = olist_orders2.merge(olist_order_items, on='order_id', how='left')\n",
    "result_olist_marged = result_olist_marged.merge(olist_order_payments, on='order_id', how='outer', validate='m:m')\n",
    "result_olist_marged = result_olist_marged.merge(olist_order_reviews, on='order_id', how='outer')\n",
    "result_olist_marged = result_olist_marged.merge(olist_products2, on='product_id', how='outer')\n",
    "result_olist_marged = result_olist_marged.merge(olist_customers, on='customer_id', how='outer')\n",
    "result_olist_marged = result_olist_marged.merge(olist_sellers, on='seller_id', how='outer')\n",
    "result_olist_marged = result_olist_marged.merge(product_category_name_translation, on='product_category_name')\n",
    "\n",
    "# remove duplicate order_id\n",
    "result_olist_marged= result_olist_marged.drop_duplicates(subset='order_id')\n",
    "\n",
    "result_olist_marged = result_olist_marged.dropna()\n",
    "result_olist_marged.shape\n"
   ]
  },
  {
   "cell_type": "code",
   "execution_count": 32,
   "id": "89e96586",
   "metadata": {},
   "outputs": [
    {
     "data": {
      "text/plain": [
       "order_id                         0\n",
       "customer_id                      0\n",
       "order_status                     0\n",
       "order_purchase_timestamp         0\n",
       "order_approved_at                0\n",
       "order_delivered_carrier_date     0\n",
       "order_delivered_customer_date    0\n",
       "order_estimated_delivery_date    0\n",
       "order_item_id                    0\n",
       "product_id                       0\n",
       "seller_id                        0\n",
       "shipping_limit_date              0\n",
       "price                            0\n",
       "freight_value                    0\n",
       "payment_sequential               0\n",
       "payment_type                     0\n",
       "payment_installments             0\n",
       "payment_value                    0\n",
       "review_id                        0\n",
       "review_score                     0\n",
       "review_creation_date             0\n",
       "review_answer_timestamp          0\n",
       "product_category_name            0\n",
       "product_name_lenght              0\n",
       "product_description_lenght       0\n",
       "product_photos_qty               0\n",
       "product_weight_g                 0\n",
       "product_length_cm                0\n",
       "product_height_cm                0\n",
       "product_width_cm                 0\n",
       "customer_unique_id               0\n",
       "customer_zip_code_prefix         0\n",
       "customer_city                    0\n",
       "customer_state                   0\n",
       "seller_zip_code_prefix           0\n",
       "seller_city                      0\n",
       "seller_state                     0\n",
       "product_category_name_english    0\n",
       "dtype: int64"
      ]
     },
     "execution_count": 32,
     "metadata": {},
     "output_type": "execute_result"
    }
   ],
   "source": [
    "result_olist_marged.isnull().sum()"
   ]
  },
  {
   "cell_type": "code",
   "execution_count": 33,
   "id": "4447b860",
   "metadata": {},
   "outputs": [
    {
     "data": {
      "text/html": [
       "<div>\n",
       "<style scoped>\n",
       "    .dataframe tbody tr th:only-of-type {\n",
       "        vertical-align: middle;\n",
       "    }\n",
       "\n",
       "    .dataframe tbody tr th {\n",
       "        vertical-align: top;\n",
       "    }\n",
       "\n",
       "    .dataframe thead th {\n",
       "        text-align: right;\n",
       "    }\n",
       "</style>\n",
       "<table border=\"1\" class=\"dataframe\">\n",
       "  <thead>\n",
       "    <tr style=\"text-align: right;\">\n",
       "      <th></th>\n",
       "      <th>order_id</th>\n",
       "      <th>customer_id</th>\n",
       "      <th>order_status</th>\n",
       "      <th>order_purchase_timestamp</th>\n",
       "      <th>order_approved_at</th>\n",
       "      <th>order_delivered_carrier_date</th>\n",
       "      <th>order_delivered_customer_date</th>\n",
       "      <th>order_estimated_delivery_date</th>\n",
       "      <th>order_item_id</th>\n",
       "      <th>product_id</th>\n",
       "      <th>...</th>\n",
       "      <th>product_height_cm</th>\n",
       "      <th>product_width_cm</th>\n",
       "      <th>customer_unique_id</th>\n",
       "      <th>customer_zip_code_prefix</th>\n",
       "      <th>customer_city</th>\n",
       "      <th>customer_state</th>\n",
       "      <th>seller_zip_code_prefix</th>\n",
       "      <th>seller_city</th>\n",
       "      <th>seller_state</th>\n",
       "      <th>product_category_name_english</th>\n",
       "    </tr>\n",
       "  </thead>\n",
       "  <tbody>\n",
       "    <tr>\n",
       "      <th>0</th>\n",
       "      <td>e481f51cbdc54678b7cc49136f2d6af7</td>\n",
       "      <td>9ef432eb6251297304e76186b10a928d</td>\n",
       "      <td>delivered</td>\n",
       "      <td>2017-10-02 10:56:33</td>\n",
       "      <td>2017-10-02 11:07:15</td>\n",
       "      <td>2017-10-04 19:55:00</td>\n",
       "      <td>2017-10-10 21:25:13</td>\n",
       "      <td>2017-10-18 00:00:00</td>\n",
       "      <td>1.0</td>\n",
       "      <td>87285b34884572647811a353c7ac498a</td>\n",
       "      <td>...</td>\n",
       "      <td>8.0</td>\n",
       "      <td>13.0</td>\n",
       "      <td>7c396fd4830fd04220f754e42b4e5bff</td>\n",
       "      <td>3149.0</td>\n",
       "      <td>sao paulo</td>\n",
       "      <td>SP</td>\n",
       "      <td>9350.0</td>\n",
       "      <td>maua</td>\n",
       "      <td>SP</td>\n",
       "      <td>housewares</td>\n",
       "    </tr>\n",
       "    <tr>\n",
       "      <th>3</th>\n",
       "      <td>128e10d95713541c87cd1a2e48201934</td>\n",
       "      <td>a20e8105f23924cd00833fd87daa0831</td>\n",
       "      <td>delivered</td>\n",
       "      <td>2017-08-15 18:29:31</td>\n",
       "      <td>2017-08-15 20:05:16</td>\n",
       "      <td>2017-08-17 15:28:33</td>\n",
       "      <td>2017-08-18 14:44:43</td>\n",
       "      <td>2017-08-28 00:00:00</td>\n",
       "      <td>1.0</td>\n",
       "      <td>87285b34884572647811a353c7ac498a</td>\n",
       "      <td>...</td>\n",
       "      <td>8.0</td>\n",
       "      <td>13.0</td>\n",
       "      <td>3a51803cc0d012c3b5dc8b7528cb05f7</td>\n",
       "      <td>3366.0</td>\n",
       "      <td>sao paulo</td>\n",
       "      <td>SP</td>\n",
       "      <td>9350.0</td>\n",
       "      <td>maua</td>\n",
       "      <td>SP</td>\n",
       "      <td>housewares</td>\n",
       "    </tr>\n",
       "    <tr>\n",
       "      <th>4</th>\n",
       "      <td>0e7e841ddf8f8f2de2bad69267ecfbcf</td>\n",
       "      <td>26c7ac168e1433912a51b924fbd34d34</td>\n",
       "      <td>delivered</td>\n",
       "      <td>2017-08-02 18:24:47</td>\n",
       "      <td>2017-08-02 18:43:15</td>\n",
       "      <td>2017-08-04 17:35:43</td>\n",
       "      <td>2017-08-07 18:30:01</td>\n",
       "      <td>2017-08-15 00:00:00</td>\n",
       "      <td>1.0</td>\n",
       "      <td>87285b34884572647811a353c7ac498a</td>\n",
       "      <td>...</td>\n",
       "      <td>8.0</td>\n",
       "      <td>13.0</td>\n",
       "      <td>ef0996a1a279c26e7ecbd737be23d235</td>\n",
       "      <td>2290.0</td>\n",
       "      <td>sao paulo</td>\n",
       "      <td>SP</td>\n",
       "      <td>9350.0</td>\n",
       "      <td>maua</td>\n",
       "      <td>SP</td>\n",
       "      <td>housewares</td>\n",
       "    </tr>\n",
       "    <tr>\n",
       "      <th>5</th>\n",
       "      <td>bfc39df4f36c3693ff3b63fcbea9e90a</td>\n",
       "      <td>53904ddbea91e1e92b2b3f1d09a7af86</td>\n",
       "      <td>delivered</td>\n",
       "      <td>2017-10-23 23:26:46</td>\n",
       "      <td>2017-10-25 02:14:11</td>\n",
       "      <td>2017-10-27 16:48:46</td>\n",
       "      <td>2017-11-07 18:04:59</td>\n",
       "      <td>2017-11-13 00:00:00</td>\n",
       "      <td>1.0</td>\n",
       "      <td>87285b34884572647811a353c7ac498a</td>\n",
       "      <td>...</td>\n",
       "      <td>8.0</td>\n",
       "      <td>13.0</td>\n",
       "      <td>e781fdcc107d13d865fc7698711cc572</td>\n",
       "      <td>88032.0</td>\n",
       "      <td>florianopolis</td>\n",
       "      <td>SC</td>\n",
       "      <td>9350.0</td>\n",
       "      <td>maua</td>\n",
       "      <td>SP</td>\n",
       "      <td>housewares</td>\n",
       "    </tr>\n",
       "    <tr>\n",
       "      <th>6</th>\n",
       "      <td>5f49f31e537f8f1a496454b48edbe34d</td>\n",
       "      <td>a7260a6ccba78544ccfaf43f920b7240</td>\n",
       "      <td>delivered</td>\n",
       "      <td>2017-08-24 11:31:28</td>\n",
       "      <td>2017-08-24 11:45:25</td>\n",
       "      <td>2017-08-25 14:17:55</td>\n",
       "      <td>2017-08-28 20:12:20</td>\n",
       "      <td>2017-09-14 00:00:00</td>\n",
       "      <td>2.0</td>\n",
       "      <td>be03d93320192443b8fa24c0ca6ead98</td>\n",
       "      <td>...</td>\n",
       "      <td>16.0</td>\n",
       "      <td>13.0</td>\n",
       "      <td>7a1de9bde89aedca8c5fbad489c5571c</td>\n",
       "      <td>1315.0</td>\n",
       "      <td>sao paulo</td>\n",
       "      <td>SP</td>\n",
       "      <td>9350.0</td>\n",
       "      <td>maua</td>\n",
       "      <td>SP</td>\n",
       "      <td>housewares</td>\n",
       "    </tr>\n",
       "  </tbody>\n",
       "</table>\n",
       "<p>5 rows × 38 columns</p>\n",
       "</div>"
      ],
      "text/plain": [
       "                           order_id                       customer_id  \\\n",
       "0  e481f51cbdc54678b7cc49136f2d6af7  9ef432eb6251297304e76186b10a928d   \n",
       "3  128e10d95713541c87cd1a2e48201934  a20e8105f23924cd00833fd87daa0831   \n",
       "4  0e7e841ddf8f8f2de2bad69267ecfbcf  26c7ac168e1433912a51b924fbd34d34   \n",
       "5  bfc39df4f36c3693ff3b63fcbea9e90a  53904ddbea91e1e92b2b3f1d09a7af86   \n",
       "6  5f49f31e537f8f1a496454b48edbe34d  a7260a6ccba78544ccfaf43f920b7240   \n",
       "\n",
       "  order_status order_purchase_timestamp    order_approved_at  \\\n",
       "0    delivered      2017-10-02 10:56:33  2017-10-02 11:07:15   \n",
       "3    delivered      2017-08-15 18:29:31  2017-08-15 20:05:16   \n",
       "4    delivered      2017-08-02 18:24:47  2017-08-02 18:43:15   \n",
       "5    delivered      2017-10-23 23:26:46  2017-10-25 02:14:11   \n",
       "6    delivered      2017-08-24 11:31:28  2017-08-24 11:45:25   \n",
       "\n",
       "  order_delivered_carrier_date order_delivered_customer_date  \\\n",
       "0          2017-10-04 19:55:00           2017-10-10 21:25:13   \n",
       "3          2017-08-17 15:28:33           2017-08-18 14:44:43   \n",
       "4          2017-08-04 17:35:43           2017-08-07 18:30:01   \n",
       "5          2017-10-27 16:48:46           2017-11-07 18:04:59   \n",
       "6          2017-08-25 14:17:55           2017-08-28 20:12:20   \n",
       "\n",
       "  order_estimated_delivery_date  order_item_id  \\\n",
       "0           2017-10-18 00:00:00            1.0   \n",
       "3           2017-08-28 00:00:00            1.0   \n",
       "4           2017-08-15 00:00:00            1.0   \n",
       "5           2017-11-13 00:00:00            1.0   \n",
       "6           2017-09-14 00:00:00            2.0   \n",
       "\n",
       "                         product_id  ... product_height_cm product_width_cm  \\\n",
       "0  87285b34884572647811a353c7ac498a  ...               8.0             13.0   \n",
       "3  87285b34884572647811a353c7ac498a  ...               8.0             13.0   \n",
       "4  87285b34884572647811a353c7ac498a  ...               8.0             13.0   \n",
       "5  87285b34884572647811a353c7ac498a  ...               8.0             13.0   \n",
       "6  be03d93320192443b8fa24c0ca6ead98  ...              16.0             13.0   \n",
       "\n",
       "                 customer_unique_id  customer_zip_code_prefix  customer_city  \\\n",
       "0  7c396fd4830fd04220f754e42b4e5bff                    3149.0      sao paulo   \n",
       "3  3a51803cc0d012c3b5dc8b7528cb05f7                    3366.0      sao paulo   \n",
       "4  ef0996a1a279c26e7ecbd737be23d235                    2290.0      sao paulo   \n",
       "5  e781fdcc107d13d865fc7698711cc572                   88032.0  florianopolis   \n",
       "6  7a1de9bde89aedca8c5fbad489c5571c                    1315.0      sao paulo   \n",
       "\n",
       "  customer_state  seller_zip_code_prefix  seller_city seller_state  \\\n",
       "0             SP                  9350.0         maua           SP   \n",
       "3             SP                  9350.0         maua           SP   \n",
       "4             SP                  9350.0         maua           SP   \n",
       "5             SC                  9350.0         maua           SP   \n",
       "6             SP                  9350.0         maua           SP   \n",
       "\n",
       "   product_category_name_english  \n",
       "0                     housewares  \n",
       "3                     housewares  \n",
       "4                     housewares  \n",
       "5                     housewares  \n",
       "6                     housewares  \n",
       "\n",
       "[5 rows x 38 columns]"
      ]
     },
     "execution_count": 33,
     "metadata": {},
     "output_type": "execute_result"
    }
   ],
   "source": [
    "result_olist_marged.head()"
   ]
  },
  {
   "cell_type": "code",
   "execution_count": 34,
   "id": "26ab8443",
   "metadata": {},
   "outputs": [
    {
     "data": {
      "text/plain": [
       "['order_id',\n",
       " 'customer_id',\n",
       " 'order_status',\n",
       " 'order_purchase_timestamp',\n",
       " 'order_approved_at',\n",
       " 'order_delivered_carrier_date',\n",
       " 'order_delivered_customer_date',\n",
       " 'order_estimated_delivery_date',\n",
       " 'order_item_id',\n",
       " 'product_id',\n",
       " 'seller_id',\n",
       " 'shipping_limit_date',\n",
       " 'price',\n",
       " 'freight_value',\n",
       " 'payment_sequential',\n",
       " 'payment_type',\n",
       " 'payment_installments',\n",
       " 'payment_value',\n",
       " 'review_id',\n",
       " 'review_score',\n",
       " 'review_creation_date',\n",
       " 'review_answer_timestamp',\n",
       " 'product_category_name',\n",
       " 'product_name_lenght',\n",
       " 'product_description_lenght',\n",
       " 'product_photos_qty',\n",
       " 'product_weight_g',\n",
       " 'product_length_cm',\n",
       " 'product_height_cm',\n",
       " 'product_width_cm',\n",
       " 'customer_unique_id',\n",
       " 'customer_zip_code_prefix',\n",
       " 'customer_city',\n",
       " 'customer_state',\n",
       " 'seller_zip_code_prefix',\n",
       " 'seller_city',\n",
       " 'seller_state',\n",
       " 'product_category_name_english']"
      ]
     },
     "execution_count": 34,
     "metadata": {},
     "output_type": "execute_result"
    }
   ],
   "source": [
    "result_olist_marged.columns.tolist()"
   ]
  },
  {
   "cell_type": "code",
   "execution_count": 35,
   "id": "77cc00e5",
   "metadata": {},
   "outputs": [
    {
     "data": {
      "text/html": [
       "<div>\n",
       "<style scoped>\n",
       "    .dataframe tbody tr th:only-of-type {\n",
       "        vertical-align: middle;\n",
       "    }\n",
       "\n",
       "    .dataframe tbody tr th {\n",
       "        vertical-align: top;\n",
       "    }\n",
       "\n",
       "    .dataframe thead th {\n",
       "        text-align: right;\n",
       "    }\n",
       "</style>\n",
       "<table border=\"1\" class=\"dataframe\">\n",
       "  <thead>\n",
       "    <tr style=\"text-align: right;\">\n",
       "      <th></th>\n",
       "      <th>customer_id</th>\n",
       "      <th>customer_unique_id</th>\n",
       "      <th>order_id</th>\n",
       "      <th>product_id</th>\n",
       "      <th>seller_id</th>\n",
       "      <th>review_id</th>\n",
       "      <th>order_item_id</th>\n",
       "      <th>order_status</th>\n",
       "      <th>product_category_name</th>\n",
       "      <th>product_category_name_english</th>\n",
       "      <th>...</th>\n",
       "      <th>seller_city</th>\n",
       "      <th>seller_state</th>\n",
       "      <th>order_approved_at</th>\n",
       "      <th>order_purchase_timestamp</th>\n",
       "      <th>order_delivered_carrier_date</th>\n",
       "      <th>order_delivered_customer_date</th>\n",
       "      <th>order_estimated_delivery_date</th>\n",
       "      <th>shipping_limit_date</th>\n",
       "      <th>review_creation_date</th>\n",
       "      <th>review_answer_timestamp</th>\n",
       "    </tr>\n",
       "  </thead>\n",
       "  <tbody>\n",
       "    <tr>\n",
       "      <th>0</th>\n",
       "      <td>9ef432eb6251297304e76186b10a928d</td>\n",
       "      <td>7c396fd4830fd04220f754e42b4e5bff</td>\n",
       "      <td>e481f51cbdc54678b7cc49136f2d6af7</td>\n",
       "      <td>87285b34884572647811a353c7ac498a</td>\n",
       "      <td>3504c0cb71d7fa48d967e0e4c94d59d9</td>\n",
       "      <td>a54f0611adc9ed256b57ede6b6eb5114</td>\n",
       "      <td>1.0</td>\n",
       "      <td>delivered</td>\n",
       "      <td>utilidades_domesticas</td>\n",
       "      <td>housewares</td>\n",
       "      <td>...</td>\n",
       "      <td>maua</td>\n",
       "      <td>SP</td>\n",
       "      <td>2017-10-02 11:07:15</td>\n",
       "      <td>2017-10-02 10:56:33</td>\n",
       "      <td>2017-10-04 19:55:00</td>\n",
       "      <td>2017-10-10 21:25:13</td>\n",
       "      <td>2017-10-18 00:00:00</td>\n",
       "      <td>2017-10-06 11:07:15</td>\n",
       "      <td>2017-10-11 00:00:00</td>\n",
       "      <td>2017-10-12 03:43:48</td>\n",
       "    </tr>\n",
       "    <tr>\n",
       "      <th>3</th>\n",
       "      <td>a20e8105f23924cd00833fd87daa0831</td>\n",
       "      <td>3a51803cc0d012c3b5dc8b7528cb05f7</td>\n",
       "      <td>128e10d95713541c87cd1a2e48201934</td>\n",
       "      <td>87285b34884572647811a353c7ac498a</td>\n",
       "      <td>3504c0cb71d7fa48d967e0e4c94d59d9</td>\n",
       "      <td>b46f1e34512b0f4c74a72398b03ca788</td>\n",
       "      <td>1.0</td>\n",
       "      <td>delivered</td>\n",
       "      <td>utilidades_domesticas</td>\n",
       "      <td>housewares</td>\n",
       "      <td>...</td>\n",
       "      <td>maua</td>\n",
       "      <td>SP</td>\n",
       "      <td>2017-08-15 20:05:16</td>\n",
       "      <td>2017-08-15 18:29:31</td>\n",
       "      <td>2017-08-17 15:28:33</td>\n",
       "      <td>2017-08-18 14:44:43</td>\n",
       "      <td>2017-08-28 00:00:00</td>\n",
       "      <td>2017-08-21 20:05:16</td>\n",
       "      <td>2017-08-19 00:00:00</td>\n",
       "      <td>2017-08-20 15:16:36</td>\n",
       "    </tr>\n",
       "    <tr>\n",
       "      <th>4</th>\n",
       "      <td>26c7ac168e1433912a51b924fbd34d34</td>\n",
       "      <td>ef0996a1a279c26e7ecbd737be23d235</td>\n",
       "      <td>0e7e841ddf8f8f2de2bad69267ecfbcf</td>\n",
       "      <td>87285b34884572647811a353c7ac498a</td>\n",
       "      <td>3504c0cb71d7fa48d967e0e4c94d59d9</td>\n",
       "      <td>dc90f19c2806f1abba9e72ad3c350073</td>\n",
       "      <td>1.0</td>\n",
       "      <td>delivered</td>\n",
       "      <td>utilidades_domesticas</td>\n",
       "      <td>housewares</td>\n",
       "      <td>...</td>\n",
       "      <td>maua</td>\n",
       "      <td>SP</td>\n",
       "      <td>2017-08-02 18:43:15</td>\n",
       "      <td>2017-08-02 18:24:47</td>\n",
       "      <td>2017-08-04 17:35:43</td>\n",
       "      <td>2017-08-07 18:30:01</td>\n",
       "      <td>2017-08-15 00:00:00</td>\n",
       "      <td>2017-08-08 18:37:31</td>\n",
       "      <td>2017-08-08 00:00:00</td>\n",
       "      <td>2017-08-08 23:26:23</td>\n",
       "    </tr>\n",
       "    <tr>\n",
       "      <th>5</th>\n",
       "      <td>53904ddbea91e1e92b2b3f1d09a7af86</td>\n",
       "      <td>e781fdcc107d13d865fc7698711cc572</td>\n",
       "      <td>bfc39df4f36c3693ff3b63fcbea9e90a</td>\n",
       "      <td>87285b34884572647811a353c7ac498a</td>\n",
       "      <td>3504c0cb71d7fa48d967e0e4c94d59d9</td>\n",
       "      <td>1bafb430e498b939f258b9c9dbdff9b1</td>\n",
       "      <td>1.0</td>\n",
       "      <td>delivered</td>\n",
       "      <td>utilidades_domesticas</td>\n",
       "      <td>housewares</td>\n",
       "      <td>...</td>\n",
       "      <td>maua</td>\n",
       "      <td>SP</td>\n",
       "      <td>2017-10-25 02:14:11</td>\n",
       "      <td>2017-10-23 23:26:46</td>\n",
       "      <td>2017-10-27 16:48:46</td>\n",
       "      <td>2017-11-07 18:04:59</td>\n",
       "      <td>2017-11-13 00:00:00</td>\n",
       "      <td>2017-10-31 02:14:11</td>\n",
       "      <td>2017-11-08 00:00:00</td>\n",
       "      <td>2017-11-10 19:52:38</td>\n",
       "    </tr>\n",
       "    <tr>\n",
       "      <th>6</th>\n",
       "      <td>a7260a6ccba78544ccfaf43f920b7240</td>\n",
       "      <td>7a1de9bde89aedca8c5fbad489c5571c</td>\n",
       "      <td>5f49f31e537f8f1a496454b48edbe34d</td>\n",
       "      <td>be03d93320192443b8fa24c0ca6ead98</td>\n",
       "      <td>3504c0cb71d7fa48d967e0e4c94d59d9</td>\n",
       "      <td>8899ca945efd951c97107b4966289227</td>\n",
       "      <td>2.0</td>\n",
       "      <td>delivered</td>\n",
       "      <td>utilidades_domesticas</td>\n",
       "      <td>housewares</td>\n",
       "      <td>...</td>\n",
       "      <td>maua</td>\n",
       "      <td>SP</td>\n",
       "      <td>2017-08-24 11:45:25</td>\n",
       "      <td>2017-08-24 11:31:28</td>\n",
       "      <td>2017-08-25 14:17:55</td>\n",
       "      <td>2017-08-28 20:12:20</td>\n",
       "      <td>2017-09-14 00:00:00</td>\n",
       "      <td>2017-08-30 11:45:25</td>\n",
       "      <td>2017-08-29 00:00:00</td>\n",
       "      <td>2017-08-30 02:26:02</td>\n",
       "    </tr>\n",
       "    <tr>\n",
       "      <th>...</th>\n",
       "      <td>...</td>\n",
       "      <td>...</td>\n",
       "      <td>...</td>\n",
       "      <td>...</td>\n",
       "      <td>...</td>\n",
       "      <td>...</td>\n",
       "      <td>...</td>\n",
       "      <td>...</td>\n",
       "      <td>...</td>\n",
       "      <td>...</td>\n",
       "      <td>...</td>\n",
       "      <td>...</td>\n",
       "      <td>...</td>\n",
       "      <td>...</td>\n",
       "      <td>...</td>\n",
       "      <td>...</td>\n",
       "      <td>...</td>\n",
       "      <td>...</td>\n",
       "      <td>...</td>\n",
       "      <td>...</td>\n",
       "      <td>...</td>\n",
       "    </tr>\n",
       "    <tr>\n",
       "      <th>116415</th>\n",
       "      <td>814605f2161337c56520639099b0199f</td>\n",
       "      <td>c5df80808db02b2e08abd92b9d964b9b</td>\n",
       "      <td>872b07190c0c9c0f13475d2141c4036a</td>\n",
       "      <td>019003324f0a201dd2c8962beaf94b6d</td>\n",
       "      <td>7c5b05cbdb5542049f38d90d7815b97d</td>\n",
       "      <td>cf0946ded1412516d307ee5ed2743fff</td>\n",
       "      <td>1.0</td>\n",
       "      <td>delivered</td>\n",
       "      <td>livros_importados</td>\n",
       "      <td>books_imported</td>\n",
       "      <td>...</td>\n",
       "      <td>sao paulo</td>\n",
       "      <td>SP</td>\n",
       "      <td>2018-07-05 16:22:38</td>\n",
       "      <td>2018-07-03 10:10:12</td>\n",
       "      <td>2018-07-03 12:00:00</td>\n",
       "      <td>2018-07-10 17:18:49</td>\n",
       "      <td>2018-08-02 00:00:00</td>\n",
       "      <td>2018-07-06 10:30:56</td>\n",
       "      <td>2018-07-11 00:00:00</td>\n",
       "      <td>2018-07-12 13:06:54</td>\n",
       "    </tr>\n",
       "    <tr>\n",
       "      <th>116417</th>\n",
       "      <td>39eda8beee70b851aa9ba9040fb44615</td>\n",
       "      <td>9790c90c5b3a1a5237c11433331af1cb</td>\n",
       "      <td>522eec5aa38ae3153b1c1a94e013947e</td>\n",
       "      <td>5b668636d65ddf4e4109c6d8fb13ea56</td>\n",
       "      <td>7c5b05cbdb5542049f38d90d7815b97d</td>\n",
       "      <td>96340784a348b8c22c50ce5e3ae05dde</td>\n",
       "      <td>1.0</td>\n",
       "      <td>delivered</td>\n",
       "      <td>livros_importados</td>\n",
       "      <td>books_imported</td>\n",
       "      <td>...</td>\n",
       "      <td>sao paulo</td>\n",
       "      <td>SP</td>\n",
       "      <td>2018-07-06 02:35:18</td>\n",
       "      <td>2018-07-05 16:25:40</td>\n",
       "      <td>2018-07-06 10:27:00</td>\n",
       "      <td>2018-07-09 18:16:53</td>\n",
       "      <td>2018-07-27 00:00:00</td>\n",
       "      <td>2018-07-11 02:35:18</td>\n",
       "      <td>2018-07-10 00:00:00</td>\n",
       "      <td>2018-07-11 00:34:43</td>\n",
       "    </tr>\n",
       "    <tr>\n",
       "      <th>116418</th>\n",
       "      <td>0cbd2df3d6e9d8b1eaf5cfefc44886bc</td>\n",
       "      <td>1de8fb735d8252498d9a2f82a68c57e0</td>\n",
       "      <td>1dbff949801376b8795a093d31cfe205</td>\n",
       "      <td>90797f195eb7bb9dae050697a25f35ce</td>\n",
       "      <td>7c5b05cbdb5542049f38d90d7815b97d</td>\n",
       "      <td>fbcc01887a5e5adacd0f4bb2a57e5d12</td>\n",
       "      <td>1.0</td>\n",
       "      <td>delivered</td>\n",
       "      <td>livros_importados</td>\n",
       "      <td>books_imported</td>\n",
       "      <td>...</td>\n",
       "      <td>sao paulo</td>\n",
       "      <td>SP</td>\n",
       "      <td>2018-05-16 15:18:42</td>\n",
       "      <td>2018-05-16 14:50:54</td>\n",
       "      <td>2018-05-18 12:10:00</td>\n",
       "      <td>2018-05-21 17:14:08</td>\n",
       "      <td>2018-05-28 00:00:00</td>\n",
       "      <td>2018-05-22 15:18:42</td>\n",
       "      <td>2018-05-30 00:00:00</td>\n",
       "      <td>2018-05-30 10:32:44</td>\n",
       "    </tr>\n",
       "    <tr>\n",
       "      <th>116419</th>\n",
       "      <td>c4d135422be0d4333f506acde8af9419</td>\n",
       "      <td>5f684afb3d1a02f2787e80cb0eee6e02</td>\n",
       "      <td>6775b950cdc4da0ce39b261032f92c84</td>\n",
       "      <td>3e72533d34a1779d818ac8a73403387c</td>\n",
       "      <td>7c5b05cbdb5542049f38d90d7815b97d</td>\n",
       "      <td>5243cd88a813b3c898f336f372cb0a7b</td>\n",
       "      <td>1.0</td>\n",
       "      <td>delivered</td>\n",
       "      <td>livros_importados</td>\n",
       "      <td>books_imported</td>\n",
       "      <td>...</td>\n",
       "      <td>sao paulo</td>\n",
       "      <td>SP</td>\n",
       "      <td>2018-06-13 17:39:14</td>\n",
       "      <td>2018-06-13 12:19:26</td>\n",
       "      <td>2018-06-15 13:09:00</td>\n",
       "      <td>2018-06-16 17:48:30</td>\n",
       "      <td>2018-06-28 00:00:00</td>\n",
       "      <td>2018-06-19 17:39:14</td>\n",
       "      <td>2018-06-17 00:00:00</td>\n",
       "      <td>2018-06-17 23:38:51</td>\n",
       "    </tr>\n",
       "    <tr>\n",
       "      <th>116420</th>\n",
       "      <td>65d9213dfa004c17dc126503e106e4a3</td>\n",
       "      <td>78275e95a4296105923051e0ad4577b3</td>\n",
       "      <td>73d60420cd1a179b2d8887d538efe4c2</td>\n",
       "      <td>078b7149a32b479d3cbf1649fea0172c</td>\n",
       "      <td>9b1585752613ec342d03bbab9997ec48</td>\n",
       "      <td>50f39f4890f1b4040c9b011caff5074d</td>\n",
       "      <td>1.0</td>\n",
       "      <td>delivered</td>\n",
       "      <td>livros_importados</td>\n",
       "      <td>books_imported</td>\n",
       "      <td>...</td>\n",
       "      <td>rio de janeiro</td>\n",
       "      <td>RJ</td>\n",
       "      <td>2018-08-07 11:05:18</td>\n",
       "      <td>2018-08-07 10:52:58</td>\n",
       "      <td>2018-08-08 08:31:00</td>\n",
       "      <td>2018-08-22 17:02:23</td>\n",
       "      <td>2018-09-04 00:00:00</td>\n",
       "      <td>2018-08-13 11:05:18</td>\n",
       "      <td>2018-08-23 00:00:00</td>\n",
       "      <td>2018-08-25 20:13:37</td>\n",
       "    </tr>\n",
       "  </tbody>\n",
       "</table>\n",
       "<p>95795 rows × 38 columns</p>\n",
       "</div>"
      ],
      "text/plain": [
       "                             customer_id                customer_unique_id  \\\n",
       "0       9ef432eb6251297304e76186b10a928d  7c396fd4830fd04220f754e42b4e5bff   \n",
       "3       a20e8105f23924cd00833fd87daa0831  3a51803cc0d012c3b5dc8b7528cb05f7   \n",
       "4       26c7ac168e1433912a51b924fbd34d34  ef0996a1a279c26e7ecbd737be23d235   \n",
       "5       53904ddbea91e1e92b2b3f1d09a7af86  e781fdcc107d13d865fc7698711cc572   \n",
       "6       a7260a6ccba78544ccfaf43f920b7240  7a1de9bde89aedca8c5fbad489c5571c   \n",
       "...                                  ...                               ...   \n",
       "116415  814605f2161337c56520639099b0199f  c5df80808db02b2e08abd92b9d964b9b   \n",
       "116417  39eda8beee70b851aa9ba9040fb44615  9790c90c5b3a1a5237c11433331af1cb   \n",
       "116418  0cbd2df3d6e9d8b1eaf5cfefc44886bc  1de8fb735d8252498d9a2f82a68c57e0   \n",
       "116419  c4d135422be0d4333f506acde8af9419  5f684afb3d1a02f2787e80cb0eee6e02   \n",
       "116420  65d9213dfa004c17dc126503e106e4a3  78275e95a4296105923051e0ad4577b3   \n",
       "\n",
       "                                order_id                        product_id  \\\n",
       "0       e481f51cbdc54678b7cc49136f2d6af7  87285b34884572647811a353c7ac498a   \n",
       "3       128e10d95713541c87cd1a2e48201934  87285b34884572647811a353c7ac498a   \n",
       "4       0e7e841ddf8f8f2de2bad69267ecfbcf  87285b34884572647811a353c7ac498a   \n",
       "5       bfc39df4f36c3693ff3b63fcbea9e90a  87285b34884572647811a353c7ac498a   \n",
       "6       5f49f31e537f8f1a496454b48edbe34d  be03d93320192443b8fa24c0ca6ead98   \n",
       "...                                  ...                               ...   \n",
       "116415  872b07190c0c9c0f13475d2141c4036a  019003324f0a201dd2c8962beaf94b6d   \n",
       "116417  522eec5aa38ae3153b1c1a94e013947e  5b668636d65ddf4e4109c6d8fb13ea56   \n",
       "116418  1dbff949801376b8795a093d31cfe205  90797f195eb7bb9dae050697a25f35ce   \n",
       "116419  6775b950cdc4da0ce39b261032f92c84  3e72533d34a1779d818ac8a73403387c   \n",
       "116420  73d60420cd1a179b2d8887d538efe4c2  078b7149a32b479d3cbf1649fea0172c   \n",
       "\n",
       "                               seller_id                         review_id  \\\n",
       "0       3504c0cb71d7fa48d967e0e4c94d59d9  a54f0611adc9ed256b57ede6b6eb5114   \n",
       "3       3504c0cb71d7fa48d967e0e4c94d59d9  b46f1e34512b0f4c74a72398b03ca788   \n",
       "4       3504c0cb71d7fa48d967e0e4c94d59d9  dc90f19c2806f1abba9e72ad3c350073   \n",
       "5       3504c0cb71d7fa48d967e0e4c94d59d9  1bafb430e498b939f258b9c9dbdff9b1   \n",
       "6       3504c0cb71d7fa48d967e0e4c94d59d9  8899ca945efd951c97107b4966289227   \n",
       "...                                  ...                               ...   \n",
       "116415  7c5b05cbdb5542049f38d90d7815b97d  cf0946ded1412516d307ee5ed2743fff   \n",
       "116417  7c5b05cbdb5542049f38d90d7815b97d  96340784a348b8c22c50ce5e3ae05dde   \n",
       "116418  7c5b05cbdb5542049f38d90d7815b97d  fbcc01887a5e5adacd0f4bb2a57e5d12   \n",
       "116419  7c5b05cbdb5542049f38d90d7815b97d  5243cd88a813b3c898f336f372cb0a7b   \n",
       "116420  9b1585752613ec342d03bbab9997ec48  50f39f4890f1b4040c9b011caff5074d   \n",
       "\n",
       "        order_item_id order_status  product_category_name  \\\n",
       "0                 1.0    delivered  utilidades_domesticas   \n",
       "3                 1.0    delivered  utilidades_domesticas   \n",
       "4                 1.0    delivered  utilidades_domesticas   \n",
       "5                 1.0    delivered  utilidades_domesticas   \n",
       "6                 2.0    delivered  utilidades_domesticas   \n",
       "...               ...          ...                    ...   \n",
       "116415            1.0    delivered      livros_importados   \n",
       "116417            1.0    delivered      livros_importados   \n",
       "116418            1.0    delivered      livros_importados   \n",
       "116419            1.0    delivered      livros_importados   \n",
       "116420            1.0    delivered      livros_importados   \n",
       "\n",
       "       product_category_name_english  ...     seller_city  seller_state  \\\n",
       "0                         housewares  ...            maua            SP   \n",
       "3                         housewares  ...            maua            SP   \n",
       "4                         housewares  ...            maua            SP   \n",
       "5                         housewares  ...            maua            SP   \n",
       "6                         housewares  ...            maua            SP   \n",
       "...                              ...  ...             ...           ...   \n",
       "116415                books_imported  ...       sao paulo            SP   \n",
       "116417                books_imported  ...       sao paulo            SP   \n",
       "116418                books_imported  ...       sao paulo            SP   \n",
       "116419                books_imported  ...       sao paulo            SP   \n",
       "116420                books_imported  ...  rio de janeiro            RJ   \n",
       "\n",
       "          order_approved_at  order_purchase_timestamp  \\\n",
       "0       2017-10-02 11:07:15       2017-10-02 10:56:33   \n",
       "3       2017-08-15 20:05:16       2017-08-15 18:29:31   \n",
       "4       2017-08-02 18:43:15       2017-08-02 18:24:47   \n",
       "5       2017-10-25 02:14:11       2017-10-23 23:26:46   \n",
       "6       2017-08-24 11:45:25       2017-08-24 11:31:28   \n",
       "...                     ...                       ...   \n",
       "116415  2018-07-05 16:22:38       2018-07-03 10:10:12   \n",
       "116417  2018-07-06 02:35:18       2018-07-05 16:25:40   \n",
       "116418  2018-05-16 15:18:42       2018-05-16 14:50:54   \n",
       "116419  2018-06-13 17:39:14       2018-06-13 12:19:26   \n",
       "116420  2018-08-07 11:05:18       2018-08-07 10:52:58   \n",
       "\n",
       "        order_delivered_carrier_date  order_delivered_customer_date  \\\n",
       "0                2017-10-04 19:55:00            2017-10-10 21:25:13   \n",
       "3                2017-08-17 15:28:33            2017-08-18 14:44:43   \n",
       "4                2017-08-04 17:35:43            2017-08-07 18:30:01   \n",
       "5                2017-10-27 16:48:46            2017-11-07 18:04:59   \n",
       "6                2017-08-25 14:17:55            2017-08-28 20:12:20   \n",
       "...                              ...                            ...   \n",
       "116415           2018-07-03 12:00:00            2018-07-10 17:18:49   \n",
       "116417           2018-07-06 10:27:00            2018-07-09 18:16:53   \n",
       "116418           2018-05-18 12:10:00            2018-05-21 17:14:08   \n",
       "116419           2018-06-15 13:09:00            2018-06-16 17:48:30   \n",
       "116420           2018-08-08 08:31:00            2018-08-22 17:02:23   \n",
       "\n",
       "        order_estimated_delivery_date  shipping_limit_date  \\\n",
       "0                 2017-10-18 00:00:00  2017-10-06 11:07:15   \n",
       "3                 2017-08-28 00:00:00  2017-08-21 20:05:16   \n",
       "4                 2017-08-15 00:00:00  2017-08-08 18:37:31   \n",
       "5                 2017-11-13 00:00:00  2017-10-31 02:14:11   \n",
       "6                 2017-09-14 00:00:00  2017-08-30 11:45:25   \n",
       "...                               ...                  ...   \n",
       "116415            2018-08-02 00:00:00  2018-07-06 10:30:56   \n",
       "116417            2018-07-27 00:00:00  2018-07-11 02:35:18   \n",
       "116418            2018-05-28 00:00:00  2018-05-22 15:18:42   \n",
       "116419            2018-06-28 00:00:00  2018-06-19 17:39:14   \n",
       "116420            2018-09-04 00:00:00  2018-08-13 11:05:18   \n",
       "\n",
       "        review_creation_date  review_answer_timestamp  \n",
       "0        2017-10-11 00:00:00      2017-10-12 03:43:48  \n",
       "3        2017-08-19 00:00:00      2017-08-20 15:16:36  \n",
       "4        2017-08-08 00:00:00      2017-08-08 23:26:23  \n",
       "5        2017-11-08 00:00:00      2017-11-10 19:52:38  \n",
       "6        2017-08-29 00:00:00      2017-08-30 02:26:02  \n",
       "...                      ...                      ...  \n",
       "116415   2018-07-11 00:00:00      2018-07-12 13:06:54  \n",
       "116417   2018-07-10 00:00:00      2018-07-11 00:34:43  \n",
       "116418   2018-05-30 00:00:00      2018-05-30 10:32:44  \n",
       "116419   2018-06-17 00:00:00      2018-06-17 23:38:51  \n",
       "116420   2018-08-23 00:00:00      2018-08-25 20:13:37  \n",
       "\n",
       "[95795 rows x 38 columns]"
      ]
     },
     "execution_count": 35,
     "metadata": {},
     "output_type": "execute_result"
    }
   ],
   "source": [
    "result_olist_marged = result_olist_marged[['customer_id',\n",
    " 'customer_unique_id',\n",
    " 'order_id',\n",
    " 'product_id',\n",
    " 'seller_id',\n",
    " 'review_id',\n",
    " 'order_item_id',                                      \n",
    " 'order_status',\n",
    " 'product_category_name',\n",
    " 'product_category_name_english',\n",
    " 'price',\n",
    " 'payment_value',\n",
    " 'payment_type',\n",
    " 'product_name_lenght',\n",
    " 'product_description_lenght',\n",
    " 'product_photos_qty',\n",
    " 'product_weight_g',\n",
    " 'product_length_cm',\n",
    " 'product_height_cm',\n",
    " 'product_width_cm',\n",
    " 'freight_value',\n",
    " 'payment_sequential',\n",
    " 'payment_installments',\n",
    " 'review_score',\n",
    " 'customer_zip_code_prefix',\n",
    " 'customer_city',\n",
    " 'customer_state',\n",
    " 'seller_zip_code_prefix',\n",
    " 'seller_city',\n",
    " 'seller_state',\n",
    " 'order_approved_at',\n",
    " 'order_purchase_timestamp',\n",
    " 'order_delivered_carrier_date',\n",
    " 'order_delivered_customer_date',\n",
    " 'order_estimated_delivery_date',\n",
    " 'shipping_limit_date',\n",
    " 'review_creation_date',\n",
    " 'review_answer_timestamp']]\n",
    "result_olist_marged"
   ]
  },
  {
   "cell_type": "code",
   "execution_count": 36,
   "id": "7a1305f2",
   "metadata": {},
   "outputs": [],
   "source": [
    "# def table(df):\n",
    "#     print(f\"Data Size: {df.shape}\")\n",
    "#     outline = pd.DataFrame(df.dtypes,columns=['dtypes'])\n",
    "#     outline = outline.reset_index()\n",
    "#     outline['name'] = outline['index']\n",
    "#     outline = outline[['name','dtypes']]\n",
    "#     outline['missing_values'] = df.isnull().sum().values    \n",
    "#     outline['unique'] = df.nunique().values\n",
    "#     outline['first value'] = df.loc[0].values\n",
    "#     outline['second value'] = df.loc[3].values\n",
    "#     outline['thrid value'] = df.loc[4].values\n",
    "\n",
    "#     for name in outline['name'].value_counts().index:\n",
    "#         outline.loc[outline['name'] == name, 'Entropy(Impurity)'] = round(stats.entropy(df[name].value_counts(normalize=True), base=2),2) \n",
    "\n",
    "#     return outline\n",
    "# table(result_olist_marged)"
   ]
  },
  {
   "cell_type": "markdown",
   "id": "3a163fff",
   "metadata": {},
   "source": [
    "## 3. Visualisasi Data"
   ]
  },
  {
   "cell_type": "markdown",
   "id": "70bf113d",
   "metadata": {},
   "source": [
    "### Price"
   ]
  },
  {
   "cell_type": "code",
   "execution_count": 37,
   "id": "e7866541",
   "metadata": {},
   "outputs": [],
   "source": [
    "# result_olist_marged['price'].fillna(-1, inplace=True)\n",
    "# plt.subplot(111)\n",
    "# graph = sns.distplot(np.log(result_olist_marged['price']))\n",
    "# graph.set_title(\"Price\", fontsize=18)\n",
    "# graph.set_ylabel(\"Probability\", fontsize=15)\n",
    "# graph.set_xlabel(\"Price Values\")\n",
    "\n",
    "# plt.subplots_adjust(hspace = 0.4, top = 0.85)\n",
    "\n",
    "# plt.show()"
   ]
  },
  {
   "cell_type": "markdown",
   "id": "d4bad884",
   "metadata": {},
   "source": [
    "#### Corelation Variable Price with All Variable"
   ]
  },
  {
   "cell_type": "code",
   "execution_count": 38,
   "id": "82489d1d",
   "metadata": {},
   "outputs": [
    {
     "data": {
      "text/plain": [
       "price                         1.000000\n",
       "payment_value                 0.907421\n",
       "freight_value                 0.418821\n",
       "product_weight_g              0.343448\n",
       "payment_installments          0.312780\n",
       "product_height_cm             0.233045\n",
       "product_description_lenght    0.198311\n",
       "product_width_cm              0.174194\n",
       "product_length_cm             0.144931\n",
       "seller_zip_code_prefix        0.086373\n",
       "product_photos_qty            0.047941\n",
       "customer_zip_code_prefix      0.042313\n",
       "product_name_lenght           0.015470\n",
       "payment_sequential            0.003596\n",
       "review_score                 -0.005354\n",
       "order_item_id                -0.027371\n",
       "Name: price, dtype: float64"
      ]
     },
     "execution_count": 38,
     "metadata": {},
     "output_type": "execute_result"
    }
   ],
   "source": [
    "# kendal, pearson, \n",
    "c = result_olist_marged.corr(method = \"pearson\")\n",
    "c_sorted = c.sort_values( by=['price'], ascending = False )\n",
    "c_sorted[\"price\"]"
   ]
  },
  {
   "cell_type": "code",
   "execution_count": 39,
   "id": "1860c53c",
   "metadata": {},
   "outputs": [],
   "source": [
    "# sns.set_style(\"whitegrid\")\n",
    "\n",
    "# c_sorted[\"price\"].plot (kind = \"bar\")\n",
    "# plt.title(\"Correlation Between Price With All Variables\")\n",
    "# plt.xlabel(\"Variables\")\n",
    "# plt.ylabel(\"Pearson Correlation\")"
   ]
  },
  {
   "cell_type": "code",
   "execution_count": 40,
   "id": "254ccf8f",
   "metadata": {},
   "outputs": [
    {
     "data": {
      "image/png": "[encoded data removed]",
      "text/plain": [
       "<Figure size 1080x720 with 2 Axes>"
      ]
     },
     "metadata": {
      "needs_background": "light"
     },
     "output_type": "display_data"
    }
   ],
   "source": [
    "plt.figure(figsize=(15,10))\n",
    "hm = sns.heatmap(result_olist_marged.corr(), annot = True)\n",
    "\n",
    "hm.set_title(\"Correlation Between Price With All Variables\", fontsize=20)\n",
    "hm.set_xlabel(\"Variables\", fontsize=17)\n",
    "hm.set_ylabel(\"Pearson Correlation\", fontsize=17)\n",
    "\n",
    "\n",
    "\n",
    "plt.show()"
   ]
  },
  {
   "cell_type": "markdown",
   "id": "b6449fbd",
   "metadata": {},
   "source": [
    "Berdasarkan grafik diketathui\n",
    "variabel yang paling berkaitan dengan variable price yaitu variable payment_value, dimana nilai pembayaran tersebut di kategorikan hampir sesuai dengan harga yang di berikan,\n",
    "Sehingga sisa nilai payments_value berada di payment_installments"
   ]
  },
  {
   "cell_type": "markdown",
   "id": "f5630487",
   "metadata": {},
   "source": [
    "#### Payment Method"
   ]
  },
  {
   "cell_type": "code",
   "execution_count": 41,
   "id": "c41c1b56",
   "metadata": {},
   "outputs": [],
   "source": [
    "result_olist_marged['price_log'] = np.log(result_olist_marged['price'] + 1.5)"
   ]
  },
  {
   "cell_type": "code",
   "execution_count": 46,
   "id": "148e020f",
   "metadata": {},
   "outputs": [
    {
     "data": {
      "image/png": "[encoded data removed]",
      "text/plain": [
       "<Figure size 2304x576 with 1 Axes>"
      ]
     },
     "metadata": {
      "needs_background": "light"
     },
     "output_type": "display_data"
    }
   ],
   "source": [
    "total = len(result_olist_marged)\n",
    "plt.figure(figsize=(32,8))\n",
    "\n",
    "plt.subplot(121)\n",
    "g = sns.countplot(x='payment_type', data=result_olist_marged[result_olist_marged['payment_type'] != 'not_defined'])\n",
    "g.set_title(\"Payment Method Type\", fontsize=28)\n",
    "g.set_xlabel(\"Payment Type Name\", fontsize=16)\n",
    "g.set_ylabel(\"Cost\", fontsize=16)\n",
    "\n",
    "sizes = []\n",
    "for p in g.patches:\n",
    "    height = p.get_height()\n",
    "    sizes.append(height)\n",
    "    g.set_ylim(0, max(sizes) * 1.1)\n",
    "    g.text(p.get_x()+p.get_width()/2.,height + 3,'{:1.2f}%'.format(height/total*100),ha=\"center\", fontsize=24) \n",
    "    \n",
    "plt.show()"
   ]
  },
  {
   "cell_type": "markdown",
   "id": "4e9b94d8",
   "metadata": {},
   "source": [
    "Pada Grafik di atas terlihat beberapa type dari jenis pembayaran yang sering digunakan. Pada nilai tertinggi, metode pembayaran yang sering digunakan yaitu credit card\n"
   ]
  },
  {
   "cell_type": "markdown",
   "id": "45b1c3bf",
   "metadata": {},
   "source": [
    "### Region"
   ]
  },
  {
   "cell_type": "markdown",
   "id": "cd285088",
   "metadata": {},
   "source": [
    "#### Customer distribution"
   ]
  },
  {
   "cell_type": "code",
   "execution_count": null,
   "id": "41ba40ab",
   "metadata": {},
   "outputs": [],
   "source": [
    "olist_customers = olist_customers.rename(columns={\"customer_zip_code_prefix\":\"geolocation_zip_code_prefix\"})\n",
    "new_olist_customers= pd.merge(olist_customers, olist_geolocation, on=\"geolocation_zip_code_prefix\", how=\"left\")\n",
    "new_olist_customers= new_olist_customers.drop_duplicates(subset =\"customer_unique_id\")\n",
    "new_olist_customers = new_olist_customers.dropna( subset=[\"geolocation_lng\"])\n",
    "new_olist_customers = new_olist_customers.dropna( subset=[\"geolocation_lat\"])\n",
    "new_olist_customers= new_olist_customers.head(1000)"
   ]
  },
  {
   "cell_type": "code",
   "execution_count": null,
   "id": "3360fd14",
   "metadata": {},
   "outputs": [],
   "source": [
    "def cusMaps(default_location=[new_olist_customers.geolocation_lat.mean(), new_olist_customers.geolocation_lng.mean()],default_zoom_start=11):\n",
    "    base_map = folium.Map(location=default_location, control_scale=True, zoom_start=default_zoom_start)\n",
    "    return base_map\n",
    "for index, info_location in new_olist_customers.iterrows():\n",
    "    folium.Marker([info_location[\"geolocation_lat\"], info_location[\"geolocation_lng\"]], popup=info_location[\"customer_unique_id\"]).add_to(base_map)\n",
    "base_map    \n"
   ]
  },
  {
   "cell_type": "markdown",
   "id": "db75b8a9",
   "metadata": {},
   "source": [
    "Pada maps di atas terdapat titik penyebaran dari customer pada Brazilian E-Commerce, dan titik dominan customer berada di bagian tenggara Brasil, Rio de Janeiro adalah salah satu kota yang terdapat di bagian tenggara Brasil dan kota tersebut merupakan ibu kota negara Brasil"
   ]
  },
  {
   "cell_type": "markdown",
   "id": "65d3c559",
   "metadata": {},
   "source": [
    "#### Seller Distribution"
   ]
  },
  {
   "cell_type": "code",
   "execution_count": null,
   "id": "381a9606",
   "metadata": {},
   "outputs": [],
   "source": [
    "olist_sellers= olist_sellers.rename(columns={\"seller_zip_code_prefix\":\"geolocation_zip_code_prefix\"})\n",
    "location_seller= pd.merge(olist_sellers, olist_geolocation, on=\"geolocation_zip_code_prefix\")\n",
    "location_seller= location_seller.drop_duplicates(subset =\"seller_id\")\n",
    "location_seller = location_seller.dropna( subset=[\"geolocation_lat\"])\n",
    "location_seller = location_seller.dropna( subset=[\"geolocation_lng\"])\n",
    "location_seller=location_seller.head(100)"
   ]
  },
  {
   "cell_type": "code",
   "execution_count": null,
   "id": "71f7ca9b",
   "metadata": {},
   "outputs": [],
   "source": [
    "def SellerMaps(default_location=[location_seller.geolocation_lat.mean(), location_seller.geolocation_lng.mean()],default_zoom_start=11):\n",
    "    base_map = folium.Map(location=default_location, control_scale=True, zoom_start=default_zoom_start)\n",
    "    return base_map\n",
    "base_map = SellerMaps()\n",
    "base_map\n",
    "for index, info_location in location_seller.iterrows():\n",
    "    folium.Marker([info_location[\"geolocation_lat\"], info_location[\"geolocation_lng\"]], popup=info_location[\"seller_id\"]).add_to(base_map)\n",
    "base_map"
   ]
  },
  {
   "cell_type": "markdown",
   "id": "5e1e7aad",
   "metadata": {},
   "source": [
    "#### -----"
   ]
  }
 ],
 "metadata": {
  "kernelspec": {
   "display_name": "Python 3",
   "language": "python",
   "name": "python3"
  },
  "language_info": {
   "codemirror_mode": {
    "name": "ipython",
    "version": 3
   },
   "file_extension": ".py",
   "mimetype": "text/x-python",
   "name": "python",
   "nbconvert_exporter": "python",
   "pygments_lexer": "ipython3",
   "version": "3.8.8"
  }
 },
 "nbformat": 4,
 "nbformat_minor": 5
}

{
 "cells": [
  {
   "cell_type": "markdown",
   "id": "facf45d2",
   "metadata": {},
   "source": [
    "# Data Analysis on the Brazilian E-Commerce Public Dataset by Olist\n",
    "Author : Kelompok 18-D [Arif Widagdo, Jonatan Jeremi, Muhammad Idz, Wandi Wardiman]\n",
    "\n",
    "Description : This notebook is our first assignment at SIB E-Commerce to take the first step in implementing data cleaning, data integration and data visualization\n",
    "\n",
    "Outline :\n",
    "1. Data Cleaning\n",
    "2. Data Integration\n",
    "3. Visualisasi Data"
   ]
  },
  {
   "cell_type": "markdown",
   "id": "1820bfee",
   "metadata": {},
   "source": [
    "## Import Library"
   ]
  },
  {
   "cell_type": "code",
   "execution_count": 1,
   "id": "2b888790",
   "metadata": {},
   "outputs": [],
   "source": [
    "import pandas as pd\n",
    "import seaborn as sns\n",
    "import numpy as np\n",
    "import os\n",
    "import matplotlib.pyplot as plt"
   ]
  },
  {
   "cell_type": "markdown",
   "id": "c10f30a9",
   "metadata": {},
   "source": [
    "## Data Extraction"
   ]
  },
  {
   "cell_type": "code",
   "execution_count": 2,
   "id": "38cfff57",
   "metadata": {},
   "outputs": [
    {
     "data": {
      "text/plain": [
       "['olist_customers_dataset.csv',\n",
       " 'olist_geolocation_dataset.csv',\n",
       " 'olist_orders_dataset.csv',\n",
       " 'olist_order_items_dataset.csv',\n",
       " 'olist_order_payments_dataset.csv',\n",
       " 'olist_order_reviews_dataset.csv',\n",
       " 'olist_products_dataset.csv',\n",
       " 'olist_sellers_dataset.csv',\n",
       " 'product_category_name_translation.csv']"
      ]
     },
     "execution_count": 2,
     "metadata": {},
     "output_type": "execute_result"
    }
   ],
   "source": [
    "## read list dataset in directory data\n",
    "os.listdir(\"../data\")"
   ]
  },
  {
   "cell_type": "code",
   "execution_count": 3,
   "id": "81094010",
   "metadata": {},
   "outputs": [],
   "source": [
    "## check empty value\n",
    "missing_values = [\"?\",\"N/a\",\"na\",np.nan]\n",
    "## read dataset\n",
    "olist_customers = pd.read_csv(\"../data/olist_customers_dataset.csv\" , na_values = missing_values)\n",
    "olist_geolocation = pd.read_csv(\"../data/olist_geolocation_dataset.csv\" , na_values = missing_values)\n",
    "olist_order_items = pd.read_csv(\"../data/olist_order_items_dataset.csv\" , na_values = missing_values)\n",
    "olist_order_payments = pd.read_csv(\"../data/olist_order_payments_dataset.csv\" , na_values = missing_values)\n",
    "olist_order_reviews = pd.read_csv(\"../data/olist_order_reviews_dataset.csv\" , na_values = missing_values)\n",
    "olist_orders = pd.read_csv(\"../data/olist_orders_dataset.csv\" , na_values = missing_values)\n",
    "olist_products = pd.read_csv(\"../data/olist_products_dataset.csv\" , na_values = missing_values)\n",
    "olist_sellers = pd.read_csv(\"../data/olist_sellers_dataset.csv\" , na_values = missing_values)\n",
    "product_category_name_translation= pd.read_csv(\"../data/product_category_name_translation.csv\" , na_values = missing_values)"
   ]
  },
  {
   "cell_type": "markdown",
   "id": "a99412d4",
   "metadata": {},
   "source": [
    "## 1. Data Cleaning"
   ]
  },
  {
   "cell_type": "markdown",
   "id": "49d1e3a8",
   "metadata": {},
   "source": [
    "### - olist_customers_dataset"
   ]
  },
  {
   "cell_type": "code",
   "execution_count": 4,
   "id": "36f963cb",
   "metadata": {},
   "outputs": [
    {
     "data": {
      "text/html": [
       "<div>\n",
       "<style scoped>\n",
       "    .dataframe tbody tr th:only-of-type {\n",
       "        vertical-align: middle;\n",
       "    }\n",
       "\n",
       "    .dataframe tbody tr th {\n",
       "        vertical-align: top;\n",
       "    }\n",
       "\n",
       "    .dataframe thead th {\n",
       "        text-align: right;\n",
       "    }\n",
       "</style>\n",
       "<table border=\"1\" class=\"dataframe\">\n",
       "  <thead>\n",
       "    <tr style=\"text-align: right;\">\n",
       "      <th></th>\n",
       "      <th>customer_id</th>\n",
       "      <th>customer_unique_id</th>\n",
       "      <th>customer_zip_code_prefix</th>\n",
       "      <th>customer_city</th>\n",
       "      <th>customer_state</th>\n",
       "    </tr>\n",
       "  </thead>\n",
       "  <tbody>\n",
       "    <tr>\n",
       "      <th>0</th>\n",
       "      <td>06b8999e2fba1a1fbc88172c00ba8bc7</td>\n",
       "      <td>861eff4711a542e4b93843c6dd7febb0</td>\n",
       "      <td>14409</td>\n",
       "      <td>franca</td>\n",
       "      <td>SP</td>\n",
       "    </tr>\n",
       "    <tr>\n",
       "      <th>1</th>\n",
       "      <td>18955e83d337fd6b2def6b18a428ac77</td>\n",
       "      <td>290c77bc529b7ac935b93aa66c333dc3</td>\n",
       "      <td>9790</td>\n",
       "      <td>sao bernardo do campo</td>\n",
       "      <td>SP</td>\n",
       "    </tr>\n",
       "  </tbody>\n",
       "</table>\n",
       "</div>"
      ],
      "text/plain": [
       "                        customer_id                customer_unique_id  \\\n",
       "0  06b8999e2fba1a1fbc88172c00ba8bc7  861eff4711a542e4b93843c6dd7febb0   \n",
       "1  18955e83d337fd6b2def6b18a428ac77  290c77bc529b7ac935b93aa66c333dc3   \n",
       "\n",
       "   customer_zip_code_prefix          customer_city customer_state  \n",
       "0                     14409                 franca             SP  \n",
       "1                      9790  sao bernardo do campo             SP  "
      ]
     },
     "execution_count": 4,
     "metadata": {},
     "output_type": "execute_result"
    }
   ],
   "source": [
    "olist_customers.head(2)"
   ]
  },
  {
   "cell_type": "markdown",
   "id": "a6281d1b",
   "metadata": {},
   "source": [
    "### - olist_geolocation_dataset"
   ]
  },
  {
   "cell_type": "code",
   "execution_count": 5,
   "id": "5ac58ffe",
   "metadata": {},
   "outputs": [
    {
     "data": {
      "text/html": [
       "<div>\n",
       "<style scoped>\n",
       "    .dataframe tbody tr th:only-of-type {\n",
       "        vertical-align: middle;\n",
       "    }\n",
       "\n",
       "    .dataframe tbody tr th {\n",
       "        vertical-align: top;\n",
       "    }\n",
       "\n",
       "    .dataframe thead th {\n",
       "        text-align: right;\n",
       "    }\n",
       "</style>\n",
       "<table border=\"1\" class=\"dataframe\">\n",
       "  <thead>\n",
       "    <tr style=\"text-align: right;\">\n",
       "      <th></th>\n",
       "      <th>geolocation_zip_code_prefix</th>\n",
       "      <th>geolocation_lat</th>\n",
       "      <th>geolocation_lng</th>\n",
       "      <th>geolocation_city</th>\n",
       "      <th>geolocation_state</th>\n",
       "    </tr>\n",
       "  </thead>\n",
       "  <tbody>\n",
       "    <tr>\n",
       "      <th>0</th>\n",
       "      <td>1037</td>\n",
       "      <td>-23.545621</td>\n",
       "      <td>-46.639292</td>\n",
       "      <td>sao paulo</td>\n",
       "      <td>SP</td>\n",
       "    </tr>\n",
       "    <tr>\n",
       "      <th>1</th>\n",
       "      <td>1046</td>\n",
       "      <td>-23.546081</td>\n",
       "      <td>-46.644820</td>\n",
       "      <td>sao paulo</td>\n",
       "      <td>SP</td>\n",
       "    </tr>\n",
       "  </tbody>\n",
       "</table>\n",
       "</div>"
      ],
      "text/plain": [
       "   geolocation_zip_code_prefix  geolocation_lat  geolocation_lng  \\\n",
       "0                         1037       -23.545621       -46.639292   \n",
       "1                         1046       -23.546081       -46.644820   \n",
       "\n",
       "  geolocation_city geolocation_state  \n",
       "0        sao paulo                SP  \n",
       "1        sao paulo                SP  "
      ]
     },
     "execution_count": 5,
     "metadata": {},
     "output_type": "execute_result"
    }
   ],
   "source": [
    "olist_geolocation.head(2)"
   ]
  },
  {
   "cell_type": "markdown",
   "id": "4b952cb5",
   "metadata": {},
   "source": [
    "### - olist_order_items_dataset"
   ]
  },
  {
   "cell_type": "code",
   "execution_count": 6,
   "id": "2abb63a3",
   "metadata": {},
   "outputs": [
    {
     "data": {
      "text/html": [
       "<div>\n",
       "<style scoped>\n",
       "    .dataframe tbody tr th:only-of-type {\n",
       "        vertical-align: middle;\n",
       "    }\n",
       "\n",
       "    .dataframe tbody tr th {\n",
       "        vertical-align: top;\n",
       "    }\n",
       "\n",
       "    .dataframe thead th {\n",
       "        text-align: right;\n",
       "    }\n",
       "</style>\n",
       "<table border=\"1\" class=\"dataframe\">\n",
       "  <thead>\n",
       "    <tr style=\"text-align: right;\">\n",
       "      <th></th>\n",
       "      <th>order_id</th>\n",
       "      <th>order_item_id</th>\n",
       "      <th>product_id</th>\n",
       "      <th>seller_id</th>\n",
       "      <th>shipping_limit_date</th>\n",
       "      <th>price</th>\n",
       "      <th>freight_value</th>\n",
       "    </tr>\n",
       "  </thead>\n",
       "  <tbody>\n",
       "    <tr>\n",
       "      <th>0</th>\n",
       "      <td>00010242fe8c5a6d1ba2dd792cb16214</td>\n",
       "      <td>1</td>\n",
       "      <td>4244733e06e7ecb4970a6e2683c13e61</td>\n",
       "      <td>48436dade18ac8b2bce089ec2a041202</td>\n",
       "      <td>2017-09-19 09:45:35</td>\n",
       "      <td>58.9</td>\n",
       "      <td>13.29</td>\n",
       "    </tr>\n",
       "    <tr>\n",
       "      <th>1</th>\n",
       "      <td>00018f77f2f0320c557190d7a144bdd3</td>\n",
       "      <td>1</td>\n",
       "      <td>e5f2d52b802189ee658865ca93d83a8f</td>\n",
       "      <td>dd7ddc04e1b6c2c614352b383efe2d36</td>\n",
       "      <td>2017-05-03 11:05:13</td>\n",
       "      <td>239.9</td>\n",
       "      <td>19.93</td>\n",
       "    </tr>\n",
       "  </tbody>\n",
       "</table>\n",
       "</div>"
      ],
      "text/plain": [
       "                           order_id  order_item_id  \\\n",
       "0  00010242fe8c5a6d1ba2dd792cb16214              1   \n",
       "1  00018f77f2f0320c557190d7a144bdd3              1   \n",
       "\n",
       "                         product_id                         seller_id  \\\n",
       "0  4244733e06e7ecb4970a6e2683c13e61  48436dade18ac8b2bce089ec2a041202   \n",
       "1  e5f2d52b802189ee658865ca93d83a8f  dd7ddc04e1b6c2c614352b383efe2d36   \n",
       "\n",
       "   shipping_limit_date  price  freight_value  \n",
       "0  2017-09-19 09:45:35   58.9          13.29  \n",
       "1  2017-05-03 11:05:13  239.9          19.93  "
      ]
     },
     "execution_count": 6,
     "metadata": {},
     "output_type": "execute_result"
    }
   ],
   "source": [
    "olist_order_items.head(2)"
   ]
  },
  {
   "cell_type": "markdown",
   "id": "8c7d9b19",
   "metadata": {},
   "source": [
    "### - olist_order_payments_dataset"
   ]
  },
  {
   "cell_type": "code",
   "execution_count": 7,
   "id": "e3901ce8",
   "metadata": {},
   "outputs": [
    {
     "data": {
      "text/html": [
       "<div>\n",
       "<style scoped>\n",
       "    .dataframe tbody tr th:only-of-type {\n",
       "        vertical-align: middle;\n",
       "    }\n",
       "\n",
       "    .dataframe tbody tr th {\n",
       "        vertical-align: top;\n",
       "    }\n",
       "\n",
       "    .dataframe thead th {\n",
       "        text-align: right;\n",
       "    }\n",
       "</style>\n",
       "<table border=\"1\" class=\"dataframe\">\n",
       "  <thead>\n",
       "    <tr style=\"text-align: right;\">\n",
       "      <th></th>\n",
       "      <th>order_id</th>\n",
       "      <th>payment_sequential</th>\n",
       "      <th>payment_type</th>\n",
       "      <th>payment_installments</th>\n",
       "      <th>payment_value</th>\n",
       "    </tr>\n",
       "  </thead>\n",
       "  <tbody>\n",
       "    <tr>\n",
       "      <th>0</th>\n",
       "      <td>b81ef226f3fe1789b1e8b2acac839d17</td>\n",
       "      <td>1</td>\n",
       "      <td>credit_card</td>\n",
       "      <td>8</td>\n",
       "      <td>99.33</td>\n",
       "    </tr>\n",
       "    <tr>\n",
       "      <th>1</th>\n",
       "      <td>a9810da82917af2d9aefd1278f1dcfa0</td>\n",
       "      <td>1</td>\n",
       "      <td>credit_card</td>\n",
       "      <td>1</td>\n",
       "      <td>24.39</td>\n",
       "    </tr>\n",
       "  </tbody>\n",
       "</table>\n",
       "</div>"
      ],
      "text/plain": [
       "                           order_id  payment_sequential payment_type  \\\n",
       "0  b81ef226f3fe1789b1e8b2acac839d17                   1  credit_card   \n",
       "1  a9810da82917af2d9aefd1278f1dcfa0                   1  credit_card   \n",
       "\n",
       "   payment_installments  payment_value  \n",
       "0                     8          99.33  \n",
       "1                     1          24.39  "
      ]
     },
     "execution_count": 7,
     "metadata": {},
     "output_type": "execute_result"
    }
   ],
   "source": [
    "olist_order_payments.head(2)"
   ]
  },
  {
   "cell_type": "markdown",
   "id": "eb30e20a",
   "metadata": {},
   "source": [
    "### - olist_order_reviews_dataset"
   ]
  },
  {
   "cell_type": "code",
   "execution_count": 8,
   "id": "10bd9418",
   "metadata": {},
   "outputs": [
    {
     "data": {
      "text/html": [
       "<div>\n",
       "<style scoped>\n",
       "    .dataframe tbody tr th:only-of-type {\n",
       "        vertical-align: middle;\n",
       "    }\n",
       "\n",
       "    .dataframe tbody tr th {\n",
       "        vertical-align: top;\n",
       "    }\n",
       "\n",
       "    .dataframe thead th {\n",
       "        text-align: right;\n",
       "    }\n",
       "</style>\n",
       "<table border=\"1\" class=\"dataframe\">\n",
       "  <thead>\n",
       "    <tr style=\"text-align: right;\">\n",
       "      <th></th>\n",
       "      <th>review_id</th>\n",
       "      <th>order_id</th>\n",
       "      <th>review_score</th>\n",
       "      <th>review_comment_title</th>\n",
       "      <th>review_comment_message</th>\n",
       "      <th>review_creation_date</th>\n",
       "      <th>review_answer_timestamp</th>\n",
       "    </tr>\n",
       "  </thead>\n",
       "  <tbody>\n",
       "    <tr>\n",
       "      <th>0</th>\n",
       "      <td>7bc2406110b926393aa56f80a40eba40</td>\n",
       "      <td>73fc7af87114b39712e6da79b0a377eb</td>\n",
       "      <td>4</td>\n",
       "      <td>NaN</td>\n",
       "      <td>NaN</td>\n",
       "      <td>2018-01-18 00:00:00</td>\n",
       "      <td>2018-01-18 21:46:59</td>\n",
       "    </tr>\n",
       "    <tr>\n",
       "      <th>1</th>\n",
       "      <td>80e641a11e56f04c1ad469d5645fdfde</td>\n",
       "      <td>a548910a1c6147796b98fdf73dbeba33</td>\n",
       "      <td>5</td>\n",
       "      <td>NaN</td>\n",
       "      <td>NaN</td>\n",
       "      <td>2018-03-10 00:00:00</td>\n",
       "      <td>2018-03-11 03:05:13</td>\n",
       "    </tr>\n",
       "  </tbody>\n",
       "</table>\n",
       "</div>"
      ],
      "text/plain": [
       "                          review_id                          order_id  \\\n",
       "0  7bc2406110b926393aa56f80a40eba40  73fc7af87114b39712e6da79b0a377eb   \n",
       "1  80e641a11e56f04c1ad469d5645fdfde  a548910a1c6147796b98fdf73dbeba33   \n",
       "\n",
       "   review_score review_comment_title review_comment_message  \\\n",
       "0             4                  NaN                    NaN   \n",
       "1             5                  NaN                    NaN   \n",
       "\n",
       "  review_creation_date review_answer_timestamp  \n",
       "0  2018-01-18 00:00:00     2018-01-18 21:46:59  \n",
       "1  2018-03-10 00:00:00     2018-03-11 03:05:13  "
      ]
     },
     "execution_count": 8,
     "metadata": {},
     "output_type": "execute_result"
    }
   ],
   "source": [
    "olist_order_reviews.head(2)"
   ]
  },
  {
   "cell_type": "markdown",
   "id": "cbab62ad",
   "metadata": {},
   "source": [
    "#### check empty value in olist_order_reviews_dataset"
   ]
  },
  {
   "cell_type": "code",
   "execution_count": 9,
   "id": "fc7ca5cb",
   "metadata": {},
   "outputs": [
    {
     "data": {
      "text/plain": [
       "(99224, 7)"
      ]
     },
     "execution_count": 9,
     "metadata": {},
     "output_type": "execute_result"
    }
   ],
   "source": [
    "olist_order_reviews.shape"
   ]
  },
  {
   "cell_type": "code",
   "execution_count": 10,
   "id": "fe659081",
   "metadata": {},
   "outputs": [
    {
     "data": {
      "text/plain": [
       "review_id                      0\n",
       "order_id                       0\n",
       "review_score                   0\n",
       "review_comment_title       87657\n",
       "review_comment_message     58251\n",
       "review_creation_date           0\n",
       "review_answer_timestamp        0\n",
       "dtype: int64"
      ]
     },
     "execution_count": 10,
     "metadata": {},
     "output_type": "execute_result"
    }
   ],
   "source": [
    "olist_order_reviews.isnull().sum()"
   ]
  },
  {
   "cell_type": "code",
   "execution_count": 11,
   "id": "d610030d",
   "metadata": {},
   "outputs": [
    {
     "data": {
      "text/plain": [
       "review_id                  False\n",
       "order_id                   False\n",
       "review_score               False\n",
       "review_comment_title        True\n",
       "review_comment_message      True\n",
       "review_creation_date       False\n",
       "review_answer_timestamp    False\n",
       "dtype: bool"
      ]
     },
     "execution_count": 11,
     "metadata": {},
     "output_type": "execute_result"
    }
   ],
   "source": [
    "olist_order_reviews.isnull().any()"
   ]
  },
  {
   "cell_type": "code",
   "execution_count": 12,
   "id": "0d659654",
   "metadata": {},
   "outputs": [
    {
     "data": {
      "text/plain": [
       "<AxesSubplot:>"
      ]
     },
     "execution_count": 12,
     "metadata": {},
     "output_type": "execute_result"
    },
    {
     "data": {
      "image/png": "[encoded data removed]",
      "text/plain": [
       "<Figure size 432x288 with 2 Axes>"
      ]
     },
     "metadata": {
      "needs_background": "light"
     },
     "output_type": "display_data"
    }
   ],
   "source": [
    "sns.heatmap(olist_order_reviews.isnull(), yticklabels=False)"
   ]
  },
  {
   "cell_type": "markdown",
   "id": "b922a370",
   "metadata": {},
   "source": [
    "#### solution"
   ]
  },
  {
   "cell_type": "code",
   "execution_count": 13,
   "id": "fd619363",
   "metadata": {},
   "outputs": [
    {
     "data": {
      "text/html": [
       "<div>\n",
       "<style scoped>\n",
       "    .dataframe tbody tr th:only-of-type {\n",
       "        vertical-align: middle;\n",
       "    }\n",
       "\n",
       "    .dataframe tbody tr th {\n",
       "        vertical-align: top;\n",
       "    }\n",
       "\n",
       "    .dataframe thead th {\n",
       "        text-align: right;\n",
       "    }\n",
       "</style>\n",
       "<table border=\"1\" class=\"dataframe\">\n",
       "  <thead>\n",
       "    <tr style=\"text-align: right;\">\n",
       "      <th></th>\n",
       "      <th>review_id</th>\n",
       "      <th>order_id</th>\n",
       "      <th>review_score</th>\n",
       "      <th>review_creation_date</th>\n",
       "      <th>review_answer_timestamp</th>\n",
       "    </tr>\n",
       "  </thead>\n",
       "  <tbody>\n",
       "    <tr>\n",
       "      <th>0</th>\n",
       "      <td>7bc2406110b926393aa56f80a40eba40</td>\n",
       "      <td>73fc7af87114b39712e6da79b0a377eb</td>\n",
       "      <td>4</td>\n",
       "      <td>2018-01-18 00:00:00</td>\n",
       "      <td>2018-01-18 21:46:59</td>\n",
       "    </tr>\n",
       "    <tr>\n",
       "      <th>1</th>\n",
       "      <td>80e641a11e56f04c1ad469d5645fdfde</td>\n",
       "      <td>a548910a1c6147796b98fdf73dbeba33</td>\n",
       "      <td>5</td>\n",
       "      <td>2018-03-10 00:00:00</td>\n",
       "      <td>2018-03-11 03:05:13</td>\n",
       "    </tr>\n",
       "  </tbody>\n",
       "</table>\n",
       "</div>"
      ],
      "text/plain": [
       "                          review_id                          order_id  \\\n",
       "0  7bc2406110b926393aa56f80a40eba40  73fc7af87114b39712e6da79b0a377eb   \n",
       "1  80e641a11e56f04c1ad469d5645fdfde  a548910a1c6147796b98fdf73dbeba33   \n",
       "\n",
       "   review_score review_creation_date review_answer_timestamp  \n",
       "0             4  2018-01-18 00:00:00     2018-01-18 21:46:59  \n",
       "1             5  2018-03-10 00:00:00     2018-03-11 03:05:13  "
      ]
     },
     "execution_count": 13,
     "metadata": {},
     "output_type": "execute_result"
    }
   ],
   "source": [
    "## remove review_comment_title column & review_comment_message column \n",
    "olist_order_reviews = olist_order_reviews.drop(['review_comment_title'], axis=1)\n",
    "olist_order_reviews = olist_order_reviews.drop(['review_comment_message'], axis=1)\n",
    "olist_order_reviews.head(2)"
   ]
  },
  {
   "cell_type": "code",
   "execution_count": 14,
   "id": "efc8efc1",
   "metadata": {},
   "outputs": [
    {
     "data": {
      "text/plain": [
       "review_id                  0\n",
       "order_id                   0\n",
       "review_score               0\n",
       "review_creation_date       0\n",
       "review_answer_timestamp    0\n",
       "dtype: int64"
      ]
     },
     "execution_count": 14,
     "metadata": {},
     "output_type": "execute_result"
    }
   ],
   "source": [
    "olist_order_reviews.isnull().sum()"
   ]
  },
  {
   "cell_type": "markdown",
   "id": "440e4364",
   "metadata": {},
   "source": [
    "### - olist_orders_dataset"
   ]
  },
  {
   "cell_type": "code",
   "execution_count": 15,
   "id": "d9104186",
   "metadata": {},
   "outputs": [
    {
     "data": {
      "text/html": [
       "<div>\n",
       "<style scoped>\n",
       "    .dataframe tbody tr th:only-of-type {\n",
       "        vertical-align: middle;\n",
       "    }\n",
       "\n",
       "    .dataframe tbody tr th {\n",
       "        vertical-align: top;\n",
       "    }\n",
       "\n",
       "    .dataframe thead th {\n",
       "        text-align: right;\n",
       "    }\n",
       "</style>\n",
       "<table border=\"1\" class=\"dataframe\">\n",
       "  <thead>\n",
       "    <tr style=\"text-align: right;\">\n",
       "      <th></th>\n",
       "      <th>order_id</th>\n",
       "      <th>customer_id</th>\n",
       "      <th>order_status</th>\n",
       "      <th>order_purchase_timestamp</th>\n",
       "      <th>order_approved_at</th>\n",
       "      <th>order_delivered_carrier_date</th>\n",
       "      <th>order_delivered_customer_date</th>\n",
       "      <th>order_estimated_delivery_date</th>\n",
       "    </tr>\n",
       "  </thead>\n",
       "  <tbody>\n",
       "    <tr>\n",
       "      <th>0</th>\n",
       "      <td>e481f51cbdc54678b7cc49136f2d6af7</td>\n",
       "      <td>9ef432eb6251297304e76186b10a928d</td>\n",
       "      <td>delivered</td>\n",
       "      <td>2017-10-02 10:56:33</td>\n",
       "      <td>2017-10-02 11:07:15</td>\n",
       "      <td>2017-10-04 19:55:00</td>\n",
       "      <td>2017-10-10 21:25:13</td>\n",
       "      <td>2017-10-18 00:00:00</td>\n",
       "    </tr>\n",
       "    <tr>\n",
       "      <th>1</th>\n",
       "      <td>53cdb2fc8bc7dce0b6741e2150273451</td>\n",
       "      <td>b0830fb4747a6c6d20dea0b8c802d7ef</td>\n",
       "      <td>delivered</td>\n",
       "      <td>2018-07-24 20:41:37</td>\n",
       "      <td>2018-07-26 03:24:27</td>\n",
       "      <td>2018-07-26 14:31:00</td>\n",
       "      <td>2018-08-07 15:27:45</td>\n",
       "      <td>2018-08-13 00:00:00</td>\n",
       "    </tr>\n",
       "  </tbody>\n",
       "</table>\n",
       "</div>"
      ],
      "text/plain": [
       "                           order_id                       customer_id  \\\n",
       "0  e481f51cbdc54678b7cc49136f2d6af7  9ef432eb6251297304e76186b10a928d   \n",
       "1  53cdb2fc8bc7dce0b6741e2150273451  b0830fb4747a6c6d20dea0b8c802d7ef   \n",
       "\n",
       "  order_status order_purchase_timestamp    order_approved_at  \\\n",
       "0    delivered      2017-10-02 10:56:33  2017-10-02 11:07:15   \n",
       "1    delivered      2018-07-24 20:41:37  2018-07-26 03:24:27   \n",
       "\n",
       "  order_delivered_carrier_date order_delivered_customer_date  \\\n",
       "0          2017-10-04 19:55:00           2017-10-10 21:25:13   \n",
       "1          2018-07-26 14:31:00           2018-08-07 15:27:45   \n",
       "\n",
       "  order_estimated_delivery_date  \n",
       "0           2017-10-18 00:00:00  \n",
       "1           2018-08-13 00:00:00  "
      ]
     },
     "execution_count": 15,
     "metadata": {},
     "output_type": "execute_result"
    }
   ],
   "source": [
    "olist_orders.head(2)"
   ]
  },
  {
   "cell_type": "markdown",
   "id": "9d2a49cf",
   "metadata": {},
   "source": [
    "#### check empty value in olist_orders_dataset"
   ]
  },
  {
   "cell_type": "code",
   "execution_count": 16,
   "id": "a9de300b",
   "metadata": {},
   "outputs": [
    {
     "data": {
      "text/plain": [
       "(99441, 8)"
      ]
     },
     "execution_count": 16,
     "metadata": {},
     "output_type": "execute_result"
    }
   ],
   "source": [
    "olist_orders.shape"
   ]
  },
  {
   "cell_type": "code",
   "execution_count": 17,
   "id": "37e7f980",
   "metadata": {},
   "outputs": [
    {
     "data": {
      "text/plain": [
       "order_id                            0\n",
       "customer_id                         0\n",
       "order_status                        0\n",
       "order_purchase_timestamp            0\n",
       "order_approved_at                 160\n",
       "order_delivered_carrier_date     1783\n",
       "order_delivered_customer_date    2965\n",
       "order_estimated_delivery_date       0\n",
       "dtype: int64"
      ]
     },
     "execution_count": 17,
     "metadata": {},
     "output_type": "execute_result"
    }
   ],
   "source": [
    "olist_orders.isnull().sum()"
   ]
  },
  {
   "cell_type": "code",
   "execution_count": 18,
   "id": "df6945b2",
   "metadata": {},
   "outputs": [
    {
     "data": {
      "text/plain": [
       "order_id                         False\n",
       "customer_id                      False\n",
       "order_status                     False\n",
       "order_purchase_timestamp         False\n",
       "order_approved_at                 True\n",
       "order_delivered_carrier_date      True\n",
       "order_delivered_customer_date     True\n",
       "order_estimated_delivery_date    False\n",
       "dtype: bool"
      ]
     },
     "execution_count": 18,
     "metadata": {},
     "output_type": "execute_result"
    }
   ],
   "source": [
    "olist_orders.isnull().any()"
   ]
  },
  {
   "cell_type": "markdown",
   "id": "95504cd1",
   "metadata": {},
   "source": [
    "#### solution"
   ]
  },
  {
   "cell_type": "code",
   "execution_count": 19,
   "id": "7258e1fb",
   "metadata": {},
   "outputs": [
    {
     "data": {
      "text/plain": [
       "(96461, 8)"
      ]
     },
     "execution_count": 19,
     "metadata": {},
     "output_type": "execute_result"
    }
   ],
   "source": [
    "## if all the columns do not contain values then use the following source code :\n",
    "## olist_orders2 = olist_orders.dropna(how='all')\n",
    "\n",
    "## else if only some values are missing in the column and you don't want to delete those rows, \n",
    "## you can use the following source code: \n",
    "## olist_orders2 = olist_orders.fillna(0)\n",
    "\n",
    "## else if only some values are missing in the column and you want to fill those data with the values in the previous row (duplicates), \n",
    "## you can use the following source code :\n",
    "## olist_orders2 = olist_orders.fillna(method='ffill')\n",
    "\n",
    "## else if only some values are missing in the column and you want to fill those data with the values in the next row (duplicates), \n",
    "## you can use the following source code :\n",
    "## olist_products2 = olist_products.fillna(method='bfill')\n",
    "\n",
    "## you can use the following source code :\n",
    "## olist_products2 = olist_products.interpolate()\n",
    "\n",
    "\n",
    "olist_orders2 = olist_orders.dropna()\n",
    "olist_orders2.shape"
   ]
  },
  {
   "cell_type": "code",
   "execution_count": 20,
   "id": "cc7f2a90",
   "metadata": {},
   "outputs": [
    {
     "data": {
      "text/plain": [
       "order_id                         0\n",
       "customer_id                      0\n",
       "order_status                     0\n",
       "order_purchase_timestamp         0\n",
       "order_approved_at                0\n",
       "order_delivered_carrier_date     0\n",
       "order_delivered_customer_date    0\n",
       "order_estimated_delivery_date    0\n",
       "dtype: int64"
      ]
     },
     "execution_count": 20,
     "metadata": {},
     "output_type": "execute_result"
    }
   ],
   "source": [
    "olist_orders2.isnull().sum()"
   ]
  },
  {
   "cell_type": "markdown",
   "id": "6281a6ff",
   "metadata": {},
   "source": [
    "### - olist_products_dataset"
   ]
  },
  {
   "cell_type": "code",
   "execution_count": 21,
   "id": "41eb79e6",
   "metadata": {},
   "outputs": [
    {
     "data": {
      "text/html": [
       "<div>\n",
       "<style scoped>\n",
       "    .dataframe tbody tr th:only-of-type {\n",
       "        vertical-align: middle;\n",
       "    }\n",
       "\n",
       "    .dataframe tbody tr th {\n",
       "        vertical-align: top;\n",
       "    }\n",
       "\n",
       "    .dataframe thead th {\n",
       "        text-align: right;\n",
       "    }\n",
       "</style>\n",
       "<table border=\"1\" class=\"dataframe\">\n",
       "  <thead>\n",
       "    <tr style=\"text-align: right;\">\n",
       "      <th></th>\n",
       "      <th>product_id</th>\n",
       "      <th>product_category_name</th>\n",
       "      <th>product_name_lenght</th>\n",
       "      <th>product_description_lenght</th>\n",
       "      <th>product_photos_qty</th>\n",
       "      <th>product_weight_g</th>\n",
       "      <th>product_length_cm</th>\n",
       "      <th>product_height_cm</th>\n",
       "      <th>product_width_cm</th>\n",
       "    </tr>\n",
       "  </thead>\n",
       "  <tbody>\n",
       "    <tr>\n",
       "      <th>0</th>\n",
       "      <td>1e9e8ef04dbcff4541ed26657ea517e5</td>\n",
       "      <td>perfumaria</td>\n",
       "      <td>40.0</td>\n",
       "      <td>287.0</td>\n",
       "      <td>1.0</td>\n",
       "      <td>225.0</td>\n",
       "      <td>16.0</td>\n",
       "      <td>10.0</td>\n",
       "      <td>14.0</td>\n",
       "    </tr>\n",
       "    <tr>\n",
       "      <th>1</th>\n",
       "      <td>3aa071139cb16b67ca9e5dea641aaa2f</td>\n",
       "      <td>artes</td>\n",
       "      <td>44.0</td>\n",
       "      <td>276.0</td>\n",
       "      <td>1.0</td>\n",
       "      <td>1000.0</td>\n",
       "      <td>30.0</td>\n",
       "      <td>18.0</td>\n",
       "      <td>20.0</td>\n",
       "    </tr>\n",
       "    <tr>\n",
       "      <th>2</th>\n",
       "      <td>96bd76ec8810374ed1b65e291975717f</td>\n",
       "      <td>esporte_lazer</td>\n",
       "      <td>46.0</td>\n",
       "      <td>250.0</td>\n",
       "      <td>1.0</td>\n",
       "      <td>154.0</td>\n",
       "      <td>18.0</td>\n",
       "      <td>9.0</td>\n",
       "      <td>15.0</td>\n",
       "    </tr>\n",
       "    <tr>\n",
       "      <th>3</th>\n",
       "      <td>cef67bcfe19066a932b7673e239eb23d</td>\n",
       "      <td>bebes</td>\n",
       "      <td>27.0</td>\n",
       "      <td>261.0</td>\n",
       "      <td>1.0</td>\n",
       "      <td>371.0</td>\n",
       "      <td>26.0</td>\n",
       "      <td>4.0</td>\n",
       "      <td>26.0</td>\n",
       "    </tr>\n",
       "    <tr>\n",
       "      <th>4</th>\n",
       "      <td>9dc1a7de274444849c219cff195d0b71</td>\n",
       "      <td>utilidades_domesticas</td>\n",
       "      <td>37.0</td>\n",
       "      <td>402.0</td>\n",
       "      <td>4.0</td>\n",
       "      <td>625.0</td>\n",
       "      <td>20.0</td>\n",
       "      <td>17.0</td>\n",
       "      <td>13.0</td>\n",
       "    </tr>\n",
       "    <tr>\n",
       "      <th>...</th>\n",
       "      <td>...</td>\n",
       "      <td>...</td>\n",
       "      <td>...</td>\n",
       "      <td>...</td>\n",
       "      <td>...</td>\n",
       "      <td>...</td>\n",
       "      <td>...</td>\n",
       "      <td>...</td>\n",
       "      <td>...</td>\n",
       "    </tr>\n",
       "    <tr>\n",
       "      <th>32946</th>\n",
       "      <td>a0b7d5a992ccda646f2d34e418fff5a0</td>\n",
       "      <td>moveis_decoracao</td>\n",
       "      <td>45.0</td>\n",
       "      <td>67.0</td>\n",
       "      <td>2.0</td>\n",
       "      <td>12300.0</td>\n",
       "      <td>40.0</td>\n",
       "      <td>40.0</td>\n",
       "      <td>40.0</td>\n",
       "    </tr>\n",
       "    <tr>\n",
       "      <th>32947</th>\n",
       "      <td>bf4538d88321d0fd4412a93c974510e6</td>\n",
       "      <td>construcao_ferramentas_iluminacao</td>\n",
       "      <td>41.0</td>\n",
       "      <td>971.0</td>\n",
       "      <td>1.0</td>\n",
       "      <td>1700.0</td>\n",
       "      <td>16.0</td>\n",
       "      <td>19.0</td>\n",
       "      <td>16.0</td>\n",
       "    </tr>\n",
       "    <tr>\n",
       "      <th>32948</th>\n",
       "      <td>9a7c6041fa9592d9d9ef6cfe62a71f8c</td>\n",
       "      <td>cama_mesa_banho</td>\n",
       "      <td>50.0</td>\n",
       "      <td>799.0</td>\n",
       "      <td>1.0</td>\n",
       "      <td>1400.0</td>\n",
       "      <td>27.0</td>\n",
       "      <td>7.0</td>\n",
       "      <td>27.0</td>\n",
       "    </tr>\n",
       "    <tr>\n",
       "      <th>32949</th>\n",
       "      <td>83808703fc0706a22e264b9d75f04a2e</td>\n",
       "      <td>informatica_acessorios</td>\n",
       "      <td>60.0</td>\n",
       "      <td>156.0</td>\n",
       "      <td>2.0</td>\n",
       "      <td>700.0</td>\n",
       "      <td>31.0</td>\n",
       "      <td>13.0</td>\n",
       "      <td>20.0</td>\n",
       "    </tr>\n",
       "    <tr>\n",
       "      <th>32950</th>\n",
       "      <td>106392145fca363410d287a815be6de4</td>\n",
       "      <td>cama_mesa_banho</td>\n",
       "      <td>58.0</td>\n",
       "      <td>309.0</td>\n",
       "      <td>1.0</td>\n",
       "      <td>2083.0</td>\n",
       "      <td>12.0</td>\n",
       "      <td>2.0</td>\n",
       "      <td>7.0</td>\n",
       "    </tr>\n",
       "  </tbody>\n",
       "</table>\n",
       "<p>32951 rows × 9 columns</p>\n",
       "</div>"
      ],
      "text/plain": [
       "                             product_id              product_category_name  \\\n",
       "0      1e9e8ef04dbcff4541ed26657ea517e5                         perfumaria   \n",
       "1      3aa071139cb16b67ca9e5dea641aaa2f                              artes   \n",
       "2      96bd76ec8810374ed1b65e291975717f                      esporte_lazer   \n",
       "3      cef67bcfe19066a932b7673e239eb23d                              bebes   \n",
       "4      9dc1a7de274444849c219cff195d0b71              utilidades_domesticas   \n",
       "...                                 ...                                ...   \n",
       "32946  a0b7d5a992ccda646f2d34e418fff5a0                   moveis_decoracao   \n",
       "32947  bf4538d88321d0fd4412a93c974510e6  construcao_ferramentas_iluminacao   \n",
       "32948  9a7c6041fa9592d9d9ef6cfe62a71f8c                    cama_mesa_banho   \n",
       "32949  83808703fc0706a22e264b9d75f04a2e             informatica_acessorios   \n",
       "32950  106392145fca363410d287a815be6de4                    cama_mesa_banho   \n",
       "\n",
       "       product_name_lenght  product_description_lenght  product_photos_qty  \\\n",
       "0                     40.0                       287.0                 1.0   \n",
       "1                     44.0                       276.0                 1.0   \n",
       "2                     46.0                       250.0                 1.0   \n",
       "3                     27.0                       261.0                 1.0   \n",
       "4                     37.0                       402.0                 4.0   \n",
       "...                    ...                         ...                 ...   \n",
       "32946                 45.0                        67.0                 2.0   \n",
       "32947                 41.0                       971.0                 1.0   \n",
       "32948                 50.0                       799.0                 1.0   \n",
       "32949                 60.0                       156.0                 2.0   \n",
       "32950                 58.0                       309.0                 1.0   \n",
       "\n",
       "       product_weight_g  product_length_cm  product_height_cm  \\\n",
       "0                 225.0               16.0               10.0   \n",
       "1                1000.0               30.0               18.0   \n",
       "2                 154.0               18.0                9.0   \n",
       "3                 371.0               26.0                4.0   \n",
       "4                 625.0               20.0               17.0   \n",
       "...                 ...                ...                ...   \n",
       "32946           12300.0               40.0               40.0   \n",
       "32947            1700.0               16.0               19.0   \n",
       "32948            1400.0               27.0                7.0   \n",
       "32949             700.0               31.0               13.0   \n",
       "32950            2083.0               12.0                2.0   \n",
       "\n",
       "       product_width_cm  \n",
       "0                  14.0  \n",
       "1                  20.0  \n",
       "2                  15.0  \n",
       "3                  26.0  \n",
       "4                  13.0  \n",
       "...                 ...  \n",
       "32946              40.0  \n",
       "32947              16.0  \n",
       "32948              27.0  \n",
       "32949              20.0  \n",
       "32950               7.0  \n",
       "\n",
       "[32951 rows x 9 columns]"
      ]
     },
     "execution_count": 21,
     "metadata": {},
     "output_type": "execute_result"
    }
   ],
   "source": [
    "olist_products"
   ]
  },
  {
   "cell_type": "markdown",
   "id": "e1cf7b95",
   "metadata": {},
   "source": [
    "#### check empty value in olist_orders_dataset"
   ]
  },
  {
   "cell_type": "code",
   "execution_count": 22,
   "id": "bc6a8529",
   "metadata": {},
   "outputs": [
    {
     "data": {
      "text/plain": [
       "(32951, 9)"
      ]
     },
     "execution_count": 22,
     "metadata": {},
     "output_type": "execute_result"
    }
   ],
   "source": [
    "olist_products.shape"
   ]
  },
  {
   "cell_type": "code",
   "execution_count": 23,
   "id": "fb50e6b0",
   "metadata": {},
   "outputs": [
    {
     "data": {
      "text/plain": [
       "product_id                      0\n",
       "product_category_name         610\n",
       "product_name_lenght           610\n",
       "product_description_lenght    610\n",
       "product_photos_qty            610\n",
       "product_weight_g                2\n",
       "product_length_cm               2\n",
       "product_height_cm               2\n",
       "product_width_cm                2\n",
       "dtype: int64"
      ]
     },
     "execution_count": 23,
     "metadata": {},
     "output_type": "execute_result"
    }
   ],
   "source": [
    "olist_products.isnull().sum()"
   ]
  },
  {
   "cell_type": "code",
   "execution_count": 24,
   "id": "ff21a7a8",
   "metadata": {},
   "outputs": [
    {
     "data": {
      "text/plain": [
       "product_id                    False\n",
       "product_category_name          True\n",
       "product_name_lenght            True\n",
       "product_description_lenght     True\n",
       "product_photos_qty             True\n",
       "product_weight_g               True\n",
       "product_length_cm              True\n",
       "product_height_cm              True\n",
       "product_width_cm               True\n",
       "dtype: bool"
      ]
     },
     "execution_count": 24,
     "metadata": {},
     "output_type": "execute_result"
    }
   ],
   "source": [
    "olist_products.isnull().any()"
   ]
  },
  {
   "cell_type": "code",
   "execution_count": 25,
   "id": "40078b23",
   "metadata": {},
   "outputs": [
    {
     "data": {
      "text/plain": [
       "<AxesSubplot:>"
      ]
     },
     "execution_count": 25,
     "metadata": {},
     "output_type": "execute_result"
    },
    {
     "data": {
      "image/png": "[encoded data removed]",
      "text/plain": [
       "<Figure size 432x288 with 2 Axes>"
      ]
     },
     "metadata": {
      "needs_background": "light"
     },
     "output_type": "display_data"
    }
   ],
   "source": [
    "sns.heatmap(olist_products.isnull(), yticklabels=False)"
   ]
  },
  {
   "cell_type": "markdown",
   "id": "8e446689",
   "metadata": {},
   "source": [
    "#### Solution"
   ]
  },
  {
   "cell_type": "code",
   "execution_count": 26,
   "id": "798c6050",
   "metadata": {},
   "outputs": [
    {
     "data": {
      "text/plain": [
       "(32951, 9)"
      ]
     },
     "execution_count": 26,
     "metadata": {},
     "output_type": "execute_result"
    }
   ],
   "source": [
    "## if all the columns don't contain values and want to omit them, then use the following source code\n",
    "## olist_products2 = olist_products.dropna(how='all')\n",
    "\n",
    "## else if only some values are missing in the column and you don't want to delete those rows, \n",
    "## you can use the following source code: \n",
    "## olist_products2 = olist_products.fillna(0)\n",
    "## olist_products2.shape\n",
    "\n",
    "## else if only some values are missing in the column and you want to fill those data with the values in the previous row (duplicates), \n",
    "## you can use the following source code :\n",
    "olist_products2 = olist_products.fillna(method='ffill')\n",
    "olist_products2.shape\n",
    "\n",
    "## else if only some values are missing in the column and you want to fill those data with the values in the next row (duplicates), \n",
    "## you can use the following source code :\n",
    "## olist_products2 = olist_products.fillna(method='bfill')\n",
    "\n",
    "## you can use the following source code :\n",
    "## olist_products2 = olist_products.interpolate()\n",
    "\n",
    "## else if there is a missing value in the column and you want to remove that row, \n",
    "## then use the following source code:\n",
    "## olist_products2 = olist_products.dropna()"
   ]
  },
  {
   "cell_type": "code",
   "execution_count": 27,
   "id": "e020f050",
   "metadata": {},
   "outputs": [
    {
     "data": {
      "text/plain": [
       "product_id                    0\n",
       "product_category_name         0\n",
       "product_name_lenght           0\n",
       "product_description_lenght    0\n",
       "product_photos_qty            0\n",
       "product_weight_g              0\n",
       "product_length_cm             0\n",
       "product_height_cm             0\n",
       "product_width_cm              0\n",
       "dtype: int64"
      ]
     },
     "execution_count": 27,
     "metadata": {},
     "output_type": "execute_result"
    }
   ],
   "source": [
    "olist_products2.isnull().sum()"
   ]
  },
  {
   "cell_type": "markdown",
   "id": "547edcd9",
   "metadata": {},
   "source": [
    "### - olist_sellers_dataset"
   ]
  },
  {
   "cell_type": "code",
   "execution_count": 28,
   "id": "f1dd6996",
   "metadata": {},
   "outputs": [
    {
     "data": {
      "text/html": [
       "<div>\n",
       "<style scoped>\n",
       "    .dataframe tbody tr th:only-of-type {\n",
       "        vertical-align: middle;\n",
       "    }\n",
       "\n",
       "    .dataframe tbody tr th {\n",
       "        vertical-align: top;\n",
       "    }\n",
       "\n",
       "    .dataframe thead th {\n",
       "        text-align: right;\n",
       "    }\n",
       "</style>\n",
       "<table border=\"1\" class=\"dataframe\">\n",
       "  <thead>\n",
       "    <tr style=\"text-align: right;\">\n",
       "      <th></th>\n",
       "      <th>seller_id</th>\n",
       "      <th>seller_zip_code_prefix</th>\n",
       "      <th>seller_city</th>\n",
       "      <th>seller_state</th>\n",
       "    </tr>\n",
       "  </thead>\n",
       "  <tbody>\n",
       "    <tr>\n",
       "      <th>0</th>\n",
       "      <td>3442f8959a84dea7ee197c632cb2df15</td>\n",
       "      <td>13023</td>\n",
       "      <td>campinas</td>\n",
       "      <td>SP</td>\n",
       "    </tr>\n",
       "    <tr>\n",
       "      <th>1</th>\n",
       "      <td>d1b65fc7debc3361ea86b5f14c68d2e2</td>\n",
       "      <td>13844</td>\n",
       "      <td>mogi guacu</td>\n",
       "      <td>SP</td>\n",
       "    </tr>\n",
       "  </tbody>\n",
       "</table>\n",
       "</div>"
      ],
      "text/plain": [
       "                          seller_id  seller_zip_code_prefix seller_city  \\\n",
       "0  3442f8959a84dea7ee197c632cb2df15                   13023    campinas   \n",
       "1  d1b65fc7debc3361ea86b5f14c68d2e2                   13844  mogi guacu   \n",
       "\n",
       "  seller_state  \n",
       "0           SP  \n",
       "1           SP  "
      ]
     },
     "execution_count": 28,
     "metadata": {},
     "output_type": "execute_result"
    }
   ],
   "source": [
    "olist_sellers.head(2)"
   ]
  },
  {
   "cell_type": "markdown",
   "id": "77c4484b",
   "metadata": {},
   "source": [
    "### - product_category_name_translation"
   ]
  },
  {
   "cell_type": "code",
   "execution_count": 29,
   "id": "934bf988",
   "metadata": {},
   "outputs": [
    {
     "data": {
      "text/html": [
       "<div>\n",
       "<style scoped>\n",
       "    .dataframe tbody tr th:only-of-type {\n",
       "        vertical-align: middle;\n",
       "    }\n",
       "\n",
       "    .dataframe tbody tr th {\n",
       "        vertical-align: top;\n",
       "    }\n",
       "\n",
       "    .dataframe thead th {\n",
       "        text-align: right;\n",
       "    }\n",
       "</style>\n",
       "<table border=\"1\" class=\"dataframe\">\n",
       "  <thead>\n",
       "    <tr style=\"text-align: right;\">\n",
       "      <th></th>\n",
       "      <th>product_category_name</th>\n",
       "      <th>product_category_name_english</th>\n",
       "    </tr>\n",
       "  </thead>\n",
       "  <tbody>\n",
       "    <tr>\n",
       "      <th>0</th>\n",
       "      <td>beleza_saude</td>\n",
       "      <td>health_beauty</td>\n",
       "    </tr>\n",
       "    <tr>\n",
       "      <th>1</th>\n",
       "      <td>informatica_acessorios</td>\n",
       "      <td>computers_accessories</td>\n",
       "    </tr>\n",
       "  </tbody>\n",
       "</table>\n",
       "</div>"
      ],
      "text/plain": [
       "    product_category_name product_category_name_english\n",
       "0            beleza_saude                 health_beauty\n",
       "1  informatica_acessorios         computers_accessories"
      ]
     },
     "execution_count": 29,
     "metadata": {},
     "output_type": "execute_result"
    }
   ],
   "source": [
    "product_category_name_translation.head(2)"
   ]
  },
  {
   "cell_type": "markdown",
   "id": "c8fe022f",
   "metadata": {},
   "source": [
    "## 2. Data Integration"
   ]
  },
  {
   "cell_type": "code",
   "execution_count": 30,
   "id": "144141c8",
   "metadata": {},
   "outputs": [],
   "source": [
    "## pd.concat\n",
    "## pd.merge\n",
    "## pd.append"
   ]
  },
  {
   "cell_type": "code",
   "execution_count": 31,
   "id": "c96ef60b",
   "metadata": {},
   "outputs": [
    {
     "data": {
      "text/html": [
       "<div>\n",
       "<style scoped>\n",
       "    .dataframe tbody tr th:only-of-type {\n",
       "        vertical-align: middle;\n",
       "    }\n",
       "\n",
       "    .dataframe tbody tr th {\n",
       "        vertical-align: top;\n",
       "    }\n",
       "\n",
       "    .dataframe thead th {\n",
       "        text-align: right;\n",
       "    }\n",
       "</style>\n",
       "<table border=\"1\" class=\"dataframe\">\n",
       "  <thead>\n",
       "    <tr style=\"text-align: right;\">\n",
       "      <th></th>\n",
       "      <th>geolocation_zip_code_prefix</th>\n",
       "      <th>geolocation_lat</th>\n",
       "      <th>geolocation_lng</th>\n",
       "      <th>geolocation_city</th>\n",
       "      <th>geolocation_state</th>\n",
       "    </tr>\n",
       "  </thead>\n",
       "  <tbody>\n",
       "    <tr>\n",
       "      <th>0</th>\n",
       "      <td>1037</td>\n",
       "      <td>-23.545621</td>\n",
       "      <td>-46.639292</td>\n",
       "      <td>sao paulo</td>\n",
       "      <td>SP</td>\n",
       "    </tr>\n",
       "    <tr>\n",
       "      <th>1</th>\n",
       "      <td>1046</td>\n",
       "      <td>-23.546081</td>\n",
       "      <td>-46.644820</td>\n",
       "      <td>sao paulo</td>\n",
       "      <td>SP</td>\n",
       "    </tr>\n",
       "  </tbody>\n",
       "</table>\n",
       "</div>"
      ],
      "text/plain": [
       "   geolocation_zip_code_prefix  geolocation_lat  geolocation_lng  \\\n",
       "0                         1037       -23.545621       -46.639292   \n",
       "1                         1046       -23.546081       -46.644820   \n",
       "\n",
       "  geolocation_city geolocation_state  \n",
       "0        sao paulo                SP  \n",
       "1        sao paulo                SP  "
      ]
     },
     "execution_count": 31,
     "metadata": {},
     "output_type": "execute_result"
    }
   ],
   "source": [
    "olist_geolocation.head(2)"
   ]
  },
  {
   "cell_type": "markdown",
   "id": "8c2b4b92",
   "metadata": {},
   "source": [
    "### Merge"
   ]
  },
  {
   "cell_type": "markdown",
   "id": "4cd30625",
   "metadata": {},
   "source": [
    "#### 1. merge dataframe olist_products2 with product_category_name_translation"
   ]
  },
  {
   "cell_type": "code",
   "execution_count": 32,
   "id": "2fe4de8a",
   "metadata": {},
   "outputs": [
    {
     "data": {
      "text/html": [
       "<div>\n",
       "<style scoped>\n",
       "    .dataframe tbody tr th:only-of-type {\n",
       "        vertical-align: middle;\n",
       "    }\n",
       "\n",
       "    .dataframe tbody tr th {\n",
       "        vertical-align: top;\n",
       "    }\n",
       "\n",
       "    .dataframe thead th {\n",
       "        text-align: right;\n",
       "    }\n",
       "</style>\n",
       "<table border=\"1\" class=\"dataframe\">\n",
       "  <thead>\n",
       "    <tr style=\"text-align: right;\">\n",
       "      <th></th>\n",
       "      <th>product_id</th>\n",
       "      <th>product_category_name</th>\n",
       "      <th>product_name_lenght</th>\n",
       "      <th>product_description_lenght</th>\n",
       "      <th>product_photos_qty</th>\n",
       "      <th>product_weight_g</th>\n",
       "      <th>product_length_cm</th>\n",
       "      <th>product_height_cm</th>\n",
       "      <th>product_width_cm</th>\n",
       "    </tr>\n",
       "  </thead>\n",
       "  <tbody>\n",
       "    <tr>\n",
       "      <th>0</th>\n",
       "      <td>1e9e8ef04dbcff4541ed26657ea517e5</td>\n",
       "      <td>perfumaria</td>\n",
       "      <td>40.0</td>\n",
       "      <td>287.0</td>\n",
       "      <td>1.0</td>\n",
       "      <td>225.0</td>\n",
       "      <td>16.0</td>\n",
       "      <td>10.0</td>\n",
       "      <td>14.0</td>\n",
       "    </tr>\n",
       "    <tr>\n",
       "      <th>1</th>\n",
       "      <td>3aa071139cb16b67ca9e5dea641aaa2f</td>\n",
       "      <td>artes</td>\n",
       "      <td>44.0</td>\n",
       "      <td>276.0</td>\n",
       "      <td>1.0</td>\n",
       "      <td>1000.0</td>\n",
       "      <td>30.0</td>\n",
       "      <td>18.0</td>\n",
       "      <td>20.0</td>\n",
       "    </tr>\n",
       "  </tbody>\n",
       "</table>\n",
       "</div>"
      ],
      "text/plain": [
       "                         product_id product_category_name  \\\n",
       "0  1e9e8ef04dbcff4541ed26657ea517e5            perfumaria   \n",
       "1  3aa071139cb16b67ca9e5dea641aaa2f                 artes   \n",
       "\n",
       "   product_name_lenght  product_description_lenght  product_photos_qty  \\\n",
       "0                 40.0                       287.0                 1.0   \n",
       "1                 44.0                       276.0                 1.0   \n",
       "\n",
       "   product_weight_g  product_length_cm  product_height_cm  product_width_cm  \n",
       "0             225.0               16.0               10.0              14.0  \n",
       "1            1000.0               30.0               18.0              20.0  "
      ]
     },
     "execution_count": 32,
     "metadata": {},
     "output_type": "execute_result"
    }
   ],
   "source": [
    "olist_products2.head(2)"
   ]
  },
  {
   "cell_type": "code",
   "execution_count": 33,
   "id": "191ec2ea",
   "metadata": {},
   "outputs": [
    {
     "data": {
      "text/html": [
       "<div>\n",
       "<style scoped>\n",
       "    .dataframe tbody tr th:only-of-type {\n",
       "        vertical-align: middle;\n",
       "    }\n",
       "\n",
       "    .dataframe tbody tr th {\n",
       "        vertical-align: top;\n",
       "    }\n",
       "\n",
       "    .dataframe thead th {\n",
       "        text-align: right;\n",
       "    }\n",
       "</style>\n",
       "<table border=\"1\" class=\"dataframe\">\n",
       "  <thead>\n",
       "    <tr style=\"text-align: right;\">\n",
       "      <th></th>\n",
       "      <th>product_category_name</th>\n",
       "      <th>product_category_name_english</th>\n",
       "    </tr>\n",
       "  </thead>\n",
       "  <tbody>\n",
       "    <tr>\n",
       "      <th>0</th>\n",
       "      <td>beleza_saude</td>\n",
       "      <td>health_beauty</td>\n",
       "    </tr>\n",
       "    <tr>\n",
       "      <th>1</th>\n",
       "      <td>informatica_acessorios</td>\n",
       "      <td>computers_accessories</td>\n",
       "    </tr>\n",
       "  </tbody>\n",
       "</table>\n",
       "</div>"
      ],
      "text/plain": [
       "    product_category_name product_category_name_english\n",
       "0            beleza_saude                 health_beauty\n",
       "1  informatica_acessorios         computers_accessories"
      ]
     },
     "execution_count": 33,
     "metadata": {},
     "output_type": "execute_result"
    }
   ],
   "source": [
    "product_category_name_translation.head(2)"
   ]
  },
  {
   "cell_type": "code",
   "execution_count": 34,
   "id": "03bf3d4a",
   "metadata": {},
   "outputs": [
    {
     "data": {
      "text/plain": [
       "['product_id',\n",
       " 'product_category_name',\n",
       " 'product_name_lenght',\n",
       " 'product_description_lenght',\n",
       " 'product_photos_qty',\n",
       " 'product_weight_g',\n",
       " 'product_length_cm',\n",
       " 'product_height_cm',\n",
       " 'product_width_cm',\n",
       " 'product_category_name_english']"
      ]
     },
     "execution_count": 34,
     "metadata": {},
     "output_type": "execute_result"
    }
   ],
   "source": [
    "## this cell merge dataframe olist_products2 with product_category_name_translation\n",
    "olist_products_category=pd.merge(olist_products2, product_category_name_translation, on='product_category_name', how='left')\n",
    "olist_products_category.columns.tolist()"
   ]
  },
  {
   "cell_type": "code",
   "execution_count": 35,
   "id": "b88e3169",
   "metadata": {},
   "outputs": [
    {
     "data": {
      "text/html": [
       "<div>\n",
       "<style scoped>\n",
       "    .dataframe tbody tr th:only-of-type {\n",
       "        vertical-align: middle;\n",
       "    }\n",
       "\n",
       "    .dataframe tbody tr th {\n",
       "        vertical-align: top;\n",
       "    }\n",
       "\n",
       "    .dataframe thead th {\n",
       "        text-align: right;\n",
       "    }\n",
       "</style>\n",
       "<table border=\"1\" class=\"dataframe\">\n",
       "  <thead>\n",
       "    <tr style=\"text-align: right;\">\n",
       "      <th></th>\n",
       "      <th>product_id</th>\n",
       "      <th>product_category_name</th>\n",
       "      <th>product_category_name_english</th>\n",
       "      <th>product_name_lenght</th>\n",
       "      <th>product_description_lenght</th>\n",
       "      <th>product_photos_qty</th>\n",
       "      <th>product_weight_g</th>\n",
       "      <th>product_length_cm</th>\n",
       "      <th>product_height_cm</th>\n",
       "      <th>product_width_cm</th>\n",
       "    </tr>\n",
       "  </thead>\n",
       "  <tbody>\n",
       "    <tr>\n",
       "      <th>0</th>\n",
       "      <td>1e9e8ef04dbcff4541ed26657ea517e5</td>\n",
       "      <td>perfumaria</td>\n",
       "      <td>perfumery</td>\n",
       "      <td>40.0</td>\n",
       "      <td>287.0</td>\n",
       "      <td>1.0</td>\n",
       "      <td>225.0</td>\n",
       "      <td>16.0</td>\n",
       "      <td>10.0</td>\n",
       "      <td>14.0</td>\n",
       "    </tr>\n",
       "    <tr>\n",
       "      <th>1</th>\n",
       "      <td>3aa071139cb16b67ca9e5dea641aaa2f</td>\n",
       "      <td>artes</td>\n",
       "      <td>art</td>\n",
       "      <td>44.0</td>\n",
       "      <td>276.0</td>\n",
       "      <td>1.0</td>\n",
       "      <td>1000.0</td>\n",
       "      <td>30.0</td>\n",
       "      <td>18.0</td>\n",
       "      <td>20.0</td>\n",
       "    </tr>\n",
       "  </tbody>\n",
       "</table>\n",
       "</div>"
      ],
      "text/plain": [
       "                         product_id product_category_name  \\\n",
       "0  1e9e8ef04dbcff4541ed26657ea517e5            perfumaria   \n",
       "1  3aa071139cb16b67ca9e5dea641aaa2f                 artes   \n",
       "\n",
       "  product_category_name_english  product_name_lenght  \\\n",
       "0                     perfumery                 40.0   \n",
       "1                           art                 44.0   \n",
       "\n",
       "   product_description_lenght  product_photos_qty  product_weight_g  \\\n",
       "0                       287.0                 1.0             225.0   \n",
       "1                       276.0                 1.0            1000.0   \n",
       "\n",
       "   product_length_cm  product_height_cm  product_width_cm  \n",
       "0               16.0               10.0              14.0  \n",
       "1               30.0               18.0              20.0  "
      ]
     },
     "execution_count": 35,
     "metadata": {},
     "output_type": "execute_result"
    }
   ],
   "source": [
    "new_olist_products_category= olist_products_category[[\n",
    " 'product_id',\n",
    " 'product_category_name',\n",
    " 'product_category_name_english',\n",
    " 'product_name_lenght',\n",
    " 'product_description_lenght',\n",
    " 'product_photos_qty',\n",
    " 'product_weight_g',\n",
    " 'product_length_cm',\n",
    " 'product_height_cm',\n",
    " 'product_width_cm'\n",
    "]]\n",
    "new_olist_products_category.head(2)"
   ]
  },
  {
   "cell_type": "markdown",
   "id": "71a5f4a3",
   "metadata": {},
   "source": [
    "#### 2. merge dataframe olist_orders2 with olist_customers"
   ]
  },
  {
   "cell_type": "code",
   "execution_count": 36,
   "id": "9ea60704",
   "metadata": {},
   "outputs": [
    {
     "data": {
      "text/plain": [
       "['order_id',\n",
       " 'customer_id',\n",
       " 'order_status',\n",
       " 'order_purchase_timestamp',\n",
       " 'order_approved_at',\n",
       " 'order_delivered_carrier_date',\n",
       " 'order_delivered_customer_date',\n",
       " 'order_estimated_delivery_date',\n",
       " 'customer_unique_id',\n",
       " 'customer_zip_code_prefix',\n",
       " 'customer_city',\n",
       " 'customer_state']"
      ]
     },
     "execution_count": 36,
     "metadata": {},
     "output_type": "execute_result"
    }
   ],
   "source": [
    "## this cell merge dataframe olist_customers with new_olist_orders\n",
    "customers_order= pd.merge(olist_orders2, olist_customers, on='customer_id', how='left')\n",
    "customers_order.columns.tolist()"
   ]
  },
  {
   "cell_type": "code",
   "execution_count": 37,
   "id": "66132ec1",
   "metadata": {},
   "outputs": [
    {
     "data": {
      "text/html": [
       "<div>\n",
       "<style scoped>\n",
       "    .dataframe tbody tr th:only-of-type {\n",
       "        vertical-align: middle;\n",
       "    }\n",
       "\n",
       "    .dataframe tbody tr th {\n",
       "        vertical-align: top;\n",
       "    }\n",
       "\n",
       "    .dataframe thead th {\n",
       "        text-align: right;\n",
       "    }\n",
       "</style>\n",
       "<table border=\"1\" class=\"dataframe\">\n",
       "  <thead>\n",
       "    <tr style=\"text-align: right;\">\n",
       "      <th></th>\n",
       "      <th>order_id</th>\n",
       "      <th>customer_id</th>\n",
       "      <th>customer_unique_id</th>\n",
       "      <th>customer_zip_code_prefix</th>\n",
       "      <th>customer_city</th>\n",
       "      <th>customer_state</th>\n",
       "      <th>order_status</th>\n",
       "      <th>order_purchase_timestamp</th>\n",
       "      <th>order_approved_at</th>\n",
       "      <th>order_delivered_carrier_date</th>\n",
       "      <th>order_delivered_customer_date</th>\n",
       "      <th>order_estimated_delivery_date</th>\n",
       "    </tr>\n",
       "  </thead>\n",
       "  <tbody>\n",
       "    <tr>\n",
       "      <th>0</th>\n",
       "      <td>e481f51cbdc54678b7cc49136f2d6af7</td>\n",
       "      <td>9ef432eb6251297304e76186b10a928d</td>\n",
       "      <td>7c396fd4830fd04220f754e42b4e5bff</td>\n",
       "      <td>3149</td>\n",
       "      <td>sao paulo</td>\n",
       "      <td>SP</td>\n",
       "      <td>delivered</td>\n",
       "      <td>2017-10-02 10:56:33</td>\n",
       "      <td>2017-10-02 11:07:15</td>\n",
       "      <td>2017-10-04 19:55:00</td>\n",
       "      <td>2017-10-10 21:25:13</td>\n",
       "      <td>2017-10-18 00:00:00</td>\n",
       "    </tr>\n",
       "    <tr>\n",
       "      <th>1</th>\n",
       "      <td>53cdb2fc8bc7dce0b6741e2150273451</td>\n",
       "      <td>b0830fb4747a6c6d20dea0b8c802d7ef</td>\n",
       "      <td>af07308b275d755c9edb36a90c618231</td>\n",
       "      <td>47813</td>\n",
       "      <td>barreiras</td>\n",
       "      <td>BA</td>\n",
       "      <td>delivered</td>\n",
       "      <td>2018-07-24 20:41:37</td>\n",
       "      <td>2018-07-26 03:24:27</td>\n",
       "      <td>2018-07-26 14:31:00</td>\n",
       "      <td>2018-08-07 15:27:45</td>\n",
       "      <td>2018-08-13 00:00:00</td>\n",
       "    </tr>\n",
       "    <tr>\n",
       "      <th>2</th>\n",
       "      <td>47770eb9100c2d0c44946d9cf07ec65d</td>\n",
       "      <td>41ce2a54c0b03bf3443c3d931a367089</td>\n",
       "      <td>3a653a41f6f9fc3d2a113cf8398680e8</td>\n",
       "      <td>75265</td>\n",
       "      <td>vianopolis</td>\n",
       "      <td>GO</td>\n",
       "      <td>delivered</td>\n",
       "      <td>2018-08-08 08:38:49</td>\n",
       "      <td>2018-08-08 08:55:23</td>\n",
       "      <td>2018-08-08 13:50:00</td>\n",
       "      <td>2018-08-17 18:06:29</td>\n",
       "      <td>2018-09-04 00:00:00</td>\n",
       "    </tr>\n",
       "    <tr>\n",
       "      <th>3</th>\n",
       "      <td>949d5b44dbf5de918fe9c16f97b45f8a</td>\n",
       "      <td>f88197465ea7920adcdbec7375364d82</td>\n",
       "      <td>7c142cf63193a1473d2e66489a9ae977</td>\n",
       "      <td>59296</td>\n",
       "      <td>sao goncalo do amarante</td>\n",
       "      <td>RN</td>\n",
       "      <td>delivered</td>\n",
       "      <td>2017-11-18 19:28:06</td>\n",
       "      <td>2017-11-18 19:45:59</td>\n",
       "      <td>2017-11-22 13:39:59</td>\n",
       "      <td>2017-12-02 00:28:42</td>\n",
       "      <td>2017-12-15 00:00:00</td>\n",
       "    </tr>\n",
       "    <tr>\n",
       "      <th>4</th>\n",
       "      <td>ad21c59c0840e6cb83a9ceb5573f8159</td>\n",
       "      <td>8ab97904e6daea8866dbdbc4fb7aad2c</td>\n",
       "      <td>72632f0f9dd73dfee390c9b22eb56dd6</td>\n",
       "      <td>9195</td>\n",
       "      <td>santo andre</td>\n",
       "      <td>SP</td>\n",
       "      <td>delivered</td>\n",
       "      <td>2018-02-13 21:18:39</td>\n",
       "      <td>2018-02-13 22:20:29</td>\n",
       "      <td>2018-02-14 19:46:34</td>\n",
       "      <td>2018-02-16 18:17:02</td>\n",
       "      <td>2018-02-26 00:00:00</td>\n",
       "    </tr>\n",
       "  </tbody>\n",
       "</table>\n",
       "</div>"
      ],
      "text/plain": [
       "                           order_id                       customer_id  \\\n",
       "0  e481f51cbdc54678b7cc49136f2d6af7  9ef432eb6251297304e76186b10a928d   \n",
       "1  53cdb2fc8bc7dce0b6741e2150273451  b0830fb4747a6c6d20dea0b8c802d7ef   \n",
       "2  47770eb9100c2d0c44946d9cf07ec65d  41ce2a54c0b03bf3443c3d931a367089   \n",
       "3  949d5b44dbf5de918fe9c16f97b45f8a  f88197465ea7920adcdbec7375364d82   \n",
       "4  ad21c59c0840e6cb83a9ceb5573f8159  8ab97904e6daea8866dbdbc4fb7aad2c   \n",
       "\n",
       "                 customer_unique_id  customer_zip_code_prefix  \\\n",
       "0  7c396fd4830fd04220f754e42b4e5bff                      3149   \n",
       "1  af07308b275d755c9edb36a90c618231                     47813   \n",
       "2  3a653a41f6f9fc3d2a113cf8398680e8                     75265   \n",
       "3  7c142cf63193a1473d2e66489a9ae977                     59296   \n",
       "4  72632f0f9dd73dfee390c9b22eb56dd6                      9195   \n",
       "\n",
       "             customer_city customer_state order_status  \\\n",
       "0                sao paulo             SP    delivered   \n",
       "1                barreiras             BA    delivered   \n",
       "2               vianopolis             GO    delivered   \n",
       "3  sao goncalo do amarante             RN    delivered   \n",
       "4              santo andre             SP    delivered   \n",
       "\n",
       "  order_purchase_timestamp    order_approved_at order_delivered_carrier_date  \\\n",
       "0      2017-10-02 10:56:33  2017-10-02 11:07:15          2017-10-04 19:55:00   \n",
       "1      2018-07-24 20:41:37  2018-07-26 03:24:27          2018-07-26 14:31:00   \n",
       "2      2018-08-08 08:38:49  2018-08-08 08:55:23          2018-08-08 13:50:00   \n",
       "3      2017-11-18 19:28:06  2017-11-18 19:45:59          2017-11-22 13:39:59   \n",
       "4      2018-02-13 21:18:39  2018-02-13 22:20:29          2018-02-14 19:46:34   \n",
       "\n",
       "  order_delivered_customer_date order_estimated_delivery_date  \n",
       "0           2017-10-10 21:25:13           2017-10-18 00:00:00  \n",
       "1           2018-08-07 15:27:45           2018-08-13 00:00:00  \n",
       "2           2018-08-17 18:06:29           2018-09-04 00:00:00  \n",
       "3           2017-12-02 00:28:42           2017-12-15 00:00:00  \n",
       "4           2018-02-16 18:17:02           2018-02-26 00:00:00  "
      ]
     },
     "execution_count": 37,
     "metadata": {},
     "output_type": "execute_result"
    }
   ],
   "source": [
    "new_customers_order=customers_order[[\n",
    "    'order_id',\n",
    "    'customer_id',\n",
    "    'customer_unique_id',\n",
    "    'customer_zip_code_prefix',\n",
    "    'customer_city',\n",
    "    'customer_state',\n",
    "    'order_status',\n",
    "    'order_purchase_timestamp',\n",
    "    'order_approved_at',\n",
    "    'order_delivered_carrier_date',\n",
    "    'order_delivered_customer_date',\n",
    "    'order_estimated_delivery_date']]\n",
    "new_customers_order.head()"
   ]
  },
  {
   "cell_type": "code",
   "execution_count": 38,
   "id": "7be42847",
   "metadata": {},
   "outputs": [
    {
     "data": {
      "text/plain": [
       "order_id                         0\n",
       "customer_id                      0\n",
       "customer_unique_id               0\n",
       "customer_zip_code_prefix         0\n",
       "customer_city                    0\n",
       "customer_state                   0\n",
       "order_status                     0\n",
       "order_purchase_timestamp         0\n",
       "order_approved_at                0\n",
       "order_delivered_carrier_date     0\n",
       "order_delivered_customer_date    0\n",
       "order_estimated_delivery_date    0\n",
       "dtype: int64"
      ]
     },
     "execution_count": 38,
     "metadata": {},
     "output_type": "execute_result"
    }
   ],
   "source": [
    "new_customers_order.isnull().sum()"
   ]
  },
  {
   "cell_type": "markdown",
   "id": "0e736c46",
   "metadata": {},
   "source": [
    "#### 3. merge dataframe olist_order_items,olist_order_payments, and olist_order_reviews"
   ]
  },
  {
   "cell_type": "code",
   "execution_count": 39,
   "id": "ba504507",
   "metadata": {},
   "outputs": [
    {
     "data": {
      "text/html": [
       "<div>\n",
       "<style scoped>\n",
       "    .dataframe tbody tr th:only-of-type {\n",
       "        vertical-align: middle;\n",
       "    }\n",
       "\n",
       "    .dataframe tbody tr th {\n",
       "        vertical-align: top;\n",
       "    }\n",
       "\n",
       "    .dataframe thead th {\n",
       "        text-align: right;\n",
       "    }\n",
       "</style>\n",
       "<table border=\"1\" class=\"dataframe\">\n",
       "  <thead>\n",
       "    <tr style=\"text-align: right;\">\n",
       "      <th></th>\n",
       "      <th>order_id</th>\n",
       "      <th>order_item_id</th>\n",
       "      <th>product_id</th>\n",
       "      <th>seller_id</th>\n",
       "      <th>shipping_limit_date</th>\n",
       "      <th>price</th>\n",
       "      <th>freight_value</th>\n",
       "    </tr>\n",
       "  </thead>\n",
       "  <tbody>\n",
       "    <tr>\n",
       "      <th>0</th>\n",
       "      <td>00010242fe8c5a6d1ba2dd792cb16214</td>\n",
       "      <td>1</td>\n",
       "      <td>4244733e06e7ecb4970a6e2683c13e61</td>\n",
       "      <td>48436dade18ac8b2bce089ec2a041202</td>\n",
       "      <td>2017-09-19 09:45:35</td>\n",
       "      <td>58.9</td>\n",
       "      <td>13.29</td>\n",
       "    </tr>\n",
       "  </tbody>\n",
       "</table>\n",
       "</div>"
      ],
      "text/plain": [
       "                           order_id  order_item_id  \\\n",
       "0  00010242fe8c5a6d1ba2dd792cb16214              1   \n",
       "\n",
       "                         product_id                         seller_id  \\\n",
       "0  4244733e06e7ecb4970a6e2683c13e61  48436dade18ac8b2bce089ec2a041202   \n",
       "\n",
       "   shipping_limit_date  price  freight_value  \n",
       "0  2017-09-19 09:45:35   58.9          13.29  "
      ]
     },
     "execution_count": 39,
     "metadata": {},
     "output_type": "execute_result"
    }
   ],
   "source": [
    "olist_order_items.head(1)"
   ]
  },
  {
   "cell_type": "code",
   "execution_count": 40,
   "id": "9daa164d",
   "metadata": {},
   "outputs": [
    {
     "data": {
      "text/html": [
       "<div>\n",
       "<style scoped>\n",
       "    .dataframe tbody tr th:only-of-type {\n",
       "        vertical-align: middle;\n",
       "    }\n",
       "\n",
       "    .dataframe tbody tr th {\n",
       "        vertical-align: top;\n",
       "    }\n",
       "\n",
       "    .dataframe thead th {\n",
       "        text-align: right;\n",
       "    }\n",
       "</style>\n",
       "<table border=\"1\" class=\"dataframe\">\n",
       "  <thead>\n",
       "    <tr style=\"text-align: right;\">\n",
       "      <th></th>\n",
       "      <th>order_id</th>\n",
       "      <th>payment_sequential</th>\n",
       "      <th>payment_type</th>\n",
       "      <th>payment_installments</th>\n",
       "      <th>payment_value</th>\n",
       "    </tr>\n",
       "  </thead>\n",
       "  <tbody>\n",
       "    <tr>\n",
       "      <th>0</th>\n",
       "      <td>b81ef226f3fe1789b1e8b2acac839d17</td>\n",
       "      <td>1</td>\n",
       "      <td>credit_card</td>\n",
       "      <td>8</td>\n",
       "      <td>99.33</td>\n",
       "    </tr>\n",
       "  </tbody>\n",
       "</table>\n",
       "</div>"
      ],
      "text/plain": [
       "                           order_id  payment_sequential payment_type  \\\n",
       "0  b81ef226f3fe1789b1e8b2acac839d17                   1  credit_card   \n",
       "\n",
       "   payment_installments  payment_value  \n",
       "0                     8          99.33  "
      ]
     },
     "execution_count": 40,
     "metadata": {},
     "output_type": "execute_result"
    }
   ],
   "source": [
    "olist_order_payments.head(1)"
   ]
  },
  {
   "cell_type": "code",
   "execution_count": 41,
   "id": "34730dc4",
   "metadata": {},
   "outputs": [
    {
     "data": {
      "text/html": [
       "<div>\n",
       "<style scoped>\n",
       "    .dataframe tbody tr th:only-of-type {\n",
       "        vertical-align: middle;\n",
       "    }\n",
       "\n",
       "    .dataframe tbody tr th {\n",
       "        vertical-align: top;\n",
       "    }\n",
       "\n",
       "    .dataframe thead th {\n",
       "        text-align: right;\n",
       "    }\n",
       "</style>\n",
       "<table border=\"1\" class=\"dataframe\">\n",
       "  <thead>\n",
       "    <tr style=\"text-align: right;\">\n",
       "      <th></th>\n",
       "      <th>review_id</th>\n",
       "      <th>order_id</th>\n",
       "      <th>review_score</th>\n",
       "      <th>review_creation_date</th>\n",
       "      <th>review_answer_timestamp</th>\n",
       "    </tr>\n",
       "  </thead>\n",
       "  <tbody>\n",
       "    <tr>\n",
       "      <th>0</th>\n",
       "      <td>7bc2406110b926393aa56f80a40eba40</td>\n",
       "      <td>73fc7af87114b39712e6da79b0a377eb</td>\n",
       "      <td>4</td>\n",
       "      <td>2018-01-18 00:00:00</td>\n",
       "      <td>2018-01-18 21:46:59</td>\n",
       "    </tr>\n",
       "  </tbody>\n",
       "</table>\n",
       "</div>"
      ],
      "text/plain": [
       "                          review_id                          order_id  \\\n",
       "0  7bc2406110b926393aa56f80a40eba40  73fc7af87114b39712e6da79b0a377eb   \n",
       "\n",
       "   review_score review_creation_date review_answer_timestamp  \n",
       "0             4  2018-01-18 00:00:00     2018-01-18 21:46:59  "
      ]
     },
     "execution_count": 41,
     "metadata": {},
     "output_type": "execute_result"
    }
   ],
   "source": [
    "olist_order_reviews.head(1)"
   ]
  },
  {
   "cell_type": "code",
   "execution_count": 42,
   "id": "9f93a13d",
   "metadata": {},
   "outputs": [
    {
     "data": {
      "text/plain": [
       "['order_id',\n",
       " 'order_item_id',\n",
       " 'product_id',\n",
       " 'seller_id',\n",
       " 'shipping_limit_date',\n",
       " 'price',\n",
       " 'freight_value',\n",
       " 'payment_sequential',\n",
       " 'payment_type',\n",
       " 'payment_installments',\n",
       " 'payment_value',\n",
       " 'review_id',\n",
       " 'review_score',\n",
       " 'review_creation_date',\n",
       " 'review_answer_timestamp']"
      ]
     },
     "execution_count": 42,
     "metadata": {},
     "output_type": "execute_result"
    }
   ],
   "source": [
    "olist_product_orders = pd.merge(pd.merge(olist_order_items,olist_order_payments, on='order_id'),olist_order_reviews,on='order_id', how='inner')\n",
    "olist_product_orders.columns.tolist()"
   ]
  },
  {
   "cell_type": "code",
   "execution_count": 43,
   "id": "d1e235b1",
   "metadata": {},
   "outputs": [
    {
     "data": {
      "text/html": [
       "<div>\n",
       "<style scoped>\n",
       "    .dataframe tbody tr th:only-of-type {\n",
       "        vertical-align: middle;\n",
       "    }\n",
       "\n",
       "    .dataframe tbody tr th {\n",
       "        vertical-align: top;\n",
       "    }\n",
       "\n",
       "    .dataframe thead th {\n",
       "        text-align: right;\n",
       "    }\n",
       "</style>\n",
       "<table border=\"1\" class=\"dataframe\">\n",
       "  <thead>\n",
       "    <tr style=\"text-align: right;\">\n",
       "      <th></th>\n",
       "      <th>order_id</th>\n",
       "      <th>order_item_id</th>\n",
       "      <th>product_id</th>\n",
       "      <th>seller_id</th>\n",
       "      <th>review_id</th>\n",
       "      <th>price</th>\n",
       "      <th>freight_value</th>\n",
       "      <th>payment_sequential</th>\n",
       "      <th>payment_type</th>\n",
       "      <th>payment_installments</th>\n",
       "      <th>payment_value</th>\n",
       "      <th>review_score</th>\n",
       "      <th>shipping_limit_date</th>\n",
       "      <th>review_creation_date</th>\n",
       "      <th>review_answer_timestamp</th>\n",
       "    </tr>\n",
       "  </thead>\n",
       "  <tbody>\n",
       "    <tr>\n",
       "      <th>0</th>\n",
       "      <td>00010242fe8c5a6d1ba2dd792cb16214</td>\n",
       "      <td>1</td>\n",
       "      <td>4244733e06e7ecb4970a6e2683c13e61</td>\n",
       "      <td>48436dade18ac8b2bce089ec2a041202</td>\n",
       "      <td>97ca439bc427b48bc1cd7177abe71365</td>\n",
       "      <td>58.90</td>\n",
       "      <td>13.29</td>\n",
       "      <td>1</td>\n",
       "      <td>credit_card</td>\n",
       "      <td>2</td>\n",
       "      <td>72.19</td>\n",
       "      <td>5</td>\n",
       "      <td>2017-09-19 09:45:35</td>\n",
       "      <td>2017-09-21 00:00:00</td>\n",
       "      <td>2017-09-22 10:57:03</td>\n",
       "    </tr>\n",
       "    <tr>\n",
       "      <th>1</th>\n",
       "      <td>00018f77f2f0320c557190d7a144bdd3</td>\n",
       "      <td>1</td>\n",
       "      <td>e5f2d52b802189ee658865ca93d83a8f</td>\n",
       "      <td>dd7ddc04e1b6c2c614352b383efe2d36</td>\n",
       "      <td>7b07bacd811c4117b742569b04ce3580</td>\n",
       "      <td>239.90</td>\n",
       "      <td>19.93</td>\n",
       "      <td>1</td>\n",
       "      <td>credit_card</td>\n",
       "      <td>3</td>\n",
       "      <td>259.83</td>\n",
       "      <td>4</td>\n",
       "      <td>2017-05-03 11:05:13</td>\n",
       "      <td>2017-05-13 00:00:00</td>\n",
       "      <td>2017-05-15 11:34:13</td>\n",
       "    </tr>\n",
       "    <tr>\n",
       "      <th>2</th>\n",
       "      <td>000229ec398224ef6ca0657da4fc703e</td>\n",
       "      <td>1</td>\n",
       "      <td>c777355d18b72b67abbeef9df44fd0fd</td>\n",
       "      <td>5b51032eddd242adc84c38acab88f23d</td>\n",
       "      <td>0c5b33dea94867d1ac402749e5438e8b</td>\n",
       "      <td>199.00</td>\n",
       "      <td>17.87</td>\n",
       "      <td>1</td>\n",
       "      <td>credit_card</td>\n",
       "      <td>5</td>\n",
       "      <td>216.87</td>\n",
       "      <td>5</td>\n",
       "      <td>2018-01-18 14:48:30</td>\n",
       "      <td>2018-01-23 00:00:00</td>\n",
       "      <td>2018-01-23 16:06:31</td>\n",
       "    </tr>\n",
       "    <tr>\n",
       "      <th>3</th>\n",
       "      <td>00024acbcdf0a6daa1e931b038114c75</td>\n",
       "      <td>1</td>\n",
       "      <td>7634da152a4610f1595efa32f14722fc</td>\n",
       "      <td>9d7a1d34a5052409006425275ba1c2b4</td>\n",
       "      <td>f4028d019cb58564807486a6aaf33817</td>\n",
       "      <td>12.99</td>\n",
       "      <td>12.79</td>\n",
       "      <td>1</td>\n",
       "      <td>credit_card</td>\n",
       "      <td>2</td>\n",
       "      <td>25.78</td>\n",
       "      <td>4</td>\n",
       "      <td>2018-08-15 10:10:18</td>\n",
       "      <td>2018-08-15 00:00:00</td>\n",
       "      <td>2018-08-15 16:39:01</td>\n",
       "    </tr>\n",
       "    <tr>\n",
       "      <th>4</th>\n",
       "      <td>00042b26cf59d7ce69dfabb4e55b4fd9</td>\n",
       "      <td>1</td>\n",
       "      <td>ac6c3623068f30de03045865e4e10089</td>\n",
       "      <td>df560393f3a51e74553ab94004ba5c87</td>\n",
       "      <td>940144190dcba6351888cafa43f3a3a5</td>\n",
       "      <td>199.90</td>\n",
       "      <td>18.14</td>\n",
       "      <td>1</td>\n",
       "      <td>credit_card</td>\n",
       "      <td>3</td>\n",
       "      <td>218.04</td>\n",
       "      <td>5</td>\n",
       "      <td>2017-02-13 13:57:51</td>\n",
       "      <td>2017-03-02 00:00:00</td>\n",
       "      <td>2017-03-03 10:54:59</td>\n",
       "    </tr>\n",
       "  </tbody>\n",
       "</table>\n",
       "</div>"
      ],
      "text/plain": [
       "                           order_id  order_item_id  \\\n",
       "0  00010242fe8c5a6d1ba2dd792cb16214              1   \n",
       "1  00018f77f2f0320c557190d7a144bdd3              1   \n",
       "2  000229ec398224ef6ca0657da4fc703e              1   \n",
       "3  00024acbcdf0a6daa1e931b038114c75              1   \n",
       "4  00042b26cf59d7ce69dfabb4e55b4fd9              1   \n",
       "\n",
       "                         product_id                         seller_id  \\\n",
       "0  4244733e06e7ecb4970a6e2683c13e61  48436dade18ac8b2bce089ec2a041202   \n",
       "1  e5f2d52b802189ee658865ca93d83a8f  dd7ddc04e1b6c2c614352b383efe2d36   \n",
       "2  c777355d18b72b67abbeef9df44fd0fd  5b51032eddd242adc84c38acab88f23d   \n",
       "3  7634da152a4610f1595efa32f14722fc  9d7a1d34a5052409006425275ba1c2b4   \n",
       "4  ac6c3623068f30de03045865e4e10089  df560393f3a51e74553ab94004ba5c87   \n",
       "\n",
       "                          review_id   price  freight_value  \\\n",
       "0  97ca439bc427b48bc1cd7177abe71365   58.90          13.29   \n",
       "1  7b07bacd811c4117b742569b04ce3580  239.90          19.93   \n",
       "2  0c5b33dea94867d1ac402749e5438e8b  199.00          17.87   \n",
       "3  f4028d019cb58564807486a6aaf33817   12.99          12.79   \n",
       "4  940144190dcba6351888cafa43f3a3a5  199.90          18.14   \n",
       "\n",
       "   payment_sequential payment_type  payment_installments  payment_value  \\\n",
       "0                   1  credit_card                     2          72.19   \n",
       "1                   1  credit_card                     3         259.83   \n",
       "2                   1  credit_card                     5         216.87   \n",
       "3                   1  credit_card                     2          25.78   \n",
       "4                   1  credit_card                     3         218.04   \n",
       "\n",
       "   review_score  shipping_limit_date review_creation_date  \\\n",
       "0             5  2017-09-19 09:45:35  2017-09-21 00:00:00   \n",
       "1             4  2017-05-03 11:05:13  2017-05-13 00:00:00   \n",
       "2             5  2018-01-18 14:48:30  2018-01-23 00:00:00   \n",
       "3             4  2018-08-15 10:10:18  2018-08-15 00:00:00   \n",
       "4             5  2017-02-13 13:57:51  2017-03-02 00:00:00   \n",
       "\n",
       "  review_answer_timestamp  \n",
       "0     2017-09-22 10:57:03  \n",
       "1     2017-05-15 11:34:13  \n",
       "2     2018-01-23 16:06:31  \n",
       "3     2018-08-15 16:39:01  \n",
       "4     2017-03-03 10:54:59  "
      ]
     },
     "execution_count": 43,
     "metadata": {},
     "output_type": "execute_result"
    }
   ],
   "source": [
    "new_olist_product_orders = olist_product_orders[[\n",
    " 'order_id',\n",
    " 'order_item_id',\n",
    " 'product_id',\n",
    " 'seller_id',\n",
    " 'review_id',\n",
    " 'price',\n",
    " 'freight_value',\n",
    " 'payment_sequential',\n",
    " 'payment_type',\n",
    " 'payment_installments',\n",
    " 'payment_value',\n",
    " 'review_score',\n",
    " 'shipping_limit_date',\n",
    " 'review_creation_date',\n",
    " 'review_answer_timestamp'\n",
    "]]\n",
    "new_olist_product_orders.head()"
   ]
  },
  {
   "cell_type": "markdown",
   "id": "efb3e254",
   "metadata": {},
   "source": [
    "#### 4. merge dataframe customers_order, olist_product_orders"
   ]
  },
  {
   "cell_type": "code",
   "execution_count": 44,
   "id": "9c9d7486",
   "metadata": {},
   "outputs": [
    {
     "data": {
      "text/plain": [
       "['order_id',\n",
       " 'customer_id',\n",
       " 'order_status',\n",
       " 'order_purchase_timestamp',\n",
       " 'order_approved_at',\n",
       " 'order_delivered_carrier_date',\n",
       " 'order_delivered_customer_date',\n",
       " 'order_estimated_delivery_date',\n",
       " 'customer_unique_id',\n",
       " 'customer_zip_code_prefix',\n",
       " 'customer_city',\n",
       " 'customer_state',\n",
       " 'order_item_id',\n",
       " 'product_id',\n",
       " 'seller_id',\n",
       " 'shipping_limit_date',\n",
       " 'price',\n",
       " 'freight_value',\n",
       " 'payment_sequential',\n",
       " 'payment_type',\n",
       " 'payment_installments',\n",
       " 'payment_value',\n",
       " 'review_id',\n",
       " 'review_score',\n",
       " 'review_creation_date',\n",
       " 'review_answer_timestamp']"
      ]
     },
     "execution_count": 44,
     "metadata": {},
     "output_type": "execute_result"
    }
   ],
   "source": [
    "olist_customers_orders = pd.merge(customers_order,olist_product_orders, on='order_id', how='inner')\n",
    "olist_customers_orders.columns.tolist()"
   ]
  },
  {
   "cell_type": "code",
   "execution_count": 45,
   "id": "3ba8fa59",
   "metadata": {},
   "outputs": [
    {
     "data": {
      "text/html": [
       "<div>\n",
       "<style scoped>\n",
       "    .dataframe tbody tr th:only-of-type {\n",
       "        vertical-align: middle;\n",
       "    }\n",
       "\n",
       "    .dataframe tbody tr th {\n",
       "        vertical-align: top;\n",
       "    }\n",
       "\n",
       "    .dataframe thead th {\n",
       "        text-align: right;\n",
       "    }\n",
       "</style>\n",
       "<table border=\"1\" class=\"dataframe\">\n",
       "  <thead>\n",
       "    <tr style=\"text-align: right;\">\n",
       "      <th></th>\n",
       "      <th>order_id</th>\n",
       "      <th>customer_id</th>\n",
       "      <th>product_id</th>\n",
       "      <th>seller_id</th>\n",
       "      <th>review_id</th>\n",
       "      <th>customer_unique_id</th>\n",
       "      <th>order_item_id</th>\n",
       "      <th>order_status</th>\n",
       "      <th>price</th>\n",
       "      <th>payment_value</th>\n",
       "      <th>...</th>\n",
       "      <th>review_score</th>\n",
       "      <th>freight_value</th>\n",
       "      <th>order_approved_at</th>\n",
       "      <th>order_purchase_timestamp</th>\n",
       "      <th>order_delivered_carrier_date</th>\n",
       "      <th>order_delivered_customer_date</th>\n",
       "      <th>order_estimated_delivery_date</th>\n",
       "      <th>shipping_limit_date</th>\n",
       "      <th>review_creation_date</th>\n",
       "      <th>review_answer_timestamp</th>\n",
       "    </tr>\n",
       "  </thead>\n",
       "  <tbody>\n",
       "    <tr>\n",
       "      <th>0</th>\n",
       "      <td>e481f51cbdc54678b7cc49136f2d6af7</td>\n",
       "      <td>9ef432eb6251297304e76186b10a928d</td>\n",
       "      <td>87285b34884572647811a353c7ac498a</td>\n",
       "      <td>3504c0cb71d7fa48d967e0e4c94d59d9</td>\n",
       "      <td>a54f0611adc9ed256b57ede6b6eb5114</td>\n",
       "      <td>7c396fd4830fd04220f754e42b4e5bff</td>\n",
       "      <td>1</td>\n",
       "      <td>delivered</td>\n",
       "      <td>29.99</td>\n",
       "      <td>18.12</td>\n",
       "      <td>...</td>\n",
       "      <td>4</td>\n",
       "      <td>8.72</td>\n",
       "      <td>2017-10-02 11:07:15</td>\n",
       "      <td>2017-10-02 10:56:33</td>\n",
       "      <td>2017-10-04 19:55:00</td>\n",
       "      <td>2017-10-10 21:25:13</td>\n",
       "      <td>2017-10-18 00:00:00</td>\n",
       "      <td>2017-10-06 11:07:15</td>\n",
       "      <td>2017-10-11 00:00:00</td>\n",
       "      <td>2017-10-12 03:43:48</td>\n",
       "    </tr>\n",
       "    <tr>\n",
       "      <th>1</th>\n",
       "      <td>e481f51cbdc54678b7cc49136f2d6af7</td>\n",
       "      <td>9ef432eb6251297304e76186b10a928d</td>\n",
       "      <td>87285b34884572647811a353c7ac498a</td>\n",
       "      <td>3504c0cb71d7fa48d967e0e4c94d59d9</td>\n",
       "      <td>a54f0611adc9ed256b57ede6b6eb5114</td>\n",
       "      <td>7c396fd4830fd04220f754e42b4e5bff</td>\n",
       "      <td>1</td>\n",
       "      <td>delivered</td>\n",
       "      <td>29.99</td>\n",
       "      <td>2.00</td>\n",
       "      <td>...</td>\n",
       "      <td>4</td>\n",
       "      <td>8.72</td>\n",
       "      <td>2017-10-02 11:07:15</td>\n",
       "      <td>2017-10-02 10:56:33</td>\n",
       "      <td>2017-10-04 19:55:00</td>\n",
       "      <td>2017-10-10 21:25:13</td>\n",
       "      <td>2017-10-18 00:00:00</td>\n",
       "      <td>2017-10-06 11:07:15</td>\n",
       "      <td>2017-10-11 00:00:00</td>\n",
       "      <td>2017-10-12 03:43:48</td>\n",
       "    </tr>\n",
       "    <tr>\n",
       "      <th>2</th>\n",
       "      <td>e481f51cbdc54678b7cc49136f2d6af7</td>\n",
       "      <td>9ef432eb6251297304e76186b10a928d</td>\n",
       "      <td>87285b34884572647811a353c7ac498a</td>\n",
       "      <td>3504c0cb71d7fa48d967e0e4c94d59d9</td>\n",
       "      <td>a54f0611adc9ed256b57ede6b6eb5114</td>\n",
       "      <td>7c396fd4830fd04220f754e42b4e5bff</td>\n",
       "      <td>1</td>\n",
       "      <td>delivered</td>\n",
       "      <td>29.99</td>\n",
       "      <td>18.59</td>\n",
       "      <td>...</td>\n",
       "      <td>4</td>\n",
       "      <td>8.72</td>\n",
       "      <td>2017-10-02 11:07:15</td>\n",
       "      <td>2017-10-02 10:56:33</td>\n",
       "      <td>2017-10-04 19:55:00</td>\n",
       "      <td>2017-10-10 21:25:13</td>\n",
       "      <td>2017-10-18 00:00:00</td>\n",
       "      <td>2017-10-06 11:07:15</td>\n",
       "      <td>2017-10-11 00:00:00</td>\n",
       "      <td>2017-10-12 03:43:48</td>\n",
       "    </tr>\n",
       "    <tr>\n",
       "      <th>3</th>\n",
       "      <td>53cdb2fc8bc7dce0b6741e2150273451</td>\n",
       "      <td>b0830fb4747a6c6d20dea0b8c802d7ef</td>\n",
       "      <td>595fac2a385ac33a80bd5114aec74eb8</td>\n",
       "      <td>289cdb325fb7e7f891c38608bf9e0962</td>\n",
       "      <td>8d5266042046a06655c8db133d120ba5</td>\n",
       "      <td>af07308b275d755c9edb36a90c618231</td>\n",
       "      <td>1</td>\n",
       "      <td>delivered</td>\n",
       "      <td>118.70</td>\n",
       "      <td>141.46</td>\n",
       "      <td>...</td>\n",
       "      <td>4</td>\n",
       "      <td>22.76</td>\n",
       "      <td>2018-07-26 03:24:27</td>\n",
       "      <td>2018-07-24 20:41:37</td>\n",
       "      <td>2018-07-26 14:31:00</td>\n",
       "      <td>2018-08-07 15:27:45</td>\n",
       "      <td>2018-08-13 00:00:00</td>\n",
       "      <td>2018-07-30 03:24:27</td>\n",
       "      <td>2018-08-08 00:00:00</td>\n",
       "      <td>2018-08-08 18:37:50</td>\n",
       "    </tr>\n",
       "    <tr>\n",
       "      <th>4</th>\n",
       "      <td>47770eb9100c2d0c44946d9cf07ec65d</td>\n",
       "      <td>41ce2a54c0b03bf3443c3d931a367089</td>\n",
       "      <td>aa4383b373c6aca5d8797843e5594415</td>\n",
       "      <td>4869f7a5dfa277a7dca6462dcf3b52b2</td>\n",
       "      <td>e73b67b67587f7644d5bd1a52deb1b01</td>\n",
       "      <td>3a653a41f6f9fc3d2a113cf8398680e8</td>\n",
       "      <td>1</td>\n",
       "      <td>delivered</td>\n",
       "      <td>159.90</td>\n",
       "      <td>179.12</td>\n",
       "      <td>...</td>\n",
       "      <td>5</td>\n",
       "      <td>19.22</td>\n",
       "      <td>2018-08-08 08:55:23</td>\n",
       "      <td>2018-08-08 08:38:49</td>\n",
       "      <td>2018-08-08 13:50:00</td>\n",
       "      <td>2018-08-17 18:06:29</td>\n",
       "      <td>2018-09-04 00:00:00</td>\n",
       "      <td>2018-08-13 08:55:23</td>\n",
       "      <td>2018-08-18 00:00:00</td>\n",
       "      <td>2018-08-22 19:07:58</td>\n",
       "    </tr>\n",
       "  </tbody>\n",
       "</table>\n",
       "<p>5 rows × 26 columns</p>\n",
       "</div>"
      ],
      "text/plain": [
       "                           order_id                       customer_id  \\\n",
       "0  e481f51cbdc54678b7cc49136f2d6af7  9ef432eb6251297304e76186b10a928d   \n",
       "1  e481f51cbdc54678b7cc49136f2d6af7  9ef432eb6251297304e76186b10a928d   \n",
       "2  e481f51cbdc54678b7cc49136f2d6af7  9ef432eb6251297304e76186b10a928d   \n",
       "3  53cdb2fc8bc7dce0b6741e2150273451  b0830fb4747a6c6d20dea0b8c802d7ef   \n",
       "4  47770eb9100c2d0c44946d9cf07ec65d  41ce2a54c0b03bf3443c3d931a367089   \n",
       "\n",
       "                         product_id                         seller_id  \\\n",
       "0  87285b34884572647811a353c7ac498a  3504c0cb71d7fa48d967e0e4c94d59d9   \n",
       "1  87285b34884572647811a353c7ac498a  3504c0cb71d7fa48d967e0e4c94d59d9   \n",
       "2  87285b34884572647811a353c7ac498a  3504c0cb71d7fa48d967e0e4c94d59d9   \n",
       "3  595fac2a385ac33a80bd5114aec74eb8  289cdb325fb7e7f891c38608bf9e0962   \n",
       "4  aa4383b373c6aca5d8797843e5594415  4869f7a5dfa277a7dca6462dcf3b52b2   \n",
       "\n",
       "                          review_id                customer_unique_id  \\\n",
       "0  a54f0611adc9ed256b57ede6b6eb5114  7c396fd4830fd04220f754e42b4e5bff   \n",
       "1  a54f0611adc9ed256b57ede6b6eb5114  7c396fd4830fd04220f754e42b4e5bff   \n",
       "2  a54f0611adc9ed256b57ede6b6eb5114  7c396fd4830fd04220f754e42b4e5bff   \n",
       "3  8d5266042046a06655c8db133d120ba5  af07308b275d755c9edb36a90c618231   \n",
       "4  e73b67b67587f7644d5bd1a52deb1b01  3a653a41f6f9fc3d2a113cf8398680e8   \n",
       "\n",
       "   order_item_id order_status   price  payment_value  ... review_score  \\\n",
       "0              1    delivered   29.99          18.12  ...            4   \n",
       "1              1    delivered   29.99           2.00  ...            4   \n",
       "2              1    delivered   29.99          18.59  ...            4   \n",
       "3              1    delivered  118.70         141.46  ...            4   \n",
       "4              1    delivered  159.90         179.12  ...            5   \n",
       "\n",
       "   freight_value    order_approved_at order_purchase_timestamp  \\\n",
       "0           8.72  2017-10-02 11:07:15      2017-10-02 10:56:33   \n",
       "1           8.72  2017-10-02 11:07:15      2017-10-02 10:56:33   \n",
       "2           8.72  2017-10-02 11:07:15      2017-10-02 10:56:33   \n",
       "3          22.76  2018-07-26 03:24:27      2018-07-24 20:41:37   \n",
       "4          19.22  2018-08-08 08:55:23      2018-08-08 08:38:49   \n",
       "\n",
       "  order_delivered_carrier_date  order_delivered_customer_date  \\\n",
       "0          2017-10-04 19:55:00            2017-10-10 21:25:13   \n",
       "1          2017-10-04 19:55:00            2017-10-10 21:25:13   \n",
       "2          2017-10-04 19:55:00            2017-10-10 21:25:13   \n",
       "3          2018-07-26 14:31:00            2018-08-07 15:27:45   \n",
       "4          2018-08-08 13:50:00            2018-08-17 18:06:29   \n",
       "\n",
       "   order_estimated_delivery_date  shipping_limit_date review_creation_date  \\\n",
       "0            2017-10-18 00:00:00  2017-10-06 11:07:15  2017-10-11 00:00:00   \n",
       "1            2017-10-18 00:00:00  2017-10-06 11:07:15  2017-10-11 00:00:00   \n",
       "2            2017-10-18 00:00:00  2017-10-06 11:07:15  2017-10-11 00:00:00   \n",
       "3            2018-08-13 00:00:00  2018-07-30 03:24:27  2018-08-08 00:00:00   \n",
       "4            2018-09-04 00:00:00  2018-08-13 08:55:23  2018-08-18 00:00:00   \n",
       "\n",
       "  review_answer_timestamp  \n",
       "0     2017-10-12 03:43:48  \n",
       "1     2017-10-12 03:43:48  \n",
       "2     2017-10-12 03:43:48  \n",
       "3     2018-08-08 18:37:50  \n",
       "4     2018-08-22 19:07:58  \n",
       "\n",
       "[5 rows x 26 columns]"
      ]
     },
     "execution_count": 45,
     "metadata": {},
     "output_type": "execute_result"
    }
   ],
   "source": [
    "new_olist_customers_orders=olist_customers_orders[[\n",
    " 'order_id',\n",
    " 'customer_id',\n",
    " 'product_id',   \n",
    " 'seller_id',    \n",
    " 'review_id',   \n",
    " 'customer_unique_id',  \n",
    " 'order_item_id',\n",
    " 'order_status',\n",
    " 'price',\n",
    " 'payment_value',    \n",
    " 'payment_type',\n",
    " 'payment_sequential',\n",
    " 'payment_installments',\n",
    " 'customer_state',\n",
    " 'customer_city', \n",
    " 'customer_zip_code_prefix',\n",
    " 'review_score',      \n",
    " 'freight_value',  \n",
    " 'order_approved_at',\n",
    " 'order_purchase_timestamp',\n",
    " 'order_delivered_carrier_date',\n",
    " 'order_delivered_customer_date',\n",
    " 'order_estimated_delivery_date',                  \n",
    " 'shipping_limit_date',\n",
    " 'review_creation_date',\n",
    " 'review_answer_timestamp'\n",
    "                       ]]\n",
    "new_olist_customers_orders.head()"
   ]
  },
  {
   "cell_type": "code",
   "execution_count": 46,
   "id": "dedf444d",
   "metadata": {},
   "outputs": [
    {
     "data": {
      "text/plain": [
       "['seller_id',\n",
       " 'seller_zip_code_prefix',\n",
       " 'seller_city',\n",
       " 'seller_state',\n",
       " 'order_id',\n",
       " 'customer_id',\n",
       " 'order_status',\n",
       " 'order_purchase_timestamp',\n",
       " 'order_approved_at',\n",
       " 'order_delivered_carrier_date',\n",
       " 'order_delivered_customer_date',\n",
       " 'order_estimated_delivery_date',\n",
       " 'customer_unique_id',\n",
       " 'customer_zip_code_prefix',\n",
       " 'customer_city',\n",
       " 'customer_state',\n",
       " 'order_item_id',\n",
       " 'product_id',\n",
       " 'shipping_limit_date',\n",
       " 'price',\n",
       " 'freight_value',\n",
       " 'payment_sequential',\n",
       " 'payment_type',\n",
       " 'payment_installments',\n",
       " 'payment_value',\n",
       " 'review_id',\n",
       " 'review_score',\n",
       " 'review_creation_date',\n",
       " 'review_answer_timestamp']"
      ]
     },
     "execution_count": 46,
     "metadata": {},
     "output_type": "execute_result"
    }
   ],
   "source": [
    "## merge dataframe olist_customers_orders with olist_sellers\n",
    "olist_customers_orders = pd.merge(olist_sellers,olist_customers_orders, on='seller_id', how='inner')\n",
    "olist_customers_orders.columns.tolist()"
   ]
  },
  {
   "cell_type": "code",
   "execution_count": 47,
   "id": "40f438f6",
   "metadata": {},
   "outputs": [
    {
     "data": {
      "text/html": [
       "<div>\n",
       "<style scoped>\n",
       "    .dataframe tbody tr th:only-of-type {\n",
       "        vertical-align: middle;\n",
       "    }\n",
       "\n",
       "    .dataframe tbody tr th {\n",
       "        vertical-align: top;\n",
       "    }\n",
       "\n",
       "    .dataframe thead th {\n",
       "        text-align: right;\n",
       "    }\n",
       "</style>\n",
       "<table border=\"1\" class=\"dataframe\">\n",
       "  <thead>\n",
       "    <tr style=\"text-align: right;\">\n",
       "      <th></th>\n",
       "      <th>order_id</th>\n",
       "      <th>customer_id</th>\n",
       "      <th>product_id</th>\n",
       "      <th>seller_id</th>\n",
       "      <th>review_id</th>\n",
       "      <th>customer_unique_id</th>\n",
       "      <th>order_item_id</th>\n",
       "      <th>order_status</th>\n",
       "      <th>price</th>\n",
       "      <th>payment_value</th>\n",
       "      <th>...</th>\n",
       "      <th>review_score</th>\n",
       "      <th>freight_value</th>\n",
       "      <th>order_approved_at</th>\n",
       "      <th>order_purchase_timestamp</th>\n",
       "      <th>order_delivered_carrier_date</th>\n",
       "      <th>order_delivered_customer_date</th>\n",
       "      <th>order_estimated_delivery_date</th>\n",
       "      <th>shipping_limit_date</th>\n",
       "      <th>review_creation_date</th>\n",
       "      <th>review_answer_timestamp</th>\n",
       "    </tr>\n",
       "  </thead>\n",
       "  <tbody>\n",
       "    <tr>\n",
       "      <th>0</th>\n",
       "      <td>6d953888a914b67350d5bc4d48f2acab</td>\n",
       "      <td>a973c4e3ad82777add3fa188f91dacea</td>\n",
       "      <td>f4621f8ad6f54a2e3c408884068be46d</td>\n",
       "      <td>3442f8959a84dea7ee197c632cb2df15</td>\n",
       "      <td>b9b791819c5c1a5c6a4ffc7881f97fb5</td>\n",
       "      <td>b4527423469300ee354458e1b5f961be</td>\n",
       "      <td>1</td>\n",
       "      <td>delivered</td>\n",
       "      <td>101.7</td>\n",
       "      <td>117.62</td>\n",
       "      <td>...</td>\n",
       "      <td>1</td>\n",
       "      <td>15.92</td>\n",
       "      <td>2017-05-05 16:25:11</td>\n",
       "      <td>2017-05-05 16:12:29</td>\n",
       "      <td>2017-05-12 05:43:55</td>\n",
       "      <td>2017-06-02 16:57:44</td>\n",
       "      <td>2017-05-30 00:00:00</td>\n",
       "      <td>2017-05-11 16:25:11</td>\n",
       "      <td>2017-06-01 00:00:00</td>\n",
       "      <td>2017-06-01 12:57:10</td>\n",
       "    </tr>\n",
       "    <tr>\n",
       "      <th>1</th>\n",
       "      <td>bc8a5de6abf5b14f98a6135a7fb46731</td>\n",
       "      <td>1554ffe702931a062b4383b109accf63</td>\n",
       "      <td>325a06bcce0da45b7f4ecf2797dd40e4</td>\n",
       "      <td>3442f8959a84dea7ee197c632cb2df15</td>\n",
       "      <td>cc77a6d63753c1d7b88b7c64630b97b9</td>\n",
       "      <td>af0f26435fade1ca984d9affda307199</td>\n",
       "      <td>2</td>\n",
       "      <td>delivered</td>\n",
       "      <td>10.8</td>\n",
       "      <td>158.80</td>\n",
       "      <td>...</td>\n",
       "      <td>3</td>\n",
       "      <td>2.42</td>\n",
       "      <td>2017-08-30 12:50:19</td>\n",
       "      <td>2017-08-30 11:47:52</td>\n",
       "      <td>2017-08-30 19:22:18</td>\n",
       "      <td>2017-09-01 16:51:26</td>\n",
       "      <td>2017-09-20 00:00:00</td>\n",
       "      <td>2017-09-05 12:50:19</td>\n",
       "      <td>2017-09-02 00:00:00</td>\n",
       "      <td>2017-09-03 17:31:14</td>\n",
       "    </tr>\n",
       "    <tr>\n",
       "      <th>2</th>\n",
       "      <td>4a90af3e85dd563884e2afeab1091394</td>\n",
       "      <td>9d6837f9700a3441e7183bff3bc4eef0</td>\n",
       "      <td>ffb64e34a37740dafb6c88f1abd1fa61</td>\n",
       "      <td>3442f8959a84dea7ee197c632cb2df15</td>\n",
       "      <td>88980a9c50a6909fa1fe35ddab8fa1e2</td>\n",
       "      <td>f421a2a66b69dbfe6db0c87845281a90</td>\n",
       "      <td>1</td>\n",
       "      <td>delivered</td>\n",
       "      <td>106.2</td>\n",
       "      <td>115.76</td>\n",
       "      <td>...</td>\n",
       "      <td>5</td>\n",
       "      <td>9.56</td>\n",
       "      <td>2017-08-21 20:50:19</td>\n",
       "      <td>2017-08-21 20:35:44</td>\n",
       "      <td>2017-08-29 20:33:29</td>\n",
       "      <td>2017-08-30 16:07:13</td>\n",
       "      <td>2017-09-01 00:00:00</td>\n",
       "      <td>2017-08-25 20:50:19</td>\n",
       "      <td>2017-08-31 00:00:00</td>\n",
       "      <td>2017-08-31 21:37:39</td>\n",
       "    </tr>\n",
       "    <tr>\n",
       "      <th>3</th>\n",
       "      <td>1887b26eba419ce20f6fe34a6f88e80a</td>\n",
       "      <td>23fe51c9d4d1b1cef50c57b3c0babf5e</td>\n",
       "      <td>765c417cdc38443aaa558a0159a98591</td>\n",
       "      <td>d1b65fc7debc3361ea86b5f14c68d2e2</td>\n",
       "      <td>9de1a1b5a62567638d90dcaa1ef7c90f</td>\n",
       "      <td>00ac9cd5c4ad19e16e7c6f6864711737</td>\n",
       "      <td>1</td>\n",
       "      <td>delivered</td>\n",
       "      <td>209.9</td>\n",
       "      <td>231.45</td>\n",
       "      <td>...</td>\n",
       "      <td>5</td>\n",
       "      <td>21.55</td>\n",
       "      <td>2017-04-28 14:35:15</td>\n",
       "      <td>2017-04-28 14:20:07</td>\n",
       "      <td>2017-05-02 13:39:21</td>\n",
       "      <td>2017-05-09 14:27:05</td>\n",
       "      <td>2017-06-01 00:00:00</td>\n",
       "      <td>2017-05-08 14:35:15</td>\n",
       "      <td>2017-05-10 00:00:00</td>\n",
       "      <td>2017-05-11 10:34:49</td>\n",
       "    </tr>\n",
       "    <tr>\n",
       "      <th>4</th>\n",
       "      <td>83f24bbc4f76a2730ba9c9cfa32e6d07</td>\n",
       "      <td>d49bac4ac7d77b956f2b185ab700fbf1</td>\n",
       "      <td>765c417cdc38443aaa558a0159a98591</td>\n",
       "      <td>d1b65fc7debc3361ea86b5f14c68d2e2</td>\n",
       "      <td>683598a96354d366237bdb8797a55c3d</td>\n",
       "      <td>51dc56123336c573f2977f5da81b17b9</td>\n",
       "      <td>1</td>\n",
       "      <td>delivered</td>\n",
       "      <td>209.9</td>\n",
       "      <td>231.45</td>\n",
       "      <td>...</td>\n",
       "      <td>5</td>\n",
       "      <td>21.55</td>\n",
       "      <td>2017-04-27 09:25:08</td>\n",
       "      <td>2017-04-27 09:09:44</td>\n",
       "      <td>2017-04-27 13:47:44</td>\n",
       "      <td>2017-05-04 13:20:07</td>\n",
       "      <td>2017-06-06 00:00:00</td>\n",
       "      <td>2017-05-05 09:25:08</td>\n",
       "      <td>2017-05-05 00:00:00</td>\n",
       "      <td>2017-05-08 11:08:59</td>\n",
       "    </tr>\n",
       "  </tbody>\n",
       "</table>\n",
       "<p>5 rows × 29 columns</p>\n",
       "</div>"
      ],
      "text/plain": [
       "                           order_id                       customer_id  \\\n",
       "0  6d953888a914b67350d5bc4d48f2acab  a973c4e3ad82777add3fa188f91dacea   \n",
       "1  bc8a5de6abf5b14f98a6135a7fb46731  1554ffe702931a062b4383b109accf63   \n",
       "2  4a90af3e85dd563884e2afeab1091394  9d6837f9700a3441e7183bff3bc4eef0   \n",
       "3  1887b26eba419ce20f6fe34a6f88e80a  23fe51c9d4d1b1cef50c57b3c0babf5e   \n",
       "4  83f24bbc4f76a2730ba9c9cfa32e6d07  d49bac4ac7d77b956f2b185ab700fbf1   \n",
       "\n",
       "                         product_id                         seller_id  \\\n",
       "0  f4621f8ad6f54a2e3c408884068be46d  3442f8959a84dea7ee197c632cb2df15   \n",
       "1  325a06bcce0da45b7f4ecf2797dd40e4  3442f8959a84dea7ee197c632cb2df15   \n",
       "2  ffb64e34a37740dafb6c88f1abd1fa61  3442f8959a84dea7ee197c632cb2df15   \n",
       "3  765c417cdc38443aaa558a0159a98591  d1b65fc7debc3361ea86b5f14c68d2e2   \n",
       "4  765c417cdc38443aaa558a0159a98591  d1b65fc7debc3361ea86b5f14c68d2e2   \n",
       "\n",
       "                          review_id                customer_unique_id  \\\n",
       "0  b9b791819c5c1a5c6a4ffc7881f97fb5  b4527423469300ee354458e1b5f961be   \n",
       "1  cc77a6d63753c1d7b88b7c64630b97b9  af0f26435fade1ca984d9affda307199   \n",
       "2  88980a9c50a6909fa1fe35ddab8fa1e2  f421a2a66b69dbfe6db0c87845281a90   \n",
       "3  9de1a1b5a62567638d90dcaa1ef7c90f  00ac9cd5c4ad19e16e7c6f6864711737   \n",
       "4  683598a96354d366237bdb8797a55c3d  51dc56123336c573f2977f5da81b17b9   \n",
       "\n",
       "   order_item_id order_status  price  payment_value  ... review_score  \\\n",
       "0              1    delivered  101.7         117.62  ...            1   \n",
       "1              2    delivered   10.8         158.80  ...            3   \n",
       "2              1    delivered  106.2         115.76  ...            5   \n",
       "3              1    delivered  209.9         231.45  ...            5   \n",
       "4              1    delivered  209.9         231.45  ...            5   \n",
       "\n",
       "   freight_value    order_approved_at order_purchase_timestamp  \\\n",
       "0          15.92  2017-05-05 16:25:11      2017-05-05 16:12:29   \n",
       "1           2.42  2017-08-30 12:50:19      2017-08-30 11:47:52   \n",
       "2           9.56  2017-08-21 20:50:19      2017-08-21 20:35:44   \n",
       "3          21.55  2017-04-28 14:35:15      2017-04-28 14:20:07   \n",
       "4          21.55  2017-04-27 09:25:08      2017-04-27 09:09:44   \n",
       "\n",
       "  order_delivered_carrier_date  order_delivered_customer_date  \\\n",
       "0          2017-05-12 05:43:55            2017-06-02 16:57:44   \n",
       "1          2017-08-30 19:22:18            2017-09-01 16:51:26   \n",
       "2          2017-08-29 20:33:29            2017-08-30 16:07:13   \n",
       "3          2017-05-02 13:39:21            2017-05-09 14:27:05   \n",
       "4          2017-04-27 13:47:44            2017-05-04 13:20:07   \n",
       "\n",
       "  order_estimated_delivery_date  shipping_limit_date  review_creation_date  \\\n",
       "0           2017-05-30 00:00:00  2017-05-11 16:25:11   2017-06-01 00:00:00   \n",
       "1           2017-09-20 00:00:00  2017-09-05 12:50:19   2017-09-02 00:00:00   \n",
       "2           2017-09-01 00:00:00  2017-08-25 20:50:19   2017-08-31 00:00:00   \n",
       "3           2017-06-01 00:00:00  2017-05-08 14:35:15   2017-05-10 00:00:00   \n",
       "4           2017-06-06 00:00:00  2017-05-05 09:25:08   2017-05-05 00:00:00   \n",
       "\n",
       "   review_answer_timestamp  \n",
       "0      2017-06-01 12:57:10  \n",
       "1      2017-09-03 17:31:14  \n",
       "2      2017-08-31 21:37:39  \n",
       "3      2017-05-11 10:34:49  \n",
       "4      2017-05-08 11:08:59  \n",
       "\n",
       "[5 rows x 29 columns]"
      ]
     },
     "execution_count": 47,
     "metadata": {},
     "output_type": "execute_result"
    }
   ],
   "source": [
    "new_olist_customers_orders=olist_customers_orders[[\n",
    " 'order_id',\n",
    " 'customer_id',\n",
    " 'product_id',   \n",
    " 'seller_id',    \n",
    " 'review_id',   \n",
    " 'customer_unique_id',  \n",
    " 'order_item_id',\n",
    " 'order_status',\n",
    " 'price',\n",
    " 'payment_value',    \n",
    " 'payment_type',\n",
    " 'payment_sequential',\n",
    " 'payment_installments',\n",
    " 'customer_state',\n",
    " 'customer_city', \n",
    " 'customer_zip_code_prefix',\n",
    " 'seller_state',\n",
    " 'seller_city',\n",
    " 'seller_zip_code_prefix',\n",
    " 'review_score',      \n",
    " 'freight_value',  \n",
    " 'order_approved_at',\n",
    " 'order_purchase_timestamp',\n",
    " 'order_delivered_carrier_date',\n",
    " 'order_delivered_customer_date',\n",
    " 'order_estimated_delivery_date',                  \n",
    " 'shipping_limit_date',\n",
    " 'review_creation_date',\n",
    " 'review_answer_timestamp'\n",
    "                       ]]\n",
    "new_olist_customers_orders.head()"
   ]
  },
  {
   "cell_type": "markdown",
   "id": "8fdc84e4",
   "metadata": {},
   "source": [
    "### Join DataFrame"
   ]
  },
  {
   "cell_type": "markdown",
   "id": "8b10592a",
   "metadata": {},
   "source": [
    "#### Join Cleaning Dataframe"
   ]
  },
  {
   "cell_type": "code",
   "execution_count": 49,
   "id": "89fd796e",
   "metadata": {},
   "outputs": [
    {
     "data": {
      "text/html": [
       "<div>\n",
       "<style scoped>\n",
       "    .dataframe tbody tr th:only-of-type {\n",
       "        vertical-align: middle;\n",
       "    }\n",
       "\n",
       "    .dataframe tbody tr th {\n",
       "        vertical-align: top;\n",
       "    }\n",
       "\n",
       "    .dataframe thead th {\n",
       "        text-align: right;\n",
       "    }\n",
       "</style>\n",
       "<table border=\"1\" class=\"dataframe\">\n",
       "  <thead>\n",
       "    <tr style=\"text-align: right;\">\n",
       "      <th></th>\n",
       "      <th>order_id</th>\n",
       "      <th>order_item_id</th>\n",
       "      <th>product_id</th>\n",
       "      <th>seller_id</th>\n",
       "      <th>review_id</th>\n",
       "      <th>price</th>\n",
       "      <th>freight_value</th>\n",
       "      <th>payment_sequential</th>\n",
       "      <th>payment_type</th>\n",
       "      <th>payment_installments</th>\n",
       "      <th>...</th>\n",
       "      <th>review_answer_timestamp</th>\n",
       "      <th>product_category_name</th>\n",
       "      <th>product_category_name_english</th>\n",
       "      <th>product_name_lenght</th>\n",
       "      <th>product_description_lenght</th>\n",
       "      <th>product_photos_qty</th>\n",
       "      <th>product_weight_g</th>\n",
       "      <th>product_length_cm</th>\n",
       "      <th>product_height_cm</th>\n",
       "      <th>product_width_cm</th>\n",
       "    </tr>\n",
       "  </thead>\n",
       "  <tbody>\n",
       "    <tr>\n",
       "      <th>0</th>\n",
       "      <td>00010242fe8c5a6d1ba2dd792cb16214</td>\n",
       "      <td>1</td>\n",
       "      <td>4244733e06e7ecb4970a6e2683c13e61</td>\n",
       "      <td>48436dade18ac8b2bce089ec2a041202</td>\n",
       "      <td>97ca439bc427b48bc1cd7177abe71365</td>\n",
       "      <td>58.9</td>\n",
       "      <td>13.29</td>\n",
       "      <td>1</td>\n",
       "      <td>credit_card</td>\n",
       "      <td>2</td>\n",
       "      <td>...</td>\n",
       "      <td>2017-09-22 10:57:03</td>\n",
       "      <td>cool_stuff</td>\n",
       "      <td>cool_stuff</td>\n",
       "      <td>58.0</td>\n",
       "      <td>598.0</td>\n",
       "      <td>4.0</td>\n",
       "      <td>650.0</td>\n",
       "      <td>28.0</td>\n",
       "      <td>9.0</td>\n",
       "      <td>14.0</td>\n",
       "    </tr>\n",
       "    <tr>\n",
       "      <th>1</th>\n",
       "      <td>130898c0987d1801452a8ed92a670612</td>\n",
       "      <td>1</td>\n",
       "      <td>4244733e06e7ecb4970a6e2683c13e61</td>\n",
       "      <td>48436dade18ac8b2bce089ec2a041202</td>\n",
       "      <td>b11cba360bbe71410c291b764753d37f</td>\n",
       "      <td>55.9</td>\n",
       "      <td>17.96</td>\n",
       "      <td>1</td>\n",
       "      <td>boleto</td>\n",
       "      <td>1</td>\n",
       "      <td>...</td>\n",
       "      <td>2017-07-17 12:50:07</td>\n",
       "      <td>cool_stuff</td>\n",
       "      <td>cool_stuff</td>\n",
       "      <td>58.0</td>\n",
       "      <td>598.0</td>\n",
       "      <td>4.0</td>\n",
       "      <td>650.0</td>\n",
       "      <td>28.0</td>\n",
       "      <td>9.0</td>\n",
       "      <td>14.0</td>\n",
       "    </tr>\n",
       "    <tr>\n",
       "      <th>2</th>\n",
       "      <td>532ed5e14e24ae1f0d735b91524b98b9</td>\n",
       "      <td>1</td>\n",
       "      <td>4244733e06e7ecb4970a6e2683c13e61</td>\n",
       "      <td>48436dade18ac8b2bce089ec2a041202</td>\n",
       "      <td>af01c4017c5ab46df6cc810e069e654a</td>\n",
       "      <td>64.9</td>\n",
       "      <td>18.33</td>\n",
       "      <td>1</td>\n",
       "      <td>credit_card</td>\n",
       "      <td>2</td>\n",
       "      <td>...</td>\n",
       "      <td>2018-06-06 21:41:12</td>\n",
       "      <td>cool_stuff</td>\n",
       "      <td>cool_stuff</td>\n",
       "      <td>58.0</td>\n",
       "      <td>598.0</td>\n",
       "      <td>4.0</td>\n",
       "      <td>650.0</td>\n",
       "      <td>28.0</td>\n",
       "      <td>9.0</td>\n",
       "      <td>14.0</td>\n",
       "    </tr>\n",
       "    <tr>\n",
       "      <th>3</th>\n",
       "      <td>6f8c31653edb8c83e1a739408b5ff750</td>\n",
       "      <td>1</td>\n",
       "      <td>4244733e06e7ecb4970a6e2683c13e61</td>\n",
       "      <td>48436dade18ac8b2bce089ec2a041202</td>\n",
       "      <td>8304ff37d8b16b57086fa283fe0c44f8</td>\n",
       "      <td>58.9</td>\n",
       "      <td>16.17</td>\n",
       "      <td>1</td>\n",
       "      <td>credit_card</td>\n",
       "      <td>3</td>\n",
       "      <td>...</td>\n",
       "      <td>2017-08-13 03:35:17</td>\n",
       "      <td>cool_stuff</td>\n",
       "      <td>cool_stuff</td>\n",
       "      <td>58.0</td>\n",
       "      <td>598.0</td>\n",
       "      <td>4.0</td>\n",
       "      <td>650.0</td>\n",
       "      <td>28.0</td>\n",
       "      <td>9.0</td>\n",
       "      <td>14.0</td>\n",
       "    </tr>\n",
       "    <tr>\n",
       "      <th>4</th>\n",
       "      <td>7d19f4ef4d04461989632411b7e588b9</td>\n",
       "      <td>1</td>\n",
       "      <td>4244733e06e7ecb4970a6e2683c13e61</td>\n",
       "      <td>48436dade18ac8b2bce089ec2a041202</td>\n",
       "      <td>426f43a82185969503fb3c86241a9535</td>\n",
       "      <td>58.9</td>\n",
       "      <td>13.29</td>\n",
       "      <td>1</td>\n",
       "      <td>credit_card</td>\n",
       "      <td>4</td>\n",
       "      <td>...</td>\n",
       "      <td>2017-08-28 00:51:18</td>\n",
       "      <td>cool_stuff</td>\n",
       "      <td>cool_stuff</td>\n",
       "      <td>58.0</td>\n",
       "      <td>598.0</td>\n",
       "      <td>4.0</td>\n",
       "      <td>650.0</td>\n",
       "      <td>28.0</td>\n",
       "      <td>9.0</td>\n",
       "      <td>14.0</td>\n",
       "    </tr>\n",
       "  </tbody>\n",
       "</table>\n",
       "<p>5 rows × 24 columns</p>\n",
       "</div>"
      ],
      "text/plain": [
       "                           order_id  order_item_id  \\\n",
       "0  00010242fe8c5a6d1ba2dd792cb16214              1   \n",
       "1  130898c0987d1801452a8ed92a670612              1   \n",
       "2  532ed5e14e24ae1f0d735b91524b98b9              1   \n",
       "3  6f8c31653edb8c83e1a739408b5ff750              1   \n",
       "4  7d19f4ef4d04461989632411b7e588b9              1   \n",
       "\n",
       "                         product_id                         seller_id  \\\n",
       "0  4244733e06e7ecb4970a6e2683c13e61  48436dade18ac8b2bce089ec2a041202   \n",
       "1  4244733e06e7ecb4970a6e2683c13e61  48436dade18ac8b2bce089ec2a041202   \n",
       "2  4244733e06e7ecb4970a6e2683c13e61  48436dade18ac8b2bce089ec2a041202   \n",
       "3  4244733e06e7ecb4970a6e2683c13e61  48436dade18ac8b2bce089ec2a041202   \n",
       "4  4244733e06e7ecb4970a6e2683c13e61  48436dade18ac8b2bce089ec2a041202   \n",
       "\n",
       "                          review_id  price  freight_value  payment_sequential  \\\n",
       "0  97ca439bc427b48bc1cd7177abe71365   58.9          13.29                   1   \n",
       "1  b11cba360bbe71410c291b764753d37f   55.9          17.96                   1   \n",
       "2  af01c4017c5ab46df6cc810e069e654a   64.9          18.33                   1   \n",
       "3  8304ff37d8b16b57086fa283fe0c44f8   58.9          16.17                   1   \n",
       "4  426f43a82185969503fb3c86241a9535   58.9          13.29                   1   \n",
       "\n",
       "  payment_type  payment_installments  ...  review_answer_timestamp  \\\n",
       "0  credit_card                     2  ...      2017-09-22 10:57:03   \n",
       "1       boleto                     1  ...      2017-07-17 12:50:07   \n",
       "2  credit_card                     2  ...      2018-06-06 21:41:12   \n",
       "3  credit_card                     3  ...      2017-08-13 03:35:17   \n",
       "4  credit_card                     4  ...      2017-08-28 00:51:18   \n",
       "\n",
       "   product_category_name product_category_name_english product_name_lenght  \\\n",
       "0             cool_stuff                    cool_stuff                58.0   \n",
       "1             cool_stuff                    cool_stuff                58.0   \n",
       "2             cool_stuff                    cool_stuff                58.0   \n",
       "3             cool_stuff                    cool_stuff                58.0   \n",
       "4             cool_stuff                    cool_stuff                58.0   \n",
       "\n",
       "  product_description_lenght product_photos_qty product_weight_g  \\\n",
       "0                      598.0                4.0            650.0   \n",
       "1                      598.0                4.0            650.0   \n",
       "2                      598.0                4.0            650.0   \n",
       "3                      598.0                4.0            650.0   \n",
       "4                      598.0                4.0            650.0   \n",
       "\n",
       "   product_length_cm  product_height_cm  product_width_cm  \n",
       "0               28.0                9.0              14.0  \n",
       "1               28.0                9.0              14.0  \n",
       "2               28.0                9.0              14.0  \n",
       "3               28.0                9.0              14.0  \n",
       "4               28.0                9.0              14.0  \n",
       "\n",
       "[5 rows x 24 columns]"
      ]
     },
     "execution_count": 49,
     "metadata": {},
     "output_type": "execute_result"
    }
   ],
   "source": [
    "## merge dataframe new_olist_product_orders with new_olist_products_category\n",
    "result_order_products = pd.merge(new_olist_product_orders,new_olist_products_category,\n",
    "                        on='product_id', how='inner')\n",
    "new_result_order_products= result_order_products.dropna()\n",
    "new_result_order_products.head()"
   ]
  },
  {
   "cell_type": "code",
   "execution_count": 53,
   "id": "aaad7220",
   "metadata": {},
   "outputs": [
    {
     "data": {
      "text/plain": [
       "['order_id',\n",
       " 'customer_id',\n",
       " 'product_id',\n",
       " 'seller_id',\n",
       " 'review_id',\n",
       " 'customer_unique_id',\n",
       " 'order_item_id',\n",
       " 'order_status',\n",
       " 'price',\n",
       " 'payment_value',\n",
       " 'payment_type',\n",
       " 'payment_sequential',\n",
       " 'payment_installments',\n",
       " 'customer_state',\n",
       " 'customer_city',\n",
       " 'customer_zip_code_prefix',\n",
       " 'seller_state',\n",
       " 'seller_city',\n",
       " 'seller_zip_code_prefix',\n",
       " 'review_score',\n",
       " 'freight_value',\n",
       " 'order_approved_at',\n",
       " 'order_purchase_timestamp',\n",
       " 'order_delivered_carrier_date',\n",
       " 'order_delivered_customer_date',\n",
       " 'order_estimated_delivery_date',\n",
       " 'shipping_limit_date',\n",
       " 'review_creation_date',\n",
       " 'review_answer_timestamp']"
      ]
     },
     "execution_count": 53,
     "metadata": {},
     "output_type": "execute_result"
    }
   ],
   "source": [
    "## merge dataframe olist_customers_orders with olist_sellers\n",
    "result_olist_customers_orders = pd.merge(new_olist_customers_orders,new_customers_order, \n",
    "                            on=[\n",
    "                            'order_id',\n",
    "                            'customer_id',\n",
    "                            'customer_unique_id', \n",
    "                            'order_status',\n",
    "                            'customer_state',\n",
    "                            'customer_city',\n",
    "                            'customer_zip_code_prefix',\n",
    "                            'order_approved_at',\n",
    "                            'order_purchase_timestamp',\n",
    "                            'order_delivered_carrier_date',\n",
    "                            'order_delivered_customer_date',\n",
    "                            'order_estimated_delivery_date', \n",
    "                             ], how='left')\n",
    "result_olist_customers_orders.columns.tolist()"
   ]
  },
  {
   "cell_type": "code",
   "execution_count": 83,
   "id": "c827f2e1",
   "metadata": {},
   "outputs": [
    {
     "data": {
      "text/plain": [
       "['order_id',\n",
       " 'customer_id',\n",
       " 'product_id',\n",
       " 'seller_id',\n",
       " 'review_id',\n",
       " 'customer_unique_id',\n",
       " 'order_item_id',\n",
       " 'order_status',\n",
       " 'price',\n",
       " 'payment_value',\n",
       " 'payment_type',\n",
       " 'payment_sequential',\n",
       " 'payment_installments',\n",
       " 'customer_state',\n",
       " 'customer_city',\n",
       " 'customer_zip_code_prefix',\n",
       " 'seller_state',\n",
       " 'seller_city',\n",
       " 'seller_zip_code_prefix',\n",
       " 'review_score',\n",
       " 'freight_value',\n",
       " 'order_approved_at',\n",
       " 'order_purchase_timestamp',\n",
       " 'order_delivered_carrier_date',\n",
       " 'order_delivered_customer_date',\n",
       " 'order_estimated_delivery_date',\n",
       " 'shipping_limit_date',\n",
       " 'review_creation_date',\n",
       " 'review_answer_timestamp']"
      ]
     },
     "execution_count": 83,
     "metadata": {},
     "output_type": "execute_result"
    }
   ],
   "source": [
    "result_olist_customers_orders.columns.tolist()"
   ]
  },
  {
   "cell_type": "code",
   "execution_count": null,
   "id": "38f7bded",
   "metadata": {},
   "outputs": [],
   "source": []
  },
  {
   "cell_type": "code",
   "execution_count": null,
   "id": "3b6cf6cc",
   "metadata": {},
   "outputs": [],
   "source": []
  },
  {
   "cell_type": "markdown",
   "id": "4086c79d",
   "metadata": {},
   "source": [
    "### Result Join Dataframe"
   ]
  },
  {
   "cell_type": "code",
   "execution_count": 78,
   "id": "5d405fb7",
   "metadata": {},
   "outputs": [
    {
     "data": {
      "text/html": [
       "<div>\n",
       "<style scoped>\n",
       "    .dataframe tbody tr th:only-of-type {\n",
       "        vertical-align: middle;\n",
       "    }\n",
       "\n",
       "    .dataframe tbody tr th {\n",
       "        vertical-align: top;\n",
       "    }\n",
       "\n",
       "    .dataframe thead th {\n",
       "        text-align: right;\n",
       "    }\n",
       "</style>\n",
       "<table border=\"1\" class=\"dataframe\">\n",
       "  <thead>\n",
       "    <tr style=\"text-align: right;\">\n",
       "      <th></th>\n",
       "      <th>geolocation_zip_code_prefix</th>\n",
       "      <th>geolocation_lat</th>\n",
       "      <th>geolocation_lng</th>\n",
       "      <th>geolocation_city</th>\n",
       "      <th>geolocation_state</th>\n",
       "    </tr>\n",
       "  </thead>\n",
       "  <tbody>\n",
       "    <tr>\n",
       "      <th>0</th>\n",
       "      <td>1037</td>\n",
       "      <td>-23.545621</td>\n",
       "      <td>-46.639292</td>\n",
       "      <td>sao paulo</td>\n",
       "      <td>SP</td>\n",
       "    </tr>\n",
       "    <tr>\n",
       "      <th>1</th>\n",
       "      <td>1046</td>\n",
       "      <td>-23.546081</td>\n",
       "      <td>-46.644820</td>\n",
       "      <td>sao paulo</td>\n",
       "      <td>SP</td>\n",
       "    </tr>\n",
       "  </tbody>\n",
       "</table>\n",
       "</div>"
      ],
      "text/plain": [
       "   geolocation_zip_code_prefix  geolocation_lat  geolocation_lng  \\\n",
       "0                         1037       -23.545621       -46.639292   \n",
       "1                         1046       -23.546081       -46.644820   \n",
       "\n",
       "  geolocation_city geolocation_state  \n",
       "0        sao paulo                SP  \n",
       "1        sao paulo                SP  "
      ]
     },
     "execution_count": 78,
     "metadata": {},
     "output_type": "execute_result"
    }
   ],
   "source": [
    "olist_geolocation.head(2)"
   ]
  },
  {
   "cell_type": "code",
   "execution_count": 84,
   "id": "905a785b",
   "metadata": {},
   "outputs": [],
   "source": [
    "olist_geolocation_customer = olist_geolocation.rename(columns={\"geolocation_zip_code_prefix\":\"customer_zip_code_prefix\",\n",
    "                                                              \"geolocation_city\":\"customer_city\",\n",
    "                                                              \"geolocation_state\":\"customer_state\"})"
   ]
  },
  {
   "cell_type": "code",
   "execution_count": 85,
   "id": "11561e83",
   "metadata": {},
   "outputs": [
    {
     "data": {
      "text/html": [
       "<div>\n",
       "<style scoped>\n",
       "    .dataframe tbody tr th:only-of-type {\n",
       "        vertical-align: middle;\n",
       "    }\n",
       "\n",
       "    .dataframe tbody tr th {\n",
       "        vertical-align: top;\n",
       "    }\n",
       "\n",
       "    .dataframe thead th {\n",
       "        text-align: right;\n",
       "    }\n",
       "</style>\n",
       "<table border=\"1\" class=\"dataframe\">\n",
       "  <thead>\n",
       "    <tr style=\"text-align: right;\">\n",
       "      <th></th>\n",
       "      <th>customer_zip_code_prefix</th>\n",
       "      <th>geolocation_lat</th>\n",
       "      <th>geolocation_lng</th>\n",
       "      <th>customer_city</th>\n",
       "      <th>customer_state</th>\n",
       "    </tr>\n",
       "  </thead>\n",
       "  <tbody>\n",
       "    <tr>\n",
       "      <th>0</th>\n",
       "      <td>1037</td>\n",
       "      <td>-23.545621</td>\n",
       "      <td>-46.639292</td>\n",
       "      <td>sao paulo</td>\n",
       "      <td>SP</td>\n",
       "    </tr>\n",
       "    <tr>\n",
       "      <th>1</th>\n",
       "      <td>1046</td>\n",
       "      <td>-23.546081</td>\n",
       "      <td>-46.644820</td>\n",
       "      <td>sao paulo</td>\n",
       "      <td>SP</td>\n",
       "    </tr>\n",
       "  </tbody>\n",
       "</table>\n",
       "</div>"
      ],
      "text/plain": [
       "   customer_zip_code_prefix  geolocation_lat  geolocation_lng customer_city  \\\n",
       "0                      1037       -23.545621       -46.639292     sao paulo   \n",
       "1                      1046       -23.546081       -46.644820     sao paulo   \n",
       "\n",
       "  customer_state  \n",
       "0             SP  \n",
       "1             SP  "
      ]
     },
     "execution_count": 85,
     "metadata": {},
     "output_type": "execute_result"
    }
   ],
   "source": [
    "olist_geolocation_customer.head(2)"
   ]
  },
  {
   "cell_type": "code",
   "execution_count": 86,
   "id": "37c0c2f4",
   "metadata": {},
   "outputs": [
    {
     "data": {
      "text/html": [
       "<div>\n",
       "<style scoped>\n",
       "    .dataframe tbody tr th:only-of-type {\n",
       "        vertical-align: middle;\n",
       "    }\n",
       "\n",
       "    .dataframe tbody tr th {\n",
       "        vertical-align: top;\n",
       "    }\n",
       "\n",
       "    .dataframe thead th {\n",
       "        text-align: right;\n",
       "    }\n",
       "</style>\n",
       "<table border=\"1\" class=\"dataframe\">\n",
       "  <thead>\n",
       "    <tr style=\"text-align: right;\">\n",
       "      <th></th>\n",
       "      <th>seller_zip_code_prefix</th>\n",
       "      <th>geolocation_lat</th>\n",
       "      <th>geolocation_lng</th>\n",
       "      <th>seller_city</th>\n",
       "      <th>seller_state</th>\n",
       "    </tr>\n",
       "  </thead>\n",
       "  <tbody>\n",
       "    <tr>\n",
       "      <th>0</th>\n",
       "      <td>1037</td>\n",
       "      <td>-23.545621</td>\n",
       "      <td>-46.639292</td>\n",
       "      <td>sao paulo</td>\n",
       "      <td>SP</td>\n",
       "    </tr>\n",
       "    <tr>\n",
       "      <th>1</th>\n",
       "      <td>1046</td>\n",
       "      <td>-23.546081</td>\n",
       "      <td>-46.644820</td>\n",
       "      <td>sao paulo</td>\n",
       "      <td>SP</td>\n",
       "    </tr>\n",
       "  </tbody>\n",
       "</table>\n",
       "</div>"
      ],
      "text/plain": [
       "   seller_zip_code_prefix  geolocation_lat  geolocation_lng seller_city  \\\n",
       "0                    1037       -23.545621       -46.639292   sao paulo   \n",
       "1                    1046       -23.546081       -46.644820   sao paulo   \n",
       "\n",
       "  seller_state  \n",
       "0           SP  \n",
       "1           SP  "
      ]
     },
     "execution_count": 86,
     "metadata": {},
     "output_type": "execute_result"
    }
   ],
   "source": [
    "olist_geolocation_sellers = olist_geolocation.rename(columns={\"geolocation_zip_code_prefix\":\"seller_zip_code_prefix\",\n",
    "                                                              \"geolocation_city\":\"seller_city\",\n",
    "                                                              \"geolocation_state\":\"seller_state\"})\n",
    "olist_geolocation_sellers.head(2)"
   ]
  },
  {
   "cell_type": "code",
   "execution_count": null,
   "id": "01e53cc6",
   "metadata": {},
   "outputs": [],
   "source": []
  },
  {
   "cell_type": "code",
   "execution_count": null,
   "id": "88660df0",
   "metadata": {},
   "outputs": [],
   "source": []
  },
  {
   "cell_type": "code",
   "execution_count": null,
   "id": "665ae27d",
   "metadata": {},
   "outputs": [],
   "source": []
  },
  {
   "cell_type": "code",
   "execution_count": null,
   "id": "b5a5f34a",
   "metadata": {},
   "outputs": [],
   "source": []
  },
  {
   "cell_type": "code",
   "execution_count": null,
   "id": "818d5116",
   "metadata": {},
   "outputs": [],
   "source": []
  },
  {
   "cell_type": "code",
   "execution_count": null,
   "id": "4ffc9580",
   "metadata": {},
   "outputs": [],
   "source": []
  },
  {
   "cell_type": "code",
   "execution_count": null,
   "id": "7baebacf",
   "metadata": {},
   "outputs": [],
   "source": []
  },
  {
   "cell_type": "code",
   "execution_count": null,
   "id": "7cdbfd42",
   "metadata": {},
   "outputs": [],
   "source": []
  },
  {
   "cell_type": "markdown",
   "id": "d285675d",
   "metadata": {},
   "source": [
    "## 3. Visualisasi Data"
   ]
  },
  {
   "cell_type": "code",
   "execution_count": 58,
   "id": "78eafe78",
   "metadata": {},
   "outputs": [
    {
     "data": {
      "text/html": [
       "<div>\n",
       "<style scoped>\n",
       "    .dataframe tbody tr th:only-of-type {\n",
       "        vertical-align: middle;\n",
       "    }\n",
       "\n",
       "    .dataframe tbody tr th {\n",
       "        vertical-align: top;\n",
       "    }\n",
       "\n",
       "    .dataframe thead th {\n",
       "        text-align: right;\n",
       "    }\n",
       "</style>\n",
       "<table border=\"1\" class=\"dataframe\">\n",
       "  <thead>\n",
       "    <tr style=\"text-align: right;\">\n",
       "      <th></th>\n",
       "      <th>order_id</th>\n",
       "      <th>customer_id</th>\n",
       "      <th>product_id</th>\n",
       "      <th>seller_id</th>\n",
       "      <th>review_id</th>\n",
       "      <th>customer_unique_id</th>\n",
       "      <th>order_item_id</th>\n",
       "      <th>order_status</th>\n",
       "      <th>price</th>\n",
       "      <th>payment_value</th>\n",
       "      <th>...</th>\n",
       "      <th>review_score</th>\n",
       "      <th>freight_value</th>\n",
       "      <th>order_approved_at</th>\n",
       "      <th>order_purchase_timestamp</th>\n",
       "      <th>order_delivered_carrier_date</th>\n",
       "      <th>order_delivered_customer_date</th>\n",
       "      <th>order_estimated_delivery_date</th>\n",
       "      <th>shipping_limit_date</th>\n",
       "      <th>review_creation_date</th>\n",
       "      <th>review_answer_timestamp</th>\n",
       "    </tr>\n",
       "  </thead>\n",
       "  <tbody>\n",
       "    <tr>\n",
       "      <th>0</th>\n",
       "      <td>6d953888a914b67350d5bc4d48f2acab</td>\n",
       "      <td>a973c4e3ad82777add3fa188f91dacea</td>\n",
       "      <td>f4621f8ad6f54a2e3c408884068be46d</td>\n",
       "      <td>3442f8959a84dea7ee197c632cb2df15</td>\n",
       "      <td>b9b791819c5c1a5c6a4ffc7881f97fb5</td>\n",
       "      <td>b4527423469300ee354458e1b5f961be</td>\n",
       "      <td>1</td>\n",
       "      <td>delivered</td>\n",
       "      <td>101.7</td>\n",
       "      <td>117.62</td>\n",
       "      <td>...</td>\n",
       "      <td>1</td>\n",
       "      <td>15.92</td>\n",
       "      <td>2017-05-05 16:25:11</td>\n",
       "      <td>2017-05-05 16:12:29</td>\n",
       "      <td>2017-05-12 05:43:55</td>\n",
       "      <td>2017-06-02 16:57:44</td>\n",
       "      <td>2017-05-30 00:00:00</td>\n",
       "      <td>2017-05-11 16:25:11</td>\n",
       "      <td>2017-06-01 00:00:00</td>\n",
       "      <td>2017-06-01 12:57:10</td>\n",
       "    </tr>\n",
       "    <tr>\n",
       "      <th>1</th>\n",
       "      <td>bc8a5de6abf5b14f98a6135a7fb46731</td>\n",
       "      <td>1554ffe702931a062b4383b109accf63</td>\n",
       "      <td>325a06bcce0da45b7f4ecf2797dd40e4</td>\n",
       "      <td>3442f8959a84dea7ee197c632cb2df15</td>\n",
       "      <td>cc77a6d63753c1d7b88b7c64630b97b9</td>\n",
       "      <td>af0f26435fade1ca984d9affda307199</td>\n",
       "      <td>2</td>\n",
       "      <td>delivered</td>\n",
       "      <td>10.8</td>\n",
       "      <td>158.80</td>\n",
       "      <td>...</td>\n",
       "      <td>3</td>\n",
       "      <td>2.42</td>\n",
       "      <td>2017-08-30 12:50:19</td>\n",
       "      <td>2017-08-30 11:47:52</td>\n",
       "      <td>2017-08-30 19:22:18</td>\n",
       "      <td>2017-09-01 16:51:26</td>\n",
       "      <td>2017-09-20 00:00:00</td>\n",
       "      <td>2017-09-05 12:50:19</td>\n",
       "      <td>2017-09-02 00:00:00</td>\n",
       "      <td>2017-09-03 17:31:14</td>\n",
       "    </tr>\n",
       "    <tr>\n",
       "      <th>2</th>\n",
       "      <td>4a90af3e85dd563884e2afeab1091394</td>\n",
       "      <td>9d6837f9700a3441e7183bff3bc4eef0</td>\n",
       "      <td>ffb64e34a37740dafb6c88f1abd1fa61</td>\n",
       "      <td>3442f8959a84dea7ee197c632cb2df15</td>\n",
       "      <td>88980a9c50a6909fa1fe35ddab8fa1e2</td>\n",
       "      <td>f421a2a66b69dbfe6db0c87845281a90</td>\n",
       "      <td>1</td>\n",
       "      <td>delivered</td>\n",
       "      <td>106.2</td>\n",
       "      <td>115.76</td>\n",
       "      <td>...</td>\n",
       "      <td>5</td>\n",
       "      <td>9.56</td>\n",
       "      <td>2017-08-21 20:50:19</td>\n",
       "      <td>2017-08-21 20:35:44</td>\n",
       "      <td>2017-08-29 20:33:29</td>\n",
       "      <td>2017-08-30 16:07:13</td>\n",
       "      <td>2017-09-01 00:00:00</td>\n",
       "      <td>2017-08-25 20:50:19</td>\n",
       "      <td>2017-08-31 00:00:00</td>\n",
       "      <td>2017-08-31 21:37:39</td>\n",
       "    </tr>\n",
       "    <tr>\n",
       "      <th>3</th>\n",
       "      <td>1887b26eba419ce20f6fe34a6f88e80a</td>\n",
       "      <td>23fe51c9d4d1b1cef50c57b3c0babf5e</td>\n",
       "      <td>765c417cdc38443aaa558a0159a98591</td>\n",
       "      <td>d1b65fc7debc3361ea86b5f14c68d2e2</td>\n",
       "      <td>9de1a1b5a62567638d90dcaa1ef7c90f</td>\n",
       "      <td>00ac9cd5c4ad19e16e7c6f6864711737</td>\n",
       "      <td>1</td>\n",
       "      <td>delivered</td>\n",
       "      <td>209.9</td>\n",
       "      <td>231.45</td>\n",
       "      <td>...</td>\n",
       "      <td>5</td>\n",
       "      <td>21.55</td>\n",
       "      <td>2017-04-28 14:35:15</td>\n",
       "      <td>2017-04-28 14:20:07</td>\n",
       "      <td>2017-05-02 13:39:21</td>\n",
       "      <td>2017-05-09 14:27:05</td>\n",
       "      <td>2017-06-01 00:00:00</td>\n",
       "      <td>2017-05-08 14:35:15</td>\n",
       "      <td>2017-05-10 00:00:00</td>\n",
       "      <td>2017-05-11 10:34:49</td>\n",
       "    </tr>\n",
       "    <tr>\n",
       "      <th>4</th>\n",
       "      <td>83f24bbc4f76a2730ba9c9cfa32e6d07</td>\n",
       "      <td>d49bac4ac7d77b956f2b185ab700fbf1</td>\n",
       "      <td>765c417cdc38443aaa558a0159a98591</td>\n",
       "      <td>d1b65fc7debc3361ea86b5f14c68d2e2</td>\n",
       "      <td>683598a96354d366237bdb8797a55c3d</td>\n",
       "      <td>51dc56123336c573f2977f5da81b17b9</td>\n",
       "      <td>1</td>\n",
       "      <td>delivered</td>\n",
       "      <td>209.9</td>\n",
       "      <td>231.45</td>\n",
       "      <td>...</td>\n",
       "      <td>5</td>\n",
       "      <td>21.55</td>\n",
       "      <td>2017-04-27 09:25:08</td>\n",
       "      <td>2017-04-27 09:09:44</td>\n",
       "      <td>2017-04-27 13:47:44</td>\n",
       "      <td>2017-05-04 13:20:07</td>\n",
       "      <td>2017-06-06 00:00:00</td>\n",
       "      <td>2017-05-05 09:25:08</td>\n",
       "      <td>2017-05-05 00:00:00</td>\n",
       "      <td>2017-05-08 11:08:59</td>\n",
       "    </tr>\n",
       "  </tbody>\n",
       "</table>\n",
       "<p>5 rows × 29 columns</p>\n",
       "</div>"
      ],
      "text/plain": [
       "                           order_id                       customer_id  \\\n",
       "0  6d953888a914b67350d5bc4d48f2acab  a973c4e3ad82777add3fa188f91dacea   \n",
       "1  bc8a5de6abf5b14f98a6135a7fb46731  1554ffe702931a062b4383b109accf63   \n",
       "2  4a90af3e85dd563884e2afeab1091394  9d6837f9700a3441e7183bff3bc4eef0   \n",
       "3  1887b26eba419ce20f6fe34a6f88e80a  23fe51c9d4d1b1cef50c57b3c0babf5e   \n",
       "4  83f24bbc4f76a2730ba9c9cfa32e6d07  d49bac4ac7d77b956f2b185ab700fbf1   \n",
       "\n",
       "                         product_id                         seller_id  \\\n",
       "0  f4621f8ad6f54a2e3c408884068be46d  3442f8959a84dea7ee197c632cb2df15   \n",
       "1  325a06bcce0da45b7f4ecf2797dd40e4  3442f8959a84dea7ee197c632cb2df15   \n",
       "2  ffb64e34a37740dafb6c88f1abd1fa61  3442f8959a84dea7ee197c632cb2df15   \n",
       "3  765c417cdc38443aaa558a0159a98591  d1b65fc7debc3361ea86b5f14c68d2e2   \n",
       "4  765c417cdc38443aaa558a0159a98591  d1b65fc7debc3361ea86b5f14c68d2e2   \n",
       "\n",
       "                          review_id                customer_unique_id  \\\n",
       "0  b9b791819c5c1a5c6a4ffc7881f97fb5  b4527423469300ee354458e1b5f961be   \n",
       "1  cc77a6d63753c1d7b88b7c64630b97b9  af0f26435fade1ca984d9affda307199   \n",
       "2  88980a9c50a6909fa1fe35ddab8fa1e2  f421a2a66b69dbfe6db0c87845281a90   \n",
       "3  9de1a1b5a62567638d90dcaa1ef7c90f  00ac9cd5c4ad19e16e7c6f6864711737   \n",
       "4  683598a96354d366237bdb8797a55c3d  51dc56123336c573f2977f5da81b17b9   \n",
       "\n",
       "   order_item_id order_status  price  payment_value  ... review_score  \\\n",
       "0              1    delivered  101.7         117.62  ...            1   \n",
       "1              2    delivered   10.8         158.80  ...            3   \n",
       "2              1    delivered  106.2         115.76  ...            5   \n",
       "3              1    delivered  209.9         231.45  ...            5   \n",
       "4              1    delivered  209.9         231.45  ...            5   \n",
       "\n",
       "   freight_value    order_approved_at order_purchase_timestamp  \\\n",
       "0          15.92  2017-05-05 16:25:11      2017-05-05 16:12:29   \n",
       "1           2.42  2017-08-30 12:50:19      2017-08-30 11:47:52   \n",
       "2           9.56  2017-08-21 20:50:19      2017-08-21 20:35:44   \n",
       "3          21.55  2017-04-28 14:35:15      2017-04-28 14:20:07   \n",
       "4          21.55  2017-04-27 09:25:08      2017-04-27 09:09:44   \n",
       "\n",
       "  order_delivered_carrier_date  order_delivered_customer_date  \\\n",
       "0          2017-05-12 05:43:55            2017-06-02 16:57:44   \n",
       "1          2017-08-30 19:22:18            2017-09-01 16:51:26   \n",
       "2          2017-08-29 20:33:29            2017-08-30 16:07:13   \n",
       "3          2017-05-02 13:39:21            2017-05-09 14:27:05   \n",
       "4          2017-04-27 13:47:44            2017-05-04 13:20:07   \n",
       "\n",
       "  order_estimated_delivery_date  shipping_limit_date  review_creation_date  \\\n",
       "0           2017-05-30 00:00:00  2017-05-11 16:25:11   2017-06-01 00:00:00   \n",
       "1           2017-09-20 00:00:00  2017-09-05 12:50:19   2017-09-02 00:00:00   \n",
       "2           2017-09-01 00:00:00  2017-08-25 20:50:19   2017-08-31 00:00:00   \n",
       "3           2017-06-01 00:00:00  2017-05-08 14:35:15   2017-05-10 00:00:00   \n",
       "4           2017-06-06 00:00:00  2017-05-05 09:25:08   2017-05-05 00:00:00   \n",
       "\n",
       "   review_answer_timestamp  \n",
       "0      2017-06-01 12:57:10  \n",
       "1      2017-09-03 17:31:14  \n",
       "2      2017-08-31 21:37:39  \n",
       "3      2017-05-11 10:34:49  \n",
       "4      2017-05-08 11:08:59  \n",
       "\n",
       "[5 rows x 29 columns]"
      ]
     },
     "execution_count": 58,
     "metadata": {},
     "output_type": "execute_result"
    }
   ],
   "source": [
    "result_olist_customers_orders.head()"
   ]
  },
  {
   "cell_type": "code",
   "execution_count": 67,
   "id": "69ff8c96",
   "metadata": {},
   "outputs": [
    {
     "data": {
      "text/plain": [
       "<AxesSubplot:ylabel='Frequency'>"
      ]
     },
     "execution_count": 67,
     "metadata": {},
     "output_type": "execute_result"
    },
    {
     "data": {
      "image/png": "[encoded data removed]",
      "text/plain": [
       "<Figure size 432x288 with 1 Axes>"
      ]
     },
     "metadata": {},
     "output_type": "display_data"
    }
   ],
   "source": [
    "result_olist_customers_orders[\"price\"].plot.hist()"
   ]
  },
  {
   "cell_type": "code",
   "execution_count": null,
   "id": "195ca1b4",
   "metadata": {},
   "outputs": [],
   "source": []
  },
  {
   "cell_type": "code",
   "execution_count": 61,
   "id": "f4522a88",
   "metadata": {},
   "outputs": [],
   "source": [
    "result_olist_customers_orders = result_olist_customers_orders.head(10)"
   ]
  },
  {
   "cell_type": "code",
   "execution_count": 62,
   "id": "bec35766",
   "metadata": {},
   "outputs": [
    {
     "data": {
      "text/plain": [
       "price                       1.000000\n",
       "freight_value               0.988152\n",
       "payment_value               0.963049\n",
       "customer_zip_code_prefix    0.670995\n",
       "payment_installments        0.551031\n",
       "seller_zip_code_prefix      0.428037\n",
       "review_score                0.348913\n",
       "order_item_id              -0.252948\n",
       "payment_sequential               NaN\n",
       "Name: price, dtype: float64"
      ]
     },
     "execution_count": 62,
     "metadata": {},
     "output_type": "execute_result"
    }
   ],
   "source": [
    "# kendal, pearson, \n",
    "c = result_olist_customers_orders.corr(method = \"pearson\")\n",
    "c_sorted = c.sort_values( by=['price'], ascending = False )\n",
    "c_sorted[\"price\"]"
   ]
  },
  {
   "cell_type": "code",
   "execution_count": 71,
   "id": "3d0e8fa4",
   "metadata": {},
   "outputs": [
    {
     "data": {
      "text/plain": [
       "Text(0, 0.5, 'Pearson Correlation')"
      ]
     },
     "execution_count": 71,
     "metadata": {},
     "output_type": "execute_result"
    },
    {
     "data": {
      "image/png": "[encoded data removed]",
      "text/plain": [
       "<Figure size 432x288 with 1 Axes>"
      ]
     },
     "metadata": {},
     "output_type": "display_data"
    }
   ],
   "source": [
    "sns.set_style(\"whitegrid\")\n",
    "\n",
    "c_sorted[\"price\"].plot (kind = \"bar\")\n",
    "plt.title(\"Correlation Between Price With All Variables\")\n",
    "plt.xlabel(\"Variables\")\n",
    "plt.ylabel(\"Pearson Correlation\")"
   ]
  },
  {
   "cell_type": "code",
   "execution_count": null,
   "id": "8d56fbe8",
   "metadata": {},
   "outputs": [],
   "source": []
  },
  {
   "cell_type": "code",
   "execution_count": null,
   "id": "42cbaf90",
   "metadata": {},
   "outputs": [],
   "source": []
  },
  {
   "cell_type": "code",
   "execution_count": null,
   "id": "01f606fb",
   "metadata": {},
   "outputs": [],
   "source": []
  },
  {
   "cell_type": "code",
   "execution_count": null,
   "id": "664891c2",
   "metadata": {},
   "outputs": [],
   "source": []
  },
  {
   "cell_type": "code",
   "execution_count": null,
   "id": "dfaccbf2",
   "metadata": {},
   "outputs": [],
   "source": []
  },
  {
   "cell_type": "code",
   "execution_count": null,
   "id": "fdb1e8dd",
   "metadata": {},
   "outputs": [],
   "source": []
  },
  {
   "cell_type": "code",
   "execution_count": null,
   "id": "da2f42d0",
   "metadata": {},
   "outputs": [],
   "source": []
  },
  {
   "cell_type": "code",
   "execution_count": null,
   "id": "b02e89e5",
   "metadata": {},
   "outputs": [],
   "source": []
  },
  {
   "cell_type": "code",
   "execution_count": null,
   "id": "35d814f1",
   "metadata": {},
   "outputs": [],
   "source": []
  },
  {
   "cell_type": "code",
   "execution_count": null,
   "id": "83d2ef66",
   "metadata": {},
   "outputs": [],
   "source": []
  },
  {
   "cell_type": "code",
   "execution_count": null,
   "id": "228b58cd",
   "metadata": {},
   "outputs": [],
   "source": []
  },
  {
   "cell_type": "code",
   "execution_count": null,
   "id": "d917ac72",
   "metadata": {},
   "outputs": [],
   "source": []
  },
  {
   "cell_type": "code",
   "execution_count": null,
   "id": "548c7bf1",
   "metadata": {},
   "outputs": [],
   "source": []
  },
  {
   "cell_type": "code",
   "execution_count": null,
   "id": "1ce74161",
   "metadata": {},
   "outputs": [],
   "source": []
  },
  {
   "cell_type": "code",
   "execution_count": null,
   "id": "c1ce1099",
   "metadata": {},
   "outputs": [],
   "source": []
  }
 ],
 "metadata": {
  "kernelspec": {
   "display_name": "Python 3",
   "language": "python",
   "name": "python3"
  },
  "language_info": {
   "codemirror_mode": {
    "name": "ipython",
    "version": 3
   },
   "file_extension": ".py",
   "mimetype": "text/x-python",
   "name": "python",
   "nbconvert_exporter": "python",
   "pygments_lexer": "ipython3",
   "version": "3.8.8"
  }
 },
 "nbformat": 4,
 "nbformat_minor": 5
}

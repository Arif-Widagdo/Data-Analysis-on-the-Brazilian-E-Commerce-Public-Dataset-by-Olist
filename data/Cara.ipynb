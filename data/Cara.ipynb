{
 "cells": [
  {
   "cell_type": "code",
   "execution_count": 6,
   "metadata": {
    "id": "JIc2i2gzEE76"
   },
   "outputs": [],
   "source": [
    "import numpy as np \n",
    "import pandas as pd \n",
    "from scipy import stats \n",
    "import os\n",
    "import matplotlib.pyplot as plt\n",
    "import seaborn as sns \n",
    "import folium"
   ]
  },
  {
   "cell_type": "markdown",
   "metadata": {
    "id": "rxWwy7M2EQKf"
   },
   "source": [
    "# Baca Dataset"
   ]
  },
  {
   "cell_type": "markdown",
   "metadata": {
    "id": "QyyiLWVdEBiX"
   },
   "source": [
    "# Libraries"
   ]
  },
  {
   "cell_type": "code",
   "execution_count": 10,
   "metadata": {
    "colab": {
     "base_uri": "https://localhost:8080/",
     "height": 238
    },
    "id": "gI20EaPYEXRx",
    "outputId": "e585917e-8522-42da-d7ff-7227ed642d33"
   },
   "outputs": [],
   "source": [
    "data_customer= pd.read_csv(\"olist_customers_dataset.csv\")\n",
    "data_lokasi = pd.read_csv(\"olist_geolocation_dataset.csv\")\n",
    "data_pemesanan= pd.read_csv(\"olist_order_items_dataset.csv\")\n",
    "data_pembayaran= pd.read_csv(\"olist_order_payments_dataset.csv\") \n",
    "data_review = pd.read_csv(\"olist_order_reviews_dataset.csv\")\n",
    "data_detail = pd.read_csv(\"olist_orders_dataset.csv\")\n",
    "data_produk = pd.read_csv(\"olist_products_dataset.csv\")\n",
    "data_seller = pd.read_csv(\"olist_sellers_dataset.csv\")\n",
    "data_kategori = pd.read_csv(\"product_category_name_translation.csv\")"
   ]
  },
  {
   "cell_type": "code",
   "execution_count": 12,
   "metadata": {
    "colab": {
     "base_uri": "https://localhost:8080/",
     "height": 167
    },
    "id": "_DM9nNFOkvxM",
    "outputId": "e173fde2-8517-45ca-8c38-f7b67f49be88"
   },
   "outputs": [
    {
     "ename": "TypeError",
     "evalue": "isnull() got an unexpected keyword argument 'subset'",
     "output_type": "error",
     "traceback": [
      "\u001b[1;31m---------------------------------------------------------------------------\u001b[0m",
      "\u001b[1;31mTypeError\u001b[0m                                 Traceback (most recent call last)",
      "\u001b[1;32m<ipython-input-12-2c2e1841e8a1>\u001b[0m in \u001b[0;36m<module>\u001b[1;34m\u001b[0m\n\u001b[1;32m----> 1\u001b[1;33m \u001b[0mdata_customer\u001b[0m\u001b[1;33m.\u001b[0m\u001b[0misnull\u001b[0m\u001b[1;33m(\u001b[0m\u001b[0msubset\u001b[0m\u001b[1;33m=\u001b[0m\u001b[1;34m'customer_unique_id'\u001b[0m\u001b[1;33m)\u001b[0m\u001b[1;33m.\u001b[0m\u001b[0msum\u001b[0m\u001b[1;33m(\u001b[0m\u001b[1;33m)\u001b[0m\u001b[1;33m.\u001b[0m\u001b[0mvalues\u001b[0m\u001b[1;33m\u001b[0m\u001b[1;33m\u001b[0m\u001b[0m\n\u001b[0m",
      "\u001b[1;31mTypeError\u001b[0m: isnull() got an unexpected keyword argument 'subset'"
     ]
    }
   ],
   "source": [
    "data_customer.isnull(subset='customer_unique_id').sum().values"
   ]
  },
  {
   "cell_type": "markdown",
   "metadata": {
    "id": "rF_6z_HzEcUz"
   },
   "source": [
    "# Penggabungan Dataset"
   ]
  },
  {
   "cell_type": "code",
   "execution_count": 11,
   "metadata": {
    "id": "PiwIv1TCEtwU"
   },
   "outputs": [
    {
     "data": {
      "text/plain": [
       "(97256, 40)"
      ]
     },
     "execution_count": 11,
     "metadata": {},
     "output_type": "execute_result"
    }
   ],
   "source": [
    "data_semua = data_detail.merge(data_pemesanan, on='order_id', how='left')\n",
    "data_semua = data_semua.merge(data_pembayaran, on='order_id', how='outer', validate='m:m')\n",
    "data_semua = data_semua.merge(data_review, on='order_id', how='outer')\n",
    "data_semua = data_semua.merge(data_produk, on='product_id', how='outer')\n",
    "data_semua = data_semua.merge(data_customer, on='customer_id', how='outer')\n",
    "data_semua = data_semua.merge(data_seller, on='seller_id', how='outer')\n",
    "data_semua = data_semua.merge(data_kategori, on='product_category_name')\n",
    "#Hapus semua duplikat berdasarkan order id ()\n",
    "data_semua= data_semua.drop_duplicates(subset='order_id')\n",
    "data_semua.shape\n"
   ]
  },
  {
   "cell_type": "markdown",
   "metadata": {
    "id": "WXHxfMSjEujx"
   },
   "source": [
    "# Proses untuk memperoleh data insight\n",
    "\n",
    "\n"
   ]
  },
  {
   "cell_type": "code",
   "execution_count": 13,
   "metadata": {
    "id": "qXhvO3VFFA5u"
   },
   "outputs": [
    {
     "name": "stdout",
     "output_type": "stream",
     "text": [
      "Ukuran dataset: (97256, 40)\n"
     ]
    },
    {
     "data": {
      "text/html": [
       "<div>\n",
       "<style scoped>\n",
       "    .dataframe tbody tr th:only-of-type {\n",
       "        vertical-align: middle;\n",
       "    }\n",
       "\n",
       "    .dataframe tbody tr th {\n",
       "        vertical-align: top;\n",
       "    }\n",
       "\n",
       "    .dataframe thead th {\n",
       "        text-align: right;\n",
       "    }\n",
       "</style>\n",
       "<table border=\"1\" class=\"dataframe\">\n",
       "  <thead>\n",
       "    <tr style=\"text-align: right;\">\n",
       "      <th></th>\n",
       "      <th>Name</th>\n",
       "      <th>dtypes</th>\n",
       "      <th>Miss</th>\n",
       "      <th>Unik</th>\n",
       "      <th>Nilai Pertama</th>\n",
       "      <th>Nilai Kedua</th>\n",
       "      <th>Nilai Ketiga</th>\n",
       "      <th>Entropy(Impurity)</th>\n",
       "    </tr>\n",
       "  </thead>\n",
       "  <tbody>\n",
       "    <tr>\n",
       "      <th>0</th>\n",
       "      <td>order_id</td>\n",
       "      <td>object</td>\n",
       "      <td>0</td>\n",
       "      <td>97256</td>\n",
       "      <td>e481f51cbdc54678b7cc49136f2d6af7</td>\n",
       "      <td>128e10d95713541c87cd1a2e48201934</td>\n",
       "      <td>0e7e841ddf8f8f2de2bad69267ecfbcf</td>\n",
       "      <td>16.57</td>\n",
       "    </tr>\n",
       "    <tr>\n",
       "      <th>1</th>\n",
       "      <td>customer_id</td>\n",
       "      <td>object</td>\n",
       "      <td>0</td>\n",
       "      <td>97256</td>\n",
       "      <td>9ef432eb6251297304e76186b10a928d</td>\n",
       "      <td>a20e8105f23924cd00833fd87daa0831</td>\n",
       "      <td>26c7ac168e1433912a51b924fbd34d34</td>\n",
       "      <td>16.57</td>\n",
       "    </tr>\n",
       "    <tr>\n",
       "      <th>2</th>\n",
       "      <td>order_status</td>\n",
       "      <td>object</td>\n",
       "      <td>0</td>\n",
       "      <td>7</td>\n",
       "      <td>delivered</td>\n",
       "      <td>delivered</td>\n",
       "      <td>delivered</td>\n",
       "      <td>0.19</td>\n",
       "    </tr>\n",
       "    <tr>\n",
       "      <th>3</th>\n",
       "      <td>order_purchase_timestamp</td>\n",
       "      <td>object</td>\n",
       "      <td>0</td>\n",
       "      <td>96721</td>\n",
       "      <td>2017-10-02 10:56:33</td>\n",
       "      <td>2017-08-15 18:29:31</td>\n",
       "      <td>2017-08-02 18:24:47</td>\n",
       "      <td>16.56</td>\n",
       "    </tr>\n",
       "    <tr>\n",
       "      <th>4</th>\n",
       "      <td>order_approved_at</td>\n",
       "      <td>object</td>\n",
       "      <td>13</td>\n",
       "      <td>88964</td>\n",
       "      <td>2017-10-02 11:07:15</td>\n",
       "      <td>2017-08-15 20:05:16</td>\n",
       "      <td>2017-08-02 18:43:15</td>\n",
       "      <td>16.39</td>\n",
       "    </tr>\n",
       "    <tr>\n",
       "      <th>5</th>\n",
       "      <td>order_delivered_carrier_date</td>\n",
       "      <td>object</td>\n",
       "      <td>976</td>\n",
       "      <td>79802</td>\n",
       "      <td>2017-10-04 19:55:00</td>\n",
       "      <td>2017-08-17 15:28:33</td>\n",
       "      <td>2017-08-04 17:35:43</td>\n",
       "      <td>16.13</td>\n",
       "    </tr>\n",
       "    <tr>\n",
       "      <th>6</th>\n",
       "      <td>order_delivered_customer_date</td>\n",
       "      <td>object</td>\n",
       "      <td>2131</td>\n",
       "      <td>94337</td>\n",
       "      <td>2017-10-10 21:25:13</td>\n",
       "      <td>2017-08-18 14:44:43</td>\n",
       "      <td>2017-08-07 18:30:01</td>\n",
       "      <td>16.52</td>\n",
       "    </tr>\n",
       "    <tr>\n",
       "      <th>7</th>\n",
       "      <td>order_estimated_delivery_date</td>\n",
       "      <td>object</td>\n",
       "      <td>0</td>\n",
       "      <td>450</td>\n",
       "      <td>2017-10-18 00:00:00</td>\n",
       "      <td>2017-08-28 00:00:00</td>\n",
       "      <td>2017-08-15 00:00:00</td>\n",
       "      <td>8.46</td>\n",
       "    </tr>\n",
       "    <tr>\n",
       "      <th>8</th>\n",
       "      <td>order_item_id</td>\n",
       "      <td>float64</td>\n",
       "      <td>0</td>\n",
       "      <td>7</td>\n",
       "      <td>1.0</td>\n",
       "      <td>1.0</td>\n",
       "      <td>1.0</td>\n",
       "      <td>0.12</td>\n",
       "    </tr>\n",
       "    <tr>\n",
       "      <th>9</th>\n",
       "      <td>product_id</td>\n",
       "      <td>object</td>\n",
       "      <td>0</td>\n",
       "      <td>31124</td>\n",
       "      <td>87285b34884572647811a353c7ac498a</td>\n",
       "      <td>87285b34884572647811a353c7ac498a</td>\n",
       "      <td>87285b34884572647811a353c7ac498a</td>\n",
       "      <td>13.58</td>\n",
       "    </tr>\n",
       "    <tr>\n",
       "      <th>10</th>\n",
       "      <td>seller_id</td>\n",
       "      <td>object</td>\n",
       "      <td>0</td>\n",
       "      <td>3019</td>\n",
       "      <td>3504c0cb71d7fa48d967e0e4c94d59d9</td>\n",
       "      <td>3504c0cb71d7fa48d967e0e4c94d59d9</td>\n",
       "      <td>3504c0cb71d7fa48d967e0e4c94d59d9</td>\n",
       "      <td>9.44</td>\n",
       "    </tr>\n",
       "    <tr>\n",
       "      <th>11</th>\n",
       "      <td>shipping_limit_date</td>\n",
       "      <td>object</td>\n",
       "      <td>0</td>\n",
       "      <td>91739</td>\n",
       "      <td>2017-10-06 11:07:15</td>\n",
       "      <td>2017-08-21 20:05:16</td>\n",
       "      <td>2017-08-08 18:37:31</td>\n",
       "      <td>16.45</td>\n",
       "    </tr>\n",
       "    <tr>\n",
       "      <th>12</th>\n",
       "      <td>price</td>\n",
       "      <td>float64</td>\n",
       "      <td>0</td>\n",
       "      <td>5810</td>\n",
       "      <td>29.99</td>\n",
       "      <td>29.99</td>\n",
       "      <td>29.99</td>\n",
       "      <td>9.57</td>\n",
       "    </tr>\n",
       "    <tr>\n",
       "      <th>13</th>\n",
       "      <td>freight_value</td>\n",
       "      <td>float64</td>\n",
       "      <td>0</td>\n",
       "      <td>6740</td>\n",
       "      <td>8.72</td>\n",
       "      <td>7.78</td>\n",
       "      <td>7.78</td>\n",
       "      <td>10.49</td>\n",
       "    </tr>\n",
       "    <tr>\n",
       "      <th>14</th>\n",
       "      <td>payment_sequential</td>\n",
       "      <td>float64</td>\n",
       "      <td>1</td>\n",
       "      <td>16</td>\n",
       "      <td>1.0</td>\n",
       "      <td>1.0</td>\n",
       "      <td>1.0</td>\n",
       "      <td>0.14</td>\n",
       "    </tr>\n",
       "    <tr>\n",
       "      <th>15</th>\n",
       "      <td>payment_type</td>\n",
       "      <td>object</td>\n",
       "      <td>1</td>\n",
       "      <td>4</td>\n",
       "      <td>credit_card</td>\n",
       "      <td>credit_card</td>\n",
       "      <td>credit_card</td>\n",
       "      <td>1.00</td>\n",
       "    </tr>\n",
       "    <tr>\n",
       "      <th>16</th>\n",
       "      <td>payment_installments</td>\n",
       "      <td>float64</td>\n",
       "      <td>1</td>\n",
       "      <td>24</td>\n",
       "      <td>1.0</td>\n",
       "      <td>3.0</td>\n",
       "      <td>1.0</td>\n",
       "      <td>2.49</td>\n",
       "    </tr>\n",
       "    <tr>\n",
       "      <th>17</th>\n",
       "      <td>payment_value</td>\n",
       "      <td>float64</td>\n",
       "      <td>1</td>\n",
       "      <td>27819</td>\n",
       "      <td>18.12</td>\n",
       "      <td>37.77</td>\n",
       "      <td>37.77</td>\n",
       "      <td>13.83</td>\n",
       "    </tr>\n",
       "    <tr>\n",
       "      <th>18</th>\n",
       "      <td>review_id</td>\n",
       "      <td>object</td>\n",
       "      <td>739</td>\n",
       "      <td>96068</td>\n",
       "      <td>a54f0611adc9ed256b57ede6b6eb5114</td>\n",
       "      <td>b46f1e34512b0f4c74a72398b03ca788</td>\n",
       "      <td>dc90f19c2806f1abba9e72ad3c350073</td>\n",
       "      <td>16.55</td>\n",
       "    </tr>\n",
       "    <tr>\n",
       "      <th>19</th>\n",
       "      <td>review_score</td>\n",
       "      <td>float64</td>\n",
       "      <td>739</td>\n",
       "      <td>5</td>\n",
       "      <td>4.0</td>\n",
       "      <td>4.0</td>\n",
       "      <td>5.0</td>\n",
       "      <td>1.72</td>\n",
       "    </tr>\n",
       "    <tr>\n",
       "      <th>20</th>\n",
       "      <td>review_comment_title</td>\n",
       "      <td>object</td>\n",
       "      <td>85864</td>\n",
       "      <td>4475</td>\n",
       "      <td>NaN</td>\n",
       "      <td>NaN</td>\n",
       "      <td>NaN</td>\n",
       "      <td>9.90</td>\n",
       "    </tr>\n",
       "    <tr>\n",
       "      <th>21</th>\n",
       "      <td>review_comment_message</td>\n",
       "      <td>object</td>\n",
       "      <td>57590</td>\n",
       "      <td>35105</td>\n",
       "      <td>Não testei o produto ainda, mas ele veio corre...</td>\n",
       "      <td>Deveriam embalar melhor o produto. A caixa vei...</td>\n",
       "      <td>Só achei ela pequena pra seis xícaras ,mais é ...</td>\n",
       "      <td>14.76</td>\n",
       "    </tr>\n",
       "    <tr>\n",
       "      <th>22</th>\n",
       "      <td>review_creation_date</td>\n",
       "      <td>object</td>\n",
       "      <td>739</td>\n",
       "      <td>633</td>\n",
       "      <td>2017-10-11 00:00:00</td>\n",
       "      <td>2017-08-19 00:00:00</td>\n",
       "      <td>2017-08-08 00:00:00</td>\n",
       "      <td>8.76</td>\n",
       "    </tr>\n",
       "    <tr>\n",
       "      <th>23</th>\n",
       "      <td>review_answer_timestamp</td>\n",
       "      <td>object</td>\n",
       "      <td>739</td>\n",
       "      <td>95912</td>\n",
       "      <td>2017-10-12 03:43:48</td>\n",
       "      <td>2017-08-20 15:16:36</td>\n",
       "      <td>2017-08-08 23:26:23</td>\n",
       "      <td>16.55</td>\n",
       "    </tr>\n",
       "    <tr>\n",
       "      <th>24</th>\n",
       "      <td>product_category_name</td>\n",
       "      <td>object</td>\n",
       "      <td>0</td>\n",
       "      <td>71</td>\n",
       "      <td>utilidades_domesticas</td>\n",
       "      <td>utilidades_domesticas</td>\n",
       "      <td>utilidades_domesticas</td>\n",
       "      <td>4.72</td>\n",
       "    </tr>\n",
       "    <tr>\n",
       "      <th>25</th>\n",
       "      <td>product_name_lenght</td>\n",
       "      <td>float64</td>\n",
       "      <td>0</td>\n",
       "      <td>64</td>\n",
       "      <td>40.0</td>\n",
       "      <td>40.0</td>\n",
       "      <td>40.0</td>\n",
       "      <td>5.02</td>\n",
       "    </tr>\n",
       "    <tr>\n",
       "      <th>26</th>\n",
       "      <td>product_description_lenght</td>\n",
       "      <td>float64</td>\n",
       "      <td>0</td>\n",
       "      <td>2953</td>\n",
       "      <td>268.0</td>\n",
       "      <td>268.0</td>\n",
       "      <td>268.0</td>\n",
       "      <td>10.44</td>\n",
       "    </tr>\n",
       "    <tr>\n",
       "      <th>27</th>\n",
       "      <td>product_photos_qty</td>\n",
       "      <td>float64</td>\n",
       "      <td>0</td>\n",
       "      <td>19</td>\n",
       "      <td>4.0</td>\n",
       "      <td>4.0</td>\n",
       "      <td>4.0</td>\n",
       "      <td>2.21</td>\n",
       "    </tr>\n",
       "    <tr>\n",
       "      <th>28</th>\n",
       "      <td>product_weight_g</td>\n",
       "      <td>float64</td>\n",
       "      <td>1</td>\n",
       "      <td>2181</td>\n",
       "      <td>500.0</td>\n",
       "      <td>500.0</td>\n",
       "      <td>500.0</td>\n",
       "      <td>7.65</td>\n",
       "    </tr>\n",
       "    <tr>\n",
       "      <th>29</th>\n",
       "      <td>product_length_cm</td>\n",
       "      <td>float64</td>\n",
       "      <td>1</td>\n",
       "      <td>99</td>\n",
       "      <td>19.0</td>\n",
       "      <td>19.0</td>\n",
       "      <td>19.0</td>\n",
       "      <td>5.02</td>\n",
       "    </tr>\n",
       "    <tr>\n",
       "      <th>30</th>\n",
       "      <td>product_height_cm</td>\n",
       "      <td>float64</td>\n",
       "      <td>1</td>\n",
       "      <td>102</td>\n",
       "      <td>8.0</td>\n",
       "      <td>8.0</td>\n",
       "      <td>8.0</td>\n",
       "      <td>5.08</td>\n",
       "    </tr>\n",
       "    <tr>\n",
       "      <th>31</th>\n",
       "      <td>product_width_cm</td>\n",
       "      <td>float64</td>\n",
       "      <td>1</td>\n",
       "      <td>95</td>\n",
       "      <td>13.0</td>\n",
       "      <td>13.0</td>\n",
       "      <td>13.0</td>\n",
       "      <td>4.81</td>\n",
       "    </tr>\n",
       "    <tr>\n",
       "      <th>32</th>\n",
       "      <td>customer_unique_id</td>\n",
       "      <td>object</td>\n",
       "      <td>0</td>\n",
       "      <td>94088</td>\n",
       "      <td>7c396fd4830fd04220f754e42b4e5bff</td>\n",
       "      <td>3a51803cc0d012c3b5dc8b7528cb05f7</td>\n",
       "      <td>ef0996a1a279c26e7ecbd737be23d235</td>\n",
       "      <td>16.50</td>\n",
       "    </tr>\n",
       "    <tr>\n",
       "      <th>33</th>\n",
       "      <td>customer_zip_code_prefix</td>\n",
       "      <td>int64</td>\n",
       "      <td>0</td>\n",
       "      <td>14927</td>\n",
       "      <td>3149</td>\n",
       "      <td>3366</td>\n",
       "      <td>2290</td>\n",
       "      <td>13.14</td>\n",
       "    </tr>\n",
       "    <tr>\n",
       "      <th>34</th>\n",
       "      <td>customer_city</td>\n",
       "      <td>object</td>\n",
       "      <td>0</td>\n",
       "      <td>4095</td>\n",
       "      <td>sao paulo</td>\n",
       "      <td>sao paulo</td>\n",
       "      <td>sao paulo</td>\n",
       "      <td>8.17</td>\n",
       "    </tr>\n",
       "    <tr>\n",
       "      <th>35</th>\n",
       "      <td>customer_state</td>\n",
       "      <td>object</td>\n",
       "      <td>0</td>\n",
       "      <td>27</td>\n",
       "      <td>SP</td>\n",
       "      <td>SP</td>\n",
       "      <td>SP</td>\n",
       "      <td>3.08</td>\n",
       "    </tr>\n",
       "    <tr>\n",
       "      <th>36</th>\n",
       "      <td>seller_zip_code_prefix</td>\n",
       "      <td>float64</td>\n",
       "      <td>0</td>\n",
       "      <td>2207</td>\n",
       "      <td>9350.0</td>\n",
       "      <td>9350.0</td>\n",
       "      <td>9350.0</td>\n",
       "      <td>8.91</td>\n",
       "    </tr>\n",
       "    <tr>\n",
       "      <th>37</th>\n",
       "      <td>seller_city</td>\n",
       "      <td>object</td>\n",
       "      <td>0</td>\n",
       "      <td>604</td>\n",
       "      <td>maua</td>\n",
       "      <td>maua</td>\n",
       "      <td>maua</td>\n",
       "      <td>5.99</td>\n",
       "    </tr>\n",
       "    <tr>\n",
       "      <th>38</th>\n",
       "      <td>seller_state</td>\n",
       "      <td>object</td>\n",
       "      <td>0</td>\n",
       "      <td>23</td>\n",
       "      <td>SP</td>\n",
       "      <td>SP</td>\n",
       "      <td>SP</td>\n",
       "      <td>1.68</td>\n",
       "    </tr>\n",
       "    <tr>\n",
       "      <th>39</th>\n",
       "      <td>product_category_name_english</td>\n",
       "      <td>object</td>\n",
       "      <td>0</td>\n",
       "      <td>71</td>\n",
       "      <td>housewares</td>\n",
       "      <td>housewares</td>\n",
       "      <td>housewares</td>\n",
       "      <td>4.72</td>\n",
       "    </tr>\n",
       "  </tbody>\n",
       "</table>\n",
       "</div>"
      ],
      "text/plain": [
       "                             Name   dtypes   Miss   Unik  \\\n",
       "0                        order_id   object      0  97256   \n",
       "1                     customer_id   object      0  97256   \n",
       "2                    order_status   object      0      7   \n",
       "3        order_purchase_timestamp   object      0  96721   \n",
       "4               order_approved_at   object     13  88964   \n",
       "5    order_delivered_carrier_date   object    976  79802   \n",
       "6   order_delivered_customer_date   object   2131  94337   \n",
       "7   order_estimated_delivery_date   object      0    450   \n",
       "8                   order_item_id  float64      0      7   \n",
       "9                      product_id   object      0  31124   \n",
       "10                      seller_id   object      0   3019   \n",
       "11            shipping_limit_date   object      0  91739   \n",
       "12                          price  float64      0   5810   \n",
       "13                  freight_value  float64      0   6740   \n",
       "14             payment_sequential  float64      1     16   \n",
       "15                   payment_type   object      1      4   \n",
       "16           payment_installments  float64      1     24   \n",
       "17                  payment_value  float64      1  27819   \n",
       "18                      review_id   object    739  96068   \n",
       "19                   review_score  float64    739      5   \n",
       "20           review_comment_title   object  85864   4475   \n",
       "21         review_comment_message   object  57590  35105   \n",
       "22           review_creation_date   object    739    633   \n",
       "23        review_answer_timestamp   object    739  95912   \n",
       "24          product_category_name   object      0     71   \n",
       "25            product_name_lenght  float64      0     64   \n",
       "26     product_description_lenght  float64      0   2953   \n",
       "27             product_photos_qty  float64      0     19   \n",
       "28               product_weight_g  float64      1   2181   \n",
       "29              product_length_cm  float64      1     99   \n",
       "30              product_height_cm  float64      1    102   \n",
       "31               product_width_cm  float64      1     95   \n",
       "32             customer_unique_id   object      0  94088   \n",
       "33       customer_zip_code_prefix    int64      0  14927   \n",
       "34                  customer_city   object      0   4095   \n",
       "35                 customer_state   object      0     27   \n",
       "36         seller_zip_code_prefix  float64      0   2207   \n",
       "37                    seller_city   object      0    604   \n",
       "38                   seller_state   object      0     23   \n",
       "39  product_category_name_english   object      0     71   \n",
       "\n",
       "                                        Nilai Pertama  \\\n",
       "0                    e481f51cbdc54678b7cc49136f2d6af7   \n",
       "1                    9ef432eb6251297304e76186b10a928d   \n",
       "2                                           delivered   \n",
       "3                                 2017-10-02 10:56:33   \n",
       "4                                 2017-10-02 11:07:15   \n",
       "5                                 2017-10-04 19:55:00   \n",
       "6                                 2017-10-10 21:25:13   \n",
       "7                                 2017-10-18 00:00:00   \n",
       "8                                                 1.0   \n",
       "9                    87285b34884572647811a353c7ac498a   \n",
       "10                   3504c0cb71d7fa48d967e0e4c94d59d9   \n",
       "11                                2017-10-06 11:07:15   \n",
       "12                                              29.99   \n",
       "13                                               8.72   \n",
       "14                                                1.0   \n",
       "15                                        credit_card   \n",
       "16                                                1.0   \n",
       "17                                              18.12   \n",
       "18                   a54f0611adc9ed256b57ede6b6eb5114   \n",
       "19                                                4.0   \n",
       "20                                                NaN   \n",
       "21  Não testei o produto ainda, mas ele veio corre...   \n",
       "22                                2017-10-11 00:00:00   \n",
       "23                                2017-10-12 03:43:48   \n",
       "24                              utilidades_domesticas   \n",
       "25                                               40.0   \n",
       "26                                              268.0   \n",
       "27                                                4.0   \n",
       "28                                              500.0   \n",
       "29                                               19.0   \n",
       "30                                                8.0   \n",
       "31                                               13.0   \n",
       "32                   7c396fd4830fd04220f754e42b4e5bff   \n",
       "33                                               3149   \n",
       "34                                          sao paulo   \n",
       "35                                                 SP   \n",
       "36                                             9350.0   \n",
       "37                                               maua   \n",
       "38                                                 SP   \n",
       "39                                         housewares   \n",
       "\n",
       "                                          Nilai Kedua  \\\n",
       "0                    128e10d95713541c87cd1a2e48201934   \n",
       "1                    a20e8105f23924cd00833fd87daa0831   \n",
       "2                                           delivered   \n",
       "3                                 2017-08-15 18:29:31   \n",
       "4                                 2017-08-15 20:05:16   \n",
       "5                                 2017-08-17 15:28:33   \n",
       "6                                 2017-08-18 14:44:43   \n",
       "7                                 2017-08-28 00:00:00   \n",
       "8                                                 1.0   \n",
       "9                    87285b34884572647811a353c7ac498a   \n",
       "10                   3504c0cb71d7fa48d967e0e4c94d59d9   \n",
       "11                                2017-08-21 20:05:16   \n",
       "12                                              29.99   \n",
       "13                                               7.78   \n",
       "14                                                1.0   \n",
       "15                                        credit_card   \n",
       "16                                                3.0   \n",
       "17                                              37.77   \n",
       "18                   b46f1e34512b0f4c74a72398b03ca788   \n",
       "19                                                4.0   \n",
       "20                                                NaN   \n",
       "21  Deveriam embalar melhor o produto. A caixa vei...   \n",
       "22                                2017-08-19 00:00:00   \n",
       "23                                2017-08-20 15:16:36   \n",
       "24                              utilidades_domesticas   \n",
       "25                                               40.0   \n",
       "26                                              268.0   \n",
       "27                                                4.0   \n",
       "28                                              500.0   \n",
       "29                                               19.0   \n",
       "30                                                8.0   \n",
       "31                                               13.0   \n",
       "32                   3a51803cc0d012c3b5dc8b7528cb05f7   \n",
       "33                                               3366   \n",
       "34                                          sao paulo   \n",
       "35                                                 SP   \n",
       "36                                             9350.0   \n",
       "37                                               maua   \n",
       "38                                                 SP   \n",
       "39                                         housewares   \n",
       "\n",
       "                                         Nilai Ketiga  Entropy(Impurity)  \n",
       "0                    0e7e841ddf8f8f2de2bad69267ecfbcf              16.57  \n",
       "1                    26c7ac168e1433912a51b924fbd34d34              16.57  \n",
       "2                                           delivered               0.19  \n",
       "3                                 2017-08-02 18:24:47              16.56  \n",
       "4                                 2017-08-02 18:43:15              16.39  \n",
       "5                                 2017-08-04 17:35:43              16.13  \n",
       "6                                 2017-08-07 18:30:01              16.52  \n",
       "7                                 2017-08-15 00:00:00               8.46  \n",
       "8                                                 1.0               0.12  \n",
       "9                    87285b34884572647811a353c7ac498a              13.58  \n",
       "10                   3504c0cb71d7fa48d967e0e4c94d59d9               9.44  \n",
       "11                                2017-08-08 18:37:31              16.45  \n",
       "12                                              29.99               9.57  \n",
       "13                                               7.78              10.49  \n",
       "14                                                1.0               0.14  \n",
       "15                                        credit_card               1.00  \n",
       "16                                                1.0               2.49  \n",
       "17                                              37.77              13.83  \n",
       "18                   dc90f19c2806f1abba9e72ad3c350073              16.55  \n",
       "19                                                5.0               1.72  \n",
       "20                                                NaN               9.90  \n",
       "21  Só achei ela pequena pra seis xícaras ,mais é ...              14.76  \n",
       "22                                2017-08-08 00:00:00               8.76  \n",
       "23                                2017-08-08 23:26:23              16.55  \n",
       "24                              utilidades_domesticas               4.72  \n",
       "25                                               40.0               5.02  \n",
       "26                                              268.0              10.44  \n",
       "27                                                4.0               2.21  \n",
       "28                                              500.0               7.65  \n",
       "29                                               19.0               5.02  \n",
       "30                                                8.0               5.08  \n",
       "31                                               13.0               4.81  \n",
       "32                   ef0996a1a279c26e7ecbd737be23d235              16.50  \n",
       "33                                               2290              13.14  \n",
       "34                                          sao paulo               8.17  \n",
       "35                                                 SP               3.08  \n",
       "36                                             9350.0               8.91  \n",
       "37                                               maua               5.99  \n",
       "38                                                 SP               1.68  \n",
       "39                                         housewares               4.72  "
      ]
     },
     "execution_count": 13,
     "metadata": {},
     "output_type": "execute_result"
    }
   ],
   "source": [
    "def tabelRingkasan(df):\n",
    "    print(f\"Ukuran dataset: {df.shape}\")\n",
    "    ringkasan = pd.DataFrame(df.dtypes,columns=['dtypes'])\n",
    "    ringkasan = ringkasan.reset_index()\n",
    "    ringkasan['Name'] = ringkasan['index']\n",
    "    ringkasan = ringkasan[['Name','dtypes']]\n",
    "    ringkasan['Miss'] = df.isnull().sum().values    \n",
    "    ringkasan['Unik'] = df.nunique().values\n",
    "    ringkasan['Nilai Pertama'] = df.loc[0].values\n",
    "    ringkasan['Nilai Kedua'] = df.loc[3].values\n",
    "    ringkasan['Nilai Ketiga'] = df.loc[4].values\n",
    "\n",
    "    for name in ringkasan['Name'].value_counts().index:\n",
    "        ringkasan.loc[ringkasan['Name'] == name, 'Entropy(Impurity)'] = round(stats.entropy(df[name].value_counts(normalize=True), base=2),2) \n",
    "\n",
    "    return ringkasan\n",
    "tabelRingkasan(data_semua)"
   ]
  },
  {
   "cell_type": "markdown",
   "metadata": {
    "id": "zzoNtj1MIoQc"
   },
   "source": [
    "Setelah mengerti data insigth, kita dapat mulai melihat dan mengolah data untuk mengetahui \"Sales\" dan \"Customer\"\n",
    "\n",
    "\n"
   ]
  },
  {
   "cell_type": "markdown",
   "metadata": {
    "id": "ocTy2GR9NrX0"
   },
   "source": [
    "# Pengolahan Data\n"
   ]
  },
  {
   "cell_type": "markdown",
   "metadata": {
    "id": "gX5fqV1GN1bR"
   },
   "source": [
    "##Price"
   ]
  },
  {
   "cell_type": "code",
   "execution_count": 14,
   "metadata": {
    "id": "aUgUBWOCQCXr"
   },
   "outputs": [
    {
     "name": "stderr",
     "output_type": "stream",
     "text": [
      "C:\\Users\\arifw\\anaconda3\\lib\\site-packages\\seaborn\\distributions.py:2557: FutureWarning: `distplot` is a deprecated function and will be removed in a future version. Please adapt your code to use either `displot` (a figure-level function with similar flexibility) or `histplot` (an axes-level function for histograms).\n",
      "  warnings.warn(msg, FutureWarning)\n",
      "C:\\Users\\arifw\\anaconda3\\lib\\site-packages\\seaborn\\distributions.py:2557: FutureWarning: `distplot` is a deprecated function and will be removed in a future version. Please adapt your code to use either `displot` (a figure-level function with similar flexibility) or `histplot` (an axes-level function for histograms).\n",
      "  warnings.warn(msg, FutureWarning)\n"
     ]
    },
    {
     "data": {
      "image/png": "[encoded data removed]",
      "text/plain": [
       "<Figure size 1152x864 with 3 Axes>"
      ]
     },
     "metadata": {
      "needs_background": "light"
     },
     "output_type": "display_data"
    }
   ],
   "source": [
    "#Untuk mengetahui persebaran harga produk yang terjual\n",
    "data_semua['price'].fillna(-1, inplace=True)\n",
    "\n",
    "plt.figure(figsize=(16,12))\n",
    "plt.suptitle('Price Distributions', fontsize=22)\n",
    "plt.subplot(221)\n",
    "g = sns.distplot(data_semua['price'])\n",
    "g.set_title(\"Price Distributions\", fontsize=18)\n",
    "g.set_xlabel(\"Price Values\")\n",
    "g.set_ylabel(\"Probability\", fontsize=15)\n",
    "\n",
    "plt.subplot(222)\n",
    "g1 = sns.distplot(np.log(data_semua['price']+1.5))\n",
    "g1.set_title(\"Price(LOG) Distributions\", fontsize=18)\n",
    "g1.set_xlabel(\"Price Values\")\n",
    "g1.set_ylabel(\"Probability\", fontsize=15)\n",
    "\n",
    "plt.subplot(212)\n",
    "g4 = plt.scatter(range(data_semua.shape[0]),\n",
    "                 np.sort(data_semua['price'].values), \n",
    "                 alpha=.1)\n",
    "g4= plt.title(\"ECDF of Prices\", fontsize=18)\n",
    "g4 = plt.xlabel(\"Index\")\n",
    "g4 = plt.ylabel(\"Price Distribution\", fontsize=15)\n",
    "g4 = plt.axhline(data_semua[data_semua['price'] != -1]['price'].mean(), color='black', \n",
    "           label='Mean Price', linewidth=2)\n",
    "g4 = plt.axhline(data_semua[data_semua['price'] != -1]['price'].mean() + (2.5*data_semua[data_semua['price'] != -1]['price'].std()),\n",
    "                 color='red', \n",
    "           label='Mean + 2*Stdev', linewidth=2)\n",
    "g4 = plt.legend()\n",
    "\n",
    "plt.subplots_adjust(hspace = 0.4, top = 0.85)\n",
    "\n",
    "plt.show()"
   ]
  },
  {
   "cell_type": "markdown",
   "metadata": {
    "id": "3FUh1L9eQtA5"
   },
   "source": [
    "Berdasarkan grafik diketathui:\n",
    "harga rata2 = 120.65\n",
    "nilai stdev = 184.11\n",
    "Sehingga nilai pengotor berada di angka di atas 580.92. Berdasarkan hal tersebut direkomendasikan untuk menjual barang di harga 12.65, dan menghindari menjual harga barang di sekitar 580.92"
   ]
  },
  {
   "cell_type": "markdown",
   "metadata": {
    "id": "_dR6s6u7OAbl"
   },
   "source": [
    "## Payment\n"
   ]
  },
  {
   "cell_type": "markdown",
   "metadata": {
    "id": "OWc5k7C2R1I6"
   },
   "source": [
    "Payment untuk melihat :\n",
    "1. Metode pembayaran yang sering digunakan\n",
    "2. Persebaran harga tiap metode pembayaran\n"
   ]
  },
  {
   "cell_type": "code",
   "execution_count": 15,
   "metadata": {
    "id": "Pm21D-1WTgP0"
   },
   "outputs": [],
   "source": [
    "data_semua['price_log'] = np.log(data_semua['price'] + 1.5)"
   ]
  },
  {
   "cell_type": "code",
   "execution_count": 16,
   "metadata": {
    "id": "tZkcwyYhSYZS"
   },
   "outputs": [
    {
     "data": {
      "image/png": "[encoded data removed]",
      "text/plain": [
       "<Figure size 1008x432 with 1 Axes>"
      ]
     },
     "metadata": {
      "needs_background": "light"
     },
     "output_type": "display_data"
    }
   ],
   "source": [
    "total = len(data_semua)\n",
    "\n",
    "plt.figure(figsize=(14,6))\n",
    "\n",
    "plt.suptitle('Payment Type Distributions', fontsize=22)\n",
    "\n",
    "plt.subplot(121)\n",
    "g = sns.countplot(x='payment_type', data=data_semua[data_semua['payment_type'] != 'not_defined'])\n",
    "g.set_title(\"Payment Type Count Distribution\", fontsize=20)\n",
    "g.set_xlabel(\"Payment Type Name\", fontsize=17)\n",
    "g.set_ylabel(\"Count\", fontsize=17)\n",
    "\n",
    "sizes = []\n",
    "for p in g.patches:\n",
    "    height = p.get_height()\n",
    "    sizes.append(height)\n",
    "    g.text(p.get_x()+p.get_width()/2.,\n",
    "            height + 3,\n",
    "            '{:1.2f}%'.format(height/total*100),\n",
    "            ha=\"center\", fontsize=14) \n",
    "    \n",
    "g.set_ylim(0, max(sizes) * 1.1)\n",
    "\n",
    "\n",
    "plt.show()"
   ]
  },
  {
   "cell_type": "markdown",
   "metadata": {
    "id": "Kz0MnxyEOHde"
   },
   "source": [
    "## Wilayah"
   ]
  },
  {
   "cell_type": "markdown",
   "metadata": {
    "id": "PTJbiaxdUfeO"
   },
   "source": [
    "### Customer State Distribution"
   ]
  },
  {
   "cell_type": "code",
   "execution_count": null,
   "metadata": {
    "id": "4uSfMW9nUoZU"
   },
   "outputs": [],
   "source": [
    "plt.figure(figsize=(16,12))\n",
    "\n",
    "plt.suptitle('CUSTOMER State Distributions', fontsize=22)\n",
    "\n",
    "\n",
    "plt.subplot(222)\n",
    "g3 = sns.boxplot(x='customer_state', y='freight_value', \n",
    "                 data=data_semua[data_semua['price'] != -1])\n",
    "g3.set_title(\"CUSTOMER's State by Freight Value\", fontsize=20)\n",
    "g3.set_xlabel(\"State Name Short\", fontsize=17)\n",
    "g3.set_ylabel(\"Freight Value\", fontsize=17)\n",
    "g3.set_xticklabels(g3.get_xticklabels(),rotation=45)\n",
    "\n",
    "plt.subplots_adjust(hspace = 0.5, top = 0.9)\n",
    "\n",
    "plt.show()"
   ]
  },
  {
   "cell_type": "markdown",
   "metadata": {
    "id": "DkOUeVHzXQtp"
   },
   "source": [
    "#### Pemetaan Wilayah"
   ]
  },
  {
   "cell_type": "code",
   "execution_count": null,
   "metadata": {
    "id": "U1f9T5gAXXpI"
   },
   "outputs": [],
   "source": [
    "##Penggabungan Tabel\n",
    "data_customer = data_customer.rename(columns={\"customer_zip_code_prefix\":\"geolocation_zip_code_prefix\"})\n",
    "data_lokasi_customer= pd.merge(data_customer, data_lokasi, on=\"geolocation_zip_code_prefix\", how=\"left\")\n",
    "data_lokasi_customer= data_lokasi_customer.drop_duplicates(subset =\"customer_unique_id\")\n",
    "data_lokasi_customer = data_lokasi_customer.dropna( subset=[\"geolocation_lat\"])\n",
    "data_lokasi_customer = data_lokasi_customer.dropna( subset=[\"geolocation_lng\"])\n",
    "data_lokasi_customer= data_lokasi_customer.head(1000)"
   ]
  },
  {
   "cell_type": "code",
   "execution_count": null,
   "metadata": {
    "id": "VdVCd2NlXvtB"
   },
   "outputs": [],
   "source": [
    "#Pembuatan Peta\n",
    "def pembuatanPeta(default_location=[data_lokasi_customer.geolocation_lat.mean(), data_lokasi_customer.geolocation_lng.mean()],default_zoom_start=7):\n",
    "  Peta= folium.Map (location=default_location, control_scale=True, zoom_start=default_zoom_start)\n",
    "  return  Peta\n",
    "Peta = pembuatanPeta()\n",
    "for index, info_lokasi in data_lokasi_customer.iterrows():\n",
    "    folium.Marker([info_lokasi[\"geolocation_lat\"], info_lokasi[\"geolocation_lng\"]], popup=info_lokasi[\"customer_unique_id\"]).add_to(Peta)\n",
    "Peta    "
   ]
  },
  {
   "cell_type": "markdown",
   "metadata": {
    "id": "8l4Y8iPAU0_Q"
   },
   "source": [
    "### Seller State Distribution"
   ]
  },
  {
   "cell_type": "code",
   "execution_count": null,
   "metadata": {
    "id": "H-1NYAvtU3Tn"
   },
   "outputs": [],
   "source": [
    "plt.figure(figsize=(16,12))\n",
    "\n",
    "plt.suptitle('SELLER State Distributions', fontsize=22)\n",
    "\n",
    "plt.subplot(212)\n",
    "g = sns.countplot(x='seller_state', data=data_semua, orient='h')\n",
    "g.set_title(\"Seller's State Distribution\", fontsize=20)\n",
    "g.set_xlabel(\"State Name Short\", fontsize=17)\n",
    "g.set_ylabel(\"Count\", fontsize=17)\n",
    "g.set_xticklabels(g.get_xticklabels(),rotation=45)\n",
    "sizes = []\n",
    "for p in g.patches:\n",
    "    height = p.get_height()\n",
    "    sizes.append(height)\n",
    "    g.text(p.get_x()+p.get_width()/2.,\n",
    "            height + 3,\n",
    "            '{:1.2f}%'.format(height/total*100),\n",
    "            ha=\"center\", fontsize=12) \n",
    "g.set_ylim(0, max(sizes) * 1.1)\n",
    "\n",
    "plt.subplot(221)\n",
    "g2 = sns.boxplot(x='seller_state', y='price_log', \n",
    "                 data=data_semua[data_semua['price'] != -1])\n",
    "g2.set_title(\"Seller's State by Price\", fontsize=20)\n",
    "g2.set_xlabel(\"State Name Short\", fontsize=17)\n",
    "g2.set_ylabel(\"Price(Log)\", fontsize=17)\n",
    "g2.set_xticklabels(g2.get_xticklabels(),rotation=45)\n",
    "\n",
    "plt.subplot(222)\n",
    "g3 = sns.boxplot(x='seller_state', y='freight_value', \n",
    "                 data=data_semua[data_semua['price'] != -1])\n",
    "g3.set_title(\"Seller's State by Freight Value\", fontsize=20)\n",
    "g3.set_xlabel(\"State Name Short\", fontsize=17)\n",
    "g3.set_ylabel(\"Freight Value\", fontsize=17)\n",
    "g3.set_xticklabels(g3.get_xticklabels(),rotation=45)\n",
    "\n",
    "plt.subplots_adjust(hspace = 0.5, top = 0.9)\n",
    "\n",
    "plt.show()"
   ]
  },
  {
   "cell_type": "markdown",
   "metadata": {
    "id": "2_Y8ADHnYyCE"
   },
   "source": [
    "#### Pemetaan Wilayah"
   ]
  },
  {
   "cell_type": "code",
   "execution_count": null,
   "metadata": {
    "id": "PGqGiNPwYuZG"
   },
   "outputs": [],
   "source": [
    "#Penggabungan data\n",
    "data_seller= data_seller.rename(columns={\"seller_zip_code_prefix\":\"geolocation_zip_code_prefix\"})\n",
    "data_lokasi_seller= pd.merge(data_seller, data_lokasi, on=\"geolocation_zip_code_prefix\")\n",
    "data_lokasi_seller= data_lokasi_seller.drop_duplicates(subset =\"seller_id\")\n",
    "data_lokasi_seller = data_lokasi_seller.dropna( subset=[\"geolocation_lat\"])\n",
    "data_lokasi_seller = data_lokasi_seller.dropna( subset=[\"geolocation_lng\"])\n",
    "data_lokasi_seller=data_lokasi_seller.head(100)"
   ]
  },
  {
   "cell_type": "code",
   "execution_count": null,
   "metadata": {
    "id": "10F9TlDcZHqH"
   },
   "outputs": [],
   "source": [
    "#Visualisasi\n",
    "#Visualisasi Map\n",
    "def pembuatanPetaSeller(default_location=[data_lokasi_seller.geolocation_lat.mean(), data_lokasi_seller.geolocation_lng.mean()],default_zoom_start=7):\n",
    "  PetaSeller= folium.Map(location=default_location, control_scale=True, zoom_start=default_zoom_start)\n",
    "  return  PetaSeller\n",
    "PetaSeller = pembuatanPetaSeller()\n",
    "PetaSeller\n",
    "for index, info_lokasi in data_lokasi_seller.iterrows():\n",
    "    folium.Marker([info_lokasi[\"geolocation_lat\"], info_lokasi[\"geolocation_lng\"]], popup=info_lokasi[\"seller_id\"]).add_to(PetaSeller)\n",
    "PetaSeller"
   ]
  },
  {
   "cell_type": "markdown",
   "metadata": {
    "id": "PB5xC6K4OWCS"
   },
   "source": [
    "##Item yang terjual"
   ]
  },
  {
   "cell_type": "markdown",
   "metadata": {
    "id": "47uM1FVgVm9F"
   },
   "source": [
    "Order Item Id"
   ]
  },
  {
   "cell_type": "code",
   "execution_count": null,
   "metadata": {
    "id": "fLnjBWSiN9y1"
   },
   "outputs": [],
   "source": [
    "data_semua['ord_new'] = data_semua['order_item_id'].copy()\n",
    "\n",
    "data_semua.loc[data_semua['order_item_id'].isin([7,8,9,10]), 'ord_new'] = '7 to 10'\n",
    "data_semua.loc[(data_semua['order_item_id'] > 10), 'ord_new'] = '10 to 20'"
   ]
  },
  {
   "cell_type": "code",
   "execution_count": null,
   "metadata": {
    "id": "EjIOz_HYVljK"
   },
   "outputs": [],
   "source": [
    "plt.figure(figsize=(14,10))\n",
    "\n",
    "\n",
    "plt.subplot(211)\n",
    "g = sns.countplot(x='ord_new', data=data_semua)\n",
    "g.set_title(\"Order Item Id Distribution\", fontsize=20)\n",
    "g.set_xlabel(\"State Name Short\", fontsize=17)\n",
    "g.set_ylabel(\"Count\", fontsize=17)\n",
    "sizes = []\n",
    "for p in g.patches:\n",
    "    height = p.get_height()\n",
    "    sizes.append(height)\n",
    "    g.text(p.get_x()+p.get_width()/2.,\n",
    "            height + 3,\n",
    "            '{:1.2f}%'.format(height/total*100),\n",
    "            ha=\"center\", fontsize=12) \n",
    "g.set_ylim(0, max(sizes) * 1.1)\n",
    "\n",
    "plt.subplot(212)\n",
    "g1 = sns.scatterplot(x='order_item_id', y='price_log',\n",
    "                     data=data_semua, alpha=.2)\n",
    "g1.set_title(\"Seller's State Distribution\", fontsize=20)\n",
    "g1.set_xlabel(\"State Name Short\", fontsize=17)\n",
    "g1.set_ylabel(\"Count\", fontsize=17)\n",
    "\n",
    "plt.subplots_adjust(hspace = 0.5, top = 0.9)\n",
    "\n",
    "plt.show()"
   ]
  }
 ],
 "metadata": {
  "colab": {
   "collapsed_sections": [
    "_dR6s6u7OAbl",
    "PTJbiaxdUfeO",
    "DkOUeVHzXQtp",
    "8l4Y8iPAU0_Q",
    "2_Y8ADHnYyCE",
    "PB5xC6K4OWCS"
   ],
   "name": "Cara.ipynb",
   "provenance": []
  },
  "kernelspec": {
   "display_name": "Python 3",
   "language": "python",
   "name": "python3"
  },
  "language_info": {
   "codemirror_mode": {
    "name": "ipython",
    "version": 3
   },
   "file_extension": ".py",
   "mimetype": "text/x-python",
   "name": "python",
   "nbconvert_exporter": "python",
   "pygments_lexer": "ipython3",
   "version": "3.8.8"
  }
 },
 "nbformat": 4,
 "nbformat_minor": 1
}
